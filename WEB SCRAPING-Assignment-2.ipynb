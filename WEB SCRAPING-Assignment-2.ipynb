{
 "cells": [
  {
   "cell_type": "code",
   "execution_count": 1,
   "id": "fb5c3c35",
   "metadata": {},
   "outputs": [],
   "source": [
    "# Web Scraping Using Selenium Library: An automation tool that behaves like human being and takes control of the browser."
   ]
  },
  {
   "cell_type": "markdown",
   "id": "811b27e6",
   "metadata": {},
   "source": [
    "# '''Write a python program to scrape data for “Data Analyst” Job position in “Bangalore” location. \n",
    "You have to scrape the job-title, job-location, company_name, experience_required. You have to scrape first 10 \n",
    "jobs data. \n",
    "This task will be done in following steps: \n",
    "1. First get the webpage https://www.naukri.com/ 2. Enter “Data Analyst” in “Skill, Designations, Companies” field and enter “Bangalore” in “enter the \n",
    "location” field. \n",
    "3. Then click the search button. \n",
    "4. Then scrape the data for the first 10 jobs results you get. \n",
    "5. Finally create a dataframe of the scraped data.'''"
   ]
  },
  {
   "cell_type": "markdown",
   "id": "fa6d82ee",
   "metadata": {},
   "source": [
    "# WeB Scraping with selenium from naukri .com\n"
   ]
  },
  {
   "cell_type": "code",
   "execution_count": 2,
   "id": "fb760435",
   "metadata": {},
   "outputs": [],
   "source": [
    "# import all necessary libraries\n",
    "\n",
    "import selenium\n",
    "import pandas as pd\n",
    "from selenium import webdriver"
   ]
  },
  {
   "cell_type": "code",
   "execution_count": 3,
   "id": "6df34364",
   "metadata": {},
   "outputs": [
    {
     "name": "stderr",
     "output_type": "stream",
     "text": [
      "<ipython-input-3-eb384377f2af>:3: DeprecationWarning: executable_path has been deprecated, please pass in a Service object\n",
      "  driver=webdriver.Chrome(r\"C:/Users/LENOVO/Downloads/chromedriver_win32/chromedriver.exe\")\n"
     ]
    }
   ],
   "source": [
    "# Open the driver\n",
    "\n",
    "driver=webdriver.Chrome(r\"C:/Users/LENOVO/Downloads/chromedriver_win32/chromedriver.exe\")"
   ]
  },
  {
   "cell_type": "code",
   "execution_count": null,
   "id": "6ac6af1b",
   "metadata": {},
   "outputs": [],
   "source": []
  },
  {
   "cell_type": "code",
   "execution_count": 4,
   "id": "9462497d",
   "metadata": {},
   "outputs": [],
   "source": [
    "# Use the required URL with the driver\n",
    "driver.get('https://www.naukri.com/')"
   ]
  },
  {
   "cell_type": "code",
   "execution_count": 5,
   "id": "9c3ecd58",
   "metadata": {},
   "outputs": [
    {
     "name": "stderr",
     "output_type": "stream",
     "text": [
      "<ipython-input-5-7a5d4578a29a>:2: DeprecationWarning: find_element_by_* commands are deprecated. Please use find_element() instead\n",
      "  search_job=driver.find_element_by_id('qsb-keyword-sugg')\n",
      "<ipython-input-5-7a5d4578a29a>:4: DeprecationWarning: find_element_by_* commands are deprecated. Please use find_element() instead\n",
      "  search_loc=driver.find_element_by_xpath(\"//input[@id='qsb-location-sugg']\")\n"
     ]
    }
   ],
   "source": [
    "# Find the elements for job search of Data Analyst at Banglore\n",
    "search_job=driver.find_element_by_id('qsb-keyword-sugg')\n",
    "search_job.send_keys(\"Data Analyst\")\n",
    "search_loc=driver.find_element_by_xpath(\"//input[@id='qsb-location-sugg']\")\n",
    "search_loc.send_keys('Bangalore')\n",
    "\n"
   ]
  },
  {
   "cell_type": "code",
   "execution_count": 6,
   "id": "e59c1974",
   "metadata": {},
   "outputs": [
    {
     "name": "stderr",
     "output_type": "stream",
     "text": [
      "<ipython-input-6-0f6050a16e41>:3: DeprecationWarning: find_element_by_* commands are deprecated. Please use find_element() instead\n",
      "  search_btn=driver.find_element_by_xpath(\"//div[@class='search-btn']/button\")\n"
     ]
    }
   ],
   "source": [
    "# Activate the search button for searching the specified Jab with location\n",
    "\n",
    "search_btn=driver.find_element_by_xpath(\"//div[@class='search-btn']/button\")\n",
    "search_btn.click()"
   ]
  },
  {
   "cell_type": "code",
   "execution_count": 7,
   "id": "43089ec9",
   "metadata": {},
   "outputs": [],
   "source": [
    "\n",
    "url='https://www.naukri.com/data-analyst-jobs-in-bangalore?k=data%20analyst&l=bangalore'"
   ]
  },
  {
   "cell_type": "code",
   "execution_count": 8,
   "id": "6d02ba2c",
   "metadata": {},
   "outputs": [],
   "source": [
    "driver.get(url)"
   ]
  },
  {
   "cell_type": "code",
   "execution_count": 9,
   "id": "56fa01bd",
   "metadata": {},
   "outputs": [],
   "source": [
    "## Need to extract Job_titles,Company_names,Location_list,experience_list,job_description\n",
    "\n",
    "job_titles=[]\n",
    "company_names=[]\n",
    "location_list=[]\n",
    "experience_list=[]\n",
    "\n",
    "\n"
   ]
  },
  {
   "cell_type": "code",
   "execution_count": 10,
   "id": "bd0331e4",
   "metadata": {},
   "outputs": [
    {
     "name": "stderr",
     "output_type": "stream",
     "text": [
      "<ipython-input-10-e2c9163af812>:3: DeprecationWarning: find_elements_by_* commands are deprecated. Please use find_elements() instead\n",
      "  job_tag=driver.find_elements_by_xpath(\"//a[@class='title fw500 ellipsis']\")\n"
     ]
    },
    {
     "data": {
      "text/plain": [
       "[<selenium.webdriver.remote.webelement.WebElement (session=\"1ed491fc0d86ec6af3b145c3416c2325\", element=\"5f0db71e-ba94-411b-a4eb-b5436022ca44\")>,\n",
       " <selenium.webdriver.remote.webelement.WebElement (session=\"1ed491fc0d86ec6af3b145c3416c2325\", element=\"9493334c-b2c9-4366-8c30-f4f52972db12\")>,\n",
       " <selenium.webdriver.remote.webelement.WebElement (session=\"1ed491fc0d86ec6af3b145c3416c2325\", element=\"02ef2194-0f7d-4903-9a52-0ced06c1f4c2\")>,\n",
       " <selenium.webdriver.remote.webelement.WebElement (session=\"1ed491fc0d86ec6af3b145c3416c2325\", element=\"7aa64e07-6dd4-4007-ace0-867a30734a4a\")>,\n",
       " <selenium.webdriver.remote.webelement.WebElement (session=\"1ed491fc0d86ec6af3b145c3416c2325\", element=\"d1cf7f52-6415-45c3-b408-7739f78a257f\")>]"
      ]
     },
     "execution_count": 10,
     "metadata": {},
     "output_type": "execute_result"
    }
   ],
   "source": [
    "# For extracting job titles\n",
    "\n",
    "job_tag=driver.find_elements_by_xpath(\"//a[@class='title fw500 ellipsis']\")\n",
    "job_tag[0:5]"
   ]
  },
  {
   "cell_type": "code",
   "execution_count": 11,
   "id": "e3a38a1b",
   "metadata": {},
   "outputs": [
    {
     "data": {
      "text/plain": [
       "['Senior Data Analyst',\n",
       " 'Global Business Data Analyst',\n",
       " 'Junior Data Analyst/ Scientist- Fresher Position',\n",
       " 'Senior Data Analyst - Einstein Analytics',\n",
       " 'Hiring -Data Analyst, Business Analyst, MIS Analyst -3rd Party Payroll']"
      ]
     },
     "execution_count": 11,
     "metadata": {},
     "output_type": "execute_result"
    }
   ],
   "source": [
    "# Get text data out of job_tags\n",
    "for i in job_tag:\n",
    "    title=i.text\n",
    "    job_titles.append(title)\n",
    "job_titles[0:5]"
   ]
  },
  {
   "cell_type": "code",
   "execution_count": 12,
   "id": "97c628bc",
   "metadata": {},
   "outputs": [
    {
     "name": "stderr",
     "output_type": "stream",
     "text": [
      "<ipython-input-12-f62a170f81c0>:3: DeprecationWarning: find_elements_by_* commands are deprecated. Please use find_elements() instead\n",
      "  company_tag=driver.find_elements_by_xpath(\"//a[@class='subTitle ellipsis fleft']\")\n"
     ]
    },
    {
     "data": {
      "text/plain": [
       "[<selenium.webdriver.remote.webelement.WebElement (session=\"1ed491fc0d86ec6af3b145c3416c2325\", element=\"4a1799a7-91ac-43a9-b74b-6b7dca24d76e\")>,\n",
       " <selenium.webdriver.remote.webelement.WebElement (session=\"1ed491fc0d86ec6af3b145c3416c2325\", element=\"535ea6e2-2edf-448b-b095-b63afd247227\")>,\n",
       " <selenium.webdriver.remote.webelement.WebElement (session=\"1ed491fc0d86ec6af3b145c3416c2325\", element=\"0940ceb1-f4d5-4917-a64d-d5dbc3213c24\")>,\n",
       " <selenium.webdriver.remote.webelement.WebElement (session=\"1ed491fc0d86ec6af3b145c3416c2325\", element=\"f4f80c8e-638b-4796-950a-eb457259c584\")>,\n",
       " <selenium.webdriver.remote.webelement.WebElement (session=\"1ed491fc0d86ec6af3b145c3416c2325\", element=\"945da1df-4c30-458d-916e-0bcc5feaac25\")>]"
      ]
     },
     "execution_count": 12,
     "metadata": {},
     "output_type": "execute_result"
    }
   ],
   "source": [
    "# For extracting company titles\n",
    "\n",
    "company_tag=driver.find_elements_by_xpath(\"//a[@class='subTitle ellipsis fleft']\")\n",
    "company_tag[0:5]"
   ]
  },
  {
   "cell_type": "code",
   "execution_count": 13,
   "id": "c70ebb24",
   "metadata": {},
   "outputs": [
    {
     "data": {
      "text/plain": [
       "['Schneider Electric',\n",
       " 'Schneider Electric',\n",
       " 'Sejal Consulting Hub',\n",
       " 'Enquero',\n",
       " 'Flipkart']"
      ]
     },
     "execution_count": 13,
     "metadata": {},
     "output_type": "execute_result"
    }
   ],
   "source": [
    "# Get text data out of company_tags\n",
    "for i in company_tag:\n",
    "    company=i.text\n",
    "    company_names.append(company)\n",
    "company_names[0:5]"
   ]
  },
  {
   "cell_type": "code",
   "execution_count": 14,
   "id": "9e3bd6f4",
   "metadata": {},
   "outputs": [
    {
     "name": "stderr",
     "output_type": "stream",
     "text": [
      "<ipython-input-14-152aca856d7f>:3: DeprecationWarning: find_elements_by_* commands are deprecated. Please use find_elements() instead\n",
      "  location_tag=driver.find_elements_by_xpath(\"//li[@class='fleft grey-text br2 placeHolderLi location' ]\")\n"
     ]
    },
    {
     "data": {
      "text/plain": [
       "[<selenium.webdriver.remote.webelement.WebElement (session=\"1ed491fc0d86ec6af3b145c3416c2325\", element=\"6fab299a-d33e-4076-882a-7388fdef624e\")>,\n",
       " <selenium.webdriver.remote.webelement.WebElement (session=\"1ed491fc0d86ec6af3b145c3416c2325\", element=\"74f5f918-c8db-476c-9d72-ad0927343517\")>,\n",
       " <selenium.webdriver.remote.webelement.WebElement (session=\"1ed491fc0d86ec6af3b145c3416c2325\", element=\"18b1b02a-e7df-42a7-b60d-1cd60aa10f52\")>,\n",
       " <selenium.webdriver.remote.webelement.WebElement (session=\"1ed491fc0d86ec6af3b145c3416c2325\", element=\"892258ac-01a8-4e76-914a-a842e68953a5\")>,\n",
       " <selenium.webdriver.remote.webelement.WebElement (session=\"1ed491fc0d86ec6af3b145c3416c2325\", element=\"161315b1-ff2b-4502-93ce-e1c830befcb1\")>]"
      ]
     },
     "execution_count": 14,
     "metadata": {},
     "output_type": "execute_result"
    }
   ],
   "source": [
    "# For extracting job titles\n",
    "\n",
    "location_tag=driver.find_elements_by_xpath(\"//li[@class='fleft grey-text br2 placeHolderLi location' ]\")\n",
    "location_tag[0:5]"
   ]
  },
  {
   "cell_type": "code",
   "execution_count": 15,
   "id": "fa6f2ee1",
   "metadata": {},
   "outputs": [
    {
     "data": {
      "text/plain": [
       "['Bangalore/Bengaluru',\n",
       " 'Bangalore/Bengaluru',\n",
       " 'Hyderabad/Secunderabad, Bangalore/Bengaluru, Mumbai (All Areas)\\n(WFH during Covid)',\n",
       " 'Hyderabad/Secunderabad, Bangalore/Bengaluru',\n",
       " 'Bangalore/Bengaluru']"
      ]
     },
     "execution_count": 15,
     "metadata": {},
     "output_type": "execute_result"
    }
   ],
   "source": [
    "# Get text data out of location_list\n",
    "for i in location_tag:\n",
    "    location=i.text\n",
    "    location_list.append(location)\n",
    "location_list[0:5]"
   ]
  },
  {
   "cell_type": "code",
   "execution_count": 16,
   "id": "be9d94ca",
   "metadata": {},
   "outputs": [
    {
     "name": "stderr",
     "output_type": "stream",
     "text": [
      "<ipython-input-16-5352971ce89b>:3: DeprecationWarning: find_elements_by_* commands are deprecated. Please use find_elements() instead\n",
      "  experience_tag=driver.find_elements_by_xpath(\"//li[@class='fleft grey-text br2 placeHolderLi experience' ]/span\")\n"
     ]
    },
    {
     "data": {
      "text/plain": [
       "[<selenium.webdriver.remote.webelement.WebElement (session=\"1ed491fc0d86ec6af3b145c3416c2325\", element=\"9c015845-3da3-45ad-a607-e4d97e7d9f7c\")>,\n",
       " <selenium.webdriver.remote.webelement.WebElement (session=\"1ed491fc0d86ec6af3b145c3416c2325\", element=\"3342304e-0f98-4a93-9cff-76e8803d3507\")>,\n",
       " <selenium.webdriver.remote.webelement.WebElement (session=\"1ed491fc0d86ec6af3b145c3416c2325\", element=\"aa18342c-f804-45a4-8392-8e3f9f2baebf\")>,\n",
       " <selenium.webdriver.remote.webelement.WebElement (session=\"1ed491fc0d86ec6af3b145c3416c2325\", element=\"27f4ae9f-73ee-42ac-a388-7ca8d9d886e9\")>,\n",
       " <selenium.webdriver.remote.webelement.WebElement (session=\"1ed491fc0d86ec6af3b145c3416c2325\", element=\"00963146-514b-4110-adb1-ed257f5d0990\")>]"
      ]
     },
     "execution_count": 16,
     "metadata": {},
     "output_type": "execute_result"
    }
   ],
   "source": [
    "# For extracting experience_list\n",
    "\n",
    "experience_tag=driver.find_elements_by_xpath(\"//li[@class='fleft grey-text br2 placeHolderLi experience' ]/span\")\n",
    "experience_tag[0:5]"
   ]
  },
  {
   "cell_type": "code",
   "execution_count": 17,
   "id": "541ba0bf",
   "metadata": {},
   "outputs": [
    {
     "data": {
      "text/plain": [
       "['0-2 Yrs', '2-5 Yrs', '', '', '']"
      ]
     },
     "execution_count": 17,
     "metadata": {},
     "output_type": "execute_result"
    }
   ],
   "source": [
    "# Get text data out of experience_list\n",
    "for i in experience_tag:\n",
    "    experience=i.text\n",
    "    experience_list.append(experience)\n",
    "experience_list[0:5]\n"
   ]
  },
  {
   "cell_type": "code",
   "execution_count": 18,
   "id": "a575b31d",
   "metadata": {},
   "outputs": [
    {
     "name": "stdout",
     "output_type": "stream",
     "text": [
      "20 20 20 20\n"
     ]
    }
   ],
   "source": [
    "print(len(job_titles),len(company_names),len(location_list),len(experience_list))"
   ]
  },
  {
   "cell_type": "code",
   "execution_count": 19,
   "id": "b6877d94",
   "metadata": {},
   "outputs": [
    {
     "data": {
      "text/html": [
       "<div>\n",
       "<style scoped>\n",
       "    .dataframe tbody tr th:only-of-type {\n",
       "        vertical-align: middle;\n",
       "    }\n",
       "\n",
       "    .dataframe tbody tr th {\n",
       "        vertical-align: top;\n",
       "    }\n",
       "\n",
       "    .dataframe thead th {\n",
       "        text-align: right;\n",
       "    }\n",
       "</style>\n",
       "<table border=\"1\" class=\"dataframe\">\n",
       "  <thead>\n",
       "    <tr style=\"text-align: right;\">\n",
       "      <th></th>\n",
       "      <th>title</th>\n",
       "      <th>company</th>\n",
       "      <th>location</th>\n",
       "      <th>experience</th>\n",
       "    </tr>\n",
       "  </thead>\n",
       "  <tbody>\n",
       "    <tr>\n",
       "      <th>0</th>\n",
       "      <td>Senior Data Analyst</td>\n",
       "      <td>Schneider Electric</td>\n",
       "      <td>Bangalore/Bengaluru</td>\n",
       "      <td>0-2 Yrs</td>\n",
       "    </tr>\n",
       "    <tr>\n",
       "      <th>1</th>\n",
       "      <td>Global Business Data Analyst</td>\n",
       "      <td>Schneider Electric</td>\n",
       "      <td>Bangalore/Bengaluru</td>\n",
       "      <td>2-5 Yrs</td>\n",
       "    </tr>\n",
       "    <tr>\n",
       "      <th>2</th>\n",
       "      <td>Junior Data Analyst/ Scientist- Fresher Position</td>\n",
       "      <td>Sejal Consulting Hub</td>\n",
       "      <td>Hyderabad/Secunderabad, Bangalore/Bengaluru, M...</td>\n",
       "      <td></td>\n",
       "    </tr>\n",
       "    <tr>\n",
       "      <th>3</th>\n",
       "      <td>Senior Data Analyst - Einstein Analytics</td>\n",
       "      <td>Enquero</td>\n",
       "      <td>Hyderabad/Secunderabad, Bangalore/Bengaluru</td>\n",
       "      <td></td>\n",
       "    </tr>\n",
       "    <tr>\n",
       "      <th>4</th>\n",
       "      <td>Hiring -Data Analyst, Business Analyst, MIS An...</td>\n",
       "      <td>Flipkart</td>\n",
       "      <td>Bangalore/Bengaluru</td>\n",
       "      <td></td>\n",
       "    </tr>\n",
       "    <tr>\n",
       "      <th>5</th>\n",
       "      <td>Global Tax Automation &amp; Operations | Data Scie...</td>\n",
       "      <td>Dell International Services India Private Limited</td>\n",
       "      <td>Bangalore/Bengaluru</td>\n",
       "      <td></td>\n",
       "    </tr>\n",
       "    <tr>\n",
       "      <th>6</th>\n",
       "      <td>Data Analyst</td>\n",
       "      <td>KVP Business Solutions Pvt Ltd</td>\n",
       "      <td>Bangalore/Bengaluru</td>\n",
       "      <td></td>\n",
       "    </tr>\n",
       "    <tr>\n",
       "      <th>7</th>\n",
       "      <td>Data Analyst with SQL</td>\n",
       "      <td>Wipro</td>\n",
       "      <td></td>\n",
       "      <td></td>\n",
       "    </tr>\n",
       "    <tr>\n",
       "      <th>8</th>\n",
       "      <td>HR Data Governance Senior Analyst</td>\n",
       "      <td>Dell International Services India Private Limited</td>\n",
       "      <td></td>\n",
       "      <td></td>\n",
       "    </tr>\n",
       "    <tr>\n",
       "      <th>9</th>\n",
       "      <td>Senior Analyst, Data Quality Analytics</td>\n",
       "      <td>Dell International Services India Private Limited</td>\n",
       "      <td></td>\n",
       "      <td></td>\n",
       "    </tr>\n",
       "  </tbody>\n",
       "</table>\n",
       "</div>"
      ],
      "text/plain": [
       "                                               title  \\\n",
       "0                                Senior Data Analyst   \n",
       "1                       Global Business Data Analyst   \n",
       "2   Junior Data Analyst/ Scientist- Fresher Position   \n",
       "3           Senior Data Analyst - Einstein Analytics   \n",
       "4  Hiring -Data Analyst, Business Analyst, MIS An...   \n",
       "5  Global Tax Automation & Operations | Data Scie...   \n",
       "6                                       Data Analyst   \n",
       "7                              Data Analyst with SQL   \n",
       "8                  HR Data Governance Senior Analyst   \n",
       "9             Senior Analyst, Data Quality Analytics   \n",
       "\n",
       "                                             company  \\\n",
       "0                                 Schneider Electric   \n",
       "1                                 Schneider Electric   \n",
       "2                               Sejal Consulting Hub   \n",
       "3                                            Enquero   \n",
       "4                                           Flipkart   \n",
       "5  Dell International Services India Private Limited   \n",
       "6                     KVP Business Solutions Pvt Ltd   \n",
       "7                                              Wipro   \n",
       "8  Dell International Services India Private Limited   \n",
       "9  Dell International Services India Private Limited   \n",
       "\n",
       "                                            location experience  \n",
       "0                                Bangalore/Bengaluru    0-2 Yrs  \n",
       "1                                Bangalore/Bengaluru    2-5 Yrs  \n",
       "2  Hyderabad/Secunderabad, Bangalore/Bengaluru, M...             \n",
       "3        Hyderabad/Secunderabad, Bangalore/Bengaluru             \n",
       "4                                Bangalore/Bengaluru             \n",
       "5                                Bangalore/Bengaluru             \n",
       "6                                Bangalore/Bengaluru             \n",
       "7                                                                \n",
       "8                                                                \n",
       "9                                                                "
      ]
     },
     "execution_count": 19,
     "metadata": {},
     "output_type": "execute_result"
    }
   ],
   "source": [
    "# Prepare a DataFrame with the First 10 job search only\n",
    "\n",
    "jobs=pd.DataFrame({})\n",
    "jobs['title']=job_titles\n",
    "jobs['company']=company_names\n",
    "jobs['location']=location_list\n",
    "jobs['experience']=experience_list\n",
    "jobs[0:10]"
   ]
  },
  {
   "cell_type": "code",
   "execution_count": 20,
   "id": "7ebf676e",
   "metadata": {},
   "outputs": [],
   "source": [
    "driver.close()"
   ]
  },
  {
   "cell_type": "markdown",
   "id": "be1f9da9",
   "metadata": {},
   "source": [
    "# ''' Write a python program to scrape data for “Data Scientist” Job position in “Bangalore” location. \n",
    "You have to scrape the job-title, job-location, company_name. You have to scrape first 10 jobs data. \n",
    "This task will be done in following steps: \n",
    "1. First get the webpage https://www.naukri.com/ 2. Enter “Data Scientist” in “Skill, Designations, Companies” field and enter “Bangalore” in “enter the \n",
    "location” field. \n",
    "3. Then click the search button. \n",
    "4. Then scrape the data for the first 10 jobs results you get. \n",
    "5. Finally create a dataframe of the scraped data. '''"
   ]
  },
  {
   "cell_type": "code",
   "execution_count": 21,
   "id": "3171428e",
   "metadata": {},
   "outputs": [
    {
     "name": "stderr",
     "output_type": "stream",
     "text": [
      "<ipython-input-21-eb384377f2af>:3: DeprecationWarning: executable_path has been deprecated, please pass in a Service object\n",
      "  driver=webdriver.Chrome(r\"C:/Users/LENOVO/Downloads/chromedriver_win32/chromedriver.exe\")\n"
     ]
    }
   ],
   "source": [
    "# Open the driver\n",
    "\n",
    "driver=webdriver.Chrome(r\"C:/Users/LENOVO/Downloads/chromedriver_win32/chromedriver.exe\")"
   ]
  },
  {
   "cell_type": "code",
   "execution_count": 22,
   "id": "a328fc83",
   "metadata": {},
   "outputs": [],
   "source": [
    "# Use the required URL with the driver\n",
    "driver.get('https://www.naukri.com/')"
   ]
  },
  {
   "cell_type": "code",
   "execution_count": 23,
   "id": "3f00c9b3",
   "metadata": {},
   "outputs": [
    {
     "name": "stderr",
     "output_type": "stream",
     "text": [
      "<ipython-input-23-b63963e36cfd>:2: DeprecationWarning: find_element_by_* commands are deprecated. Please use find_element() instead\n",
      "  search_job=driver.find_element_by_id('qsb-keyword-sugg')\n",
      "<ipython-input-23-b63963e36cfd>:4: DeprecationWarning: find_element_by_* commands are deprecated. Please use find_element() instead\n",
      "  search_loc=driver.find_element_by_xpath(\"//input[@id='qsb-location-sugg']\")\n"
     ]
    }
   ],
   "source": [
    "# Find the elements for job search of Data Analyst at Banglore\n",
    "search_job=driver.find_element_by_id('qsb-keyword-sugg')\n",
    "search_job.send_keys(\"Data Scientist\")\n",
    "search_loc=driver.find_element_by_xpath(\"//input[@id='qsb-location-sugg']\")\n",
    "search_loc.send_keys('Bangalore')\n"
   ]
  },
  {
   "cell_type": "code",
   "execution_count": 24,
   "id": "aa5e5a95",
   "metadata": {},
   "outputs": [
    {
     "name": "stderr",
     "output_type": "stream",
     "text": [
      "<ipython-input-24-0f6050a16e41>:3: DeprecationWarning: find_element_by_* commands are deprecated. Please use find_element() instead\n",
      "  search_btn=driver.find_element_by_xpath(\"//div[@class='search-btn']/button\")\n"
     ]
    }
   ],
   "source": [
    "# Activate the search button for searching the specified Jab with location\n",
    "\n",
    "search_btn=driver.find_element_by_xpath(\"//div[@class='search-btn']/button\")\n",
    "search_btn.click()"
   ]
  },
  {
   "cell_type": "code",
   "execution_count": 25,
   "id": "9cb1f705",
   "metadata": {},
   "outputs": [],
   "source": [
    "url='https://www.naukri.com/data-scientist-jobs-in-bangalore?k=data%20scientist&l=bangalore'"
   ]
  },
  {
   "cell_type": "code",
   "execution_count": 26,
   "id": "387fb565",
   "metadata": {},
   "outputs": [],
   "source": [
    "driver.get(url)"
   ]
  },
  {
   "cell_type": "code",
   "execution_count": 27,
   "id": "208d15ec",
   "metadata": {},
   "outputs": [],
   "source": [
    "## Need to extract Job_titles,Company_names,Location_list,experience_list,job_description\n",
    "\n",
    "job_titles=[]\n",
    "company_names=[]\n",
    "location_list=[]\n",
    "experience_list=[]\n"
   ]
  },
  {
   "cell_type": "code",
   "execution_count": 28,
   "id": "770b1453",
   "metadata": {},
   "outputs": [
    {
     "name": "stderr",
     "output_type": "stream",
     "text": [
      "<ipython-input-28-e2c9163af812>:3: DeprecationWarning: find_elements_by_* commands are deprecated. Please use find_elements() instead\n",
      "  job_tag=driver.find_elements_by_xpath(\"//a[@class='title fw500 ellipsis']\")\n"
     ]
    },
    {
     "data": {
      "text/plain": [
       "[<selenium.webdriver.remote.webelement.WebElement (session=\"602d5194e46c687ce4171b84636c8381\", element=\"2a4b73c8-7814-4a27-94c4-07164a49f586\")>,\n",
       " <selenium.webdriver.remote.webelement.WebElement (session=\"602d5194e46c687ce4171b84636c8381\", element=\"90e2d621-1294-4b74-a65b-6908d14c5f92\")>,\n",
       " <selenium.webdriver.remote.webelement.WebElement (session=\"602d5194e46c687ce4171b84636c8381\", element=\"36b5b279-32bc-4be0-bc3e-84b9105fdd87\")>,\n",
       " <selenium.webdriver.remote.webelement.WebElement (session=\"602d5194e46c687ce4171b84636c8381\", element=\"1e95d6ae-38ef-4a38-a766-c11769187bd5\")>,\n",
       " <selenium.webdriver.remote.webelement.WebElement (session=\"602d5194e46c687ce4171b84636c8381\", element=\"8a457627-cc13-424a-b144-08d75c5feff8\")>]"
      ]
     },
     "execution_count": 28,
     "metadata": {},
     "output_type": "execute_result"
    }
   ],
   "source": [
    "# For extracting job titles\n",
    "\n",
    "job_tag=driver.find_elements_by_xpath(\"//a[@class='title fw500 ellipsis']\")\n",
    "job_tag[0:5]"
   ]
  },
  {
   "cell_type": "code",
   "execution_count": 29,
   "id": "074f60f1",
   "metadata": {},
   "outputs": [
    {
     "data": {
      "text/plain": [
       "['Global Tax Automation & Operations | Data Scientist Senior Analyst',\n",
       " 'Software Principal Engineer - Data Scientist',\n",
       " 'Lead Data Scientist',\n",
       " 'Global Tax Automation & Operations | Data Scientist Advisor',\n",
       " 'Senior Data Scientist | Walmart']"
      ]
     },
     "execution_count": 29,
     "metadata": {},
     "output_type": "execute_result"
    }
   ],
   "source": [
    "# Get text data out of job_tags\n",
    "for i in job_tag:\n",
    "    title=i.text\n",
    "    job_titles.append(title)\n",
    "job_titles[0:5]\n"
   ]
  },
  {
   "cell_type": "code",
   "execution_count": 30,
   "id": "711fb08c",
   "metadata": {},
   "outputs": [
    {
     "name": "stderr",
     "output_type": "stream",
     "text": [
      "<ipython-input-30-f62a170f81c0>:3: DeprecationWarning: find_elements_by_* commands are deprecated. Please use find_elements() instead\n",
      "  company_tag=driver.find_elements_by_xpath(\"//a[@class='subTitle ellipsis fleft']\")\n"
     ]
    },
    {
     "data": {
      "text/plain": [
       "[<selenium.webdriver.remote.webelement.WebElement (session=\"602d5194e46c687ce4171b84636c8381\", element=\"7e11eaf6-afd3-48ed-be13-ced1cff6e748\")>,\n",
       " <selenium.webdriver.remote.webelement.WebElement (session=\"602d5194e46c687ce4171b84636c8381\", element=\"cf573efb-82d0-48d9-b48f-3451b3deab59\")>,\n",
       " <selenium.webdriver.remote.webelement.WebElement (session=\"602d5194e46c687ce4171b84636c8381\", element=\"5f32f7b0-fd49-48f9-9c29-f3529da11257\")>,\n",
       " <selenium.webdriver.remote.webelement.WebElement (session=\"602d5194e46c687ce4171b84636c8381\", element=\"6ea4a401-ceea-4772-abdf-4f2272e88df9\")>,\n",
       " <selenium.webdriver.remote.webelement.WebElement (session=\"602d5194e46c687ce4171b84636c8381\", element=\"7482d3e7-8de2-49af-a2e4-547ebe8bb727\")>]"
      ]
     },
     "execution_count": 30,
     "metadata": {},
     "output_type": "execute_result"
    }
   ],
   "source": [
    "# For extracting company titles\n",
    "\n",
    "company_tag=driver.find_elements_by_xpath(\"//a[@class='subTitle ellipsis fleft']\")\n",
    "company_tag[0:5]"
   ]
  },
  {
   "cell_type": "code",
   "execution_count": 31,
   "id": "e5f4b2c2",
   "metadata": {},
   "outputs": [
    {
     "data": {
      "text/plain": [
       "['Dell International Services India Private Limited',\n",
       " 'Dell International Services India Private Limited',\n",
       " 'Thoucentric',\n",
       " 'Dell International Services India Private Limited',\n",
       " 'TALENT500 TECH (INDIA) PRIVATE LIMITED']"
      ]
     },
     "execution_count": 31,
     "metadata": {},
     "output_type": "execute_result"
    }
   ],
   "source": [
    "# Get text data out of company_tags\n",
    "for i in company_tag:\n",
    "    company=i.text\n",
    "    company_names.append(company)\n",
    "company_names[0:5]"
   ]
  },
  {
   "cell_type": "code",
   "execution_count": 32,
   "id": "b4a04113",
   "metadata": {},
   "outputs": [
    {
     "name": "stderr",
     "output_type": "stream",
     "text": [
      "<ipython-input-32-152aca856d7f>:3: DeprecationWarning: find_elements_by_* commands are deprecated. Please use find_elements() instead\n",
      "  location_tag=driver.find_elements_by_xpath(\"//li[@class='fleft grey-text br2 placeHolderLi location' ]\")\n"
     ]
    },
    {
     "data": {
      "text/plain": [
       "[<selenium.webdriver.remote.webelement.WebElement (session=\"602d5194e46c687ce4171b84636c8381\", element=\"7f5c798b-6219-4805-a1bc-ccb524a89f9d\")>,\n",
       " <selenium.webdriver.remote.webelement.WebElement (session=\"602d5194e46c687ce4171b84636c8381\", element=\"88552eb5-8b4b-4fa2-b3ad-d5abb53155b1\")>,\n",
       " <selenium.webdriver.remote.webelement.WebElement (session=\"602d5194e46c687ce4171b84636c8381\", element=\"e42bbbc2-bb41-4c92-92d1-3f3bcbd1a0a8\")>,\n",
       " <selenium.webdriver.remote.webelement.WebElement (session=\"602d5194e46c687ce4171b84636c8381\", element=\"f6beb6c5-466b-42e1-828b-3543c285a458\")>,\n",
       " <selenium.webdriver.remote.webelement.WebElement (session=\"602d5194e46c687ce4171b84636c8381\", element=\"ded8d124-dbf4-449f-b6f3-4c41f12eac63\")>]"
      ]
     },
     "execution_count": 32,
     "metadata": {},
     "output_type": "execute_result"
    }
   ],
   "source": [
    "# For extracting job titles\n",
    "\n",
    "location_tag=driver.find_elements_by_xpath(\"//li[@class='fleft grey-text br2 placeHolderLi location' ]\")\n",
    "location_tag[0:5]"
   ]
  },
  {
   "cell_type": "code",
   "execution_count": 33,
   "id": "347f5dc6",
   "metadata": {},
   "outputs": [
    {
     "data": {
      "text/plain": [
       "['Bangalore/Bengaluru',\n",
       " 'Bangalore/Bengaluru',\n",
       " 'Bangalore/Bengaluru',\n",
       " 'Bangalore/Bengaluru',\n",
       " 'Bangalore/Bengaluru']"
      ]
     },
     "execution_count": 33,
     "metadata": {},
     "output_type": "execute_result"
    }
   ],
   "source": [
    "# Get text data out of location_list\n",
    "for i in location_tag:\n",
    "    location=i.text\n",
    "    location_list.append(location)\n",
    "location_list[0:5]"
   ]
  },
  {
   "cell_type": "code",
   "execution_count": 34,
   "id": "eb7331fd",
   "metadata": {},
   "outputs": [
    {
     "name": "stderr",
     "output_type": "stream",
     "text": [
      "<ipython-input-34-5352971ce89b>:3: DeprecationWarning: find_elements_by_* commands are deprecated. Please use find_elements() instead\n",
      "  experience_tag=driver.find_elements_by_xpath(\"//li[@class='fleft grey-text br2 placeHolderLi experience' ]/span\")\n"
     ]
    },
    {
     "data": {
      "text/plain": [
       "[<selenium.webdriver.remote.webelement.WebElement (session=\"602d5194e46c687ce4171b84636c8381\", element=\"0391b414-d9a2-408c-9a0e-90643a1fa156\")>,\n",
       " <selenium.webdriver.remote.webelement.WebElement (session=\"602d5194e46c687ce4171b84636c8381\", element=\"86817008-9b8c-4d3b-b990-4239fa5f6569\")>,\n",
       " <selenium.webdriver.remote.webelement.WebElement (session=\"602d5194e46c687ce4171b84636c8381\", element=\"4e9990b1-19ac-41ad-be32-580b3eec5eb1\")>,\n",
       " <selenium.webdriver.remote.webelement.WebElement (session=\"602d5194e46c687ce4171b84636c8381\", element=\"35c4b8aa-3b42-4cff-92d5-f55ca4d90a31\")>,\n",
       " <selenium.webdriver.remote.webelement.WebElement (session=\"602d5194e46c687ce4171b84636c8381\", element=\"6a691326-dcca-41e5-8e4a-03103c15d16b\")>]"
      ]
     },
     "execution_count": 34,
     "metadata": {},
     "output_type": "execute_result"
    }
   ],
   "source": [
    "# For extracting experience_list\n",
    "\n",
    "experience_tag=driver.find_elements_by_xpath(\"//li[@class='fleft grey-text br2 placeHolderLi experience' ]/span\")\n",
    "experience_tag[0:5]"
   ]
  },
  {
   "cell_type": "code",
   "execution_count": 35,
   "id": "d2a452f8",
   "metadata": {},
   "outputs": [
    {
     "data": {
      "text/plain": [
       "['3-5 Yrs', '8-13 Yrs', '', '', '']"
      ]
     },
     "execution_count": 35,
     "metadata": {},
     "output_type": "execute_result"
    }
   ],
   "source": [
    "# Get text data out of experience_list\n",
    "for i in experience_tag:\n",
    "    experience=i.text\n",
    "    experience_list.append(experience)\n",
    "experience_list[0:5]"
   ]
  },
  {
   "cell_type": "code",
   "execution_count": 36,
   "id": "322e9666",
   "metadata": {},
   "outputs": [
    {
     "name": "stdout",
     "output_type": "stream",
     "text": [
      "20 20 20 20\n"
     ]
    }
   ],
   "source": [
    "print(len(job_titles),len(company_names),len(location_list),len(experience_list))"
   ]
  },
  {
   "cell_type": "code",
   "execution_count": 37,
   "id": "5b3f7a2a",
   "metadata": {},
   "outputs": [
    {
     "data": {
      "text/html": [
       "<div>\n",
       "<style scoped>\n",
       "    .dataframe tbody tr th:only-of-type {\n",
       "        vertical-align: middle;\n",
       "    }\n",
       "\n",
       "    .dataframe tbody tr th {\n",
       "        vertical-align: top;\n",
       "    }\n",
       "\n",
       "    .dataframe thead th {\n",
       "        text-align: right;\n",
       "    }\n",
       "</style>\n",
       "<table border=\"1\" class=\"dataframe\">\n",
       "  <thead>\n",
       "    <tr style=\"text-align: right;\">\n",
       "      <th></th>\n",
       "      <th>title</th>\n",
       "      <th>company</th>\n",
       "      <th>location</th>\n",
       "      <th>experience</th>\n",
       "    </tr>\n",
       "  </thead>\n",
       "  <tbody>\n",
       "    <tr>\n",
       "      <th>0</th>\n",
       "      <td>Global Tax Automation &amp; Operations | Data Scie...</td>\n",
       "      <td>Dell International Services India Private Limited</td>\n",
       "      <td>Bangalore/Bengaluru</td>\n",
       "      <td>3-5 Yrs</td>\n",
       "    </tr>\n",
       "    <tr>\n",
       "      <th>1</th>\n",
       "      <td>Software Principal Engineer - Data Scientist</td>\n",
       "      <td>Dell International Services India Private Limited</td>\n",
       "      <td>Bangalore/Bengaluru</td>\n",
       "      <td>8-13 Yrs</td>\n",
       "    </tr>\n",
       "    <tr>\n",
       "      <th>2</th>\n",
       "      <td>Lead Data Scientist</td>\n",
       "      <td>Thoucentric</td>\n",
       "      <td>Bangalore/Bengaluru</td>\n",
       "      <td></td>\n",
       "    </tr>\n",
       "    <tr>\n",
       "      <th>3</th>\n",
       "      <td>Global Tax Automation &amp; Operations | Data Scie...</td>\n",
       "      <td>Dell International Services India Private Limited</td>\n",
       "      <td>Bangalore/Bengaluru</td>\n",
       "      <td></td>\n",
       "    </tr>\n",
       "    <tr>\n",
       "      <th>4</th>\n",
       "      <td>Senior Data Scientist | Walmart</td>\n",
       "      <td>TALENT500 TECH (INDIA) PRIVATE LIMITED</td>\n",
       "      <td>Bangalore/Bengaluru</td>\n",
       "      <td></td>\n",
       "    </tr>\n",
       "    <tr>\n",
       "      <th>5</th>\n",
       "      <td>Data Scientist III</td>\n",
       "      <td>GROUPON SHARED SERVICES PVT LTD</td>\n",
       "      <td>Bangalore/Bengaluru</td>\n",
       "      <td></td>\n",
       "    </tr>\n",
       "    <tr>\n",
       "      <th>6</th>\n",
       "      <td>Data Scientist</td>\n",
       "      <td>Thoucentric</td>\n",
       "      <td>Bangalore/Bengaluru</td>\n",
       "      <td></td>\n",
       "    </tr>\n",
       "    <tr>\n",
       "      <th>7</th>\n",
       "      <td>Lead / Principal Data Scientist</td>\n",
       "      <td>Aviso Inc</td>\n",
       "      <td>Mumbai, Hyderabad/Secunderabad, Pune, Delhi / ...</td>\n",
       "      <td></td>\n",
       "    </tr>\n",
       "    <tr>\n",
       "      <th>8</th>\n",
       "      <td>Junior Data Analyst/ Scientist- Fresher Position</td>\n",
       "      <td>Sejal Consulting Hub</td>\n",
       "      <td>Hyderabad/Secunderabad, Bangalore/Bengaluru, M...</td>\n",
       "      <td></td>\n",
       "    </tr>\n",
       "    <tr>\n",
       "      <th>9</th>\n",
       "      <td>Junior Data Scientist</td>\n",
       "      <td>HAPPYMONK AI LABS PRIVATE LIMITED</td>\n",
       "      <td>Bangalore/Bengaluru</td>\n",
       "      <td></td>\n",
       "    </tr>\n",
       "  </tbody>\n",
       "</table>\n",
       "</div>"
      ],
      "text/plain": [
       "                                               title  \\\n",
       "0  Global Tax Automation & Operations | Data Scie...   \n",
       "1       Software Principal Engineer - Data Scientist   \n",
       "2                                Lead Data Scientist   \n",
       "3  Global Tax Automation & Operations | Data Scie...   \n",
       "4                    Senior Data Scientist | Walmart   \n",
       "5                                 Data Scientist III   \n",
       "6                                     Data Scientist   \n",
       "7                    Lead / Principal Data Scientist   \n",
       "8   Junior Data Analyst/ Scientist- Fresher Position   \n",
       "9                              Junior Data Scientist   \n",
       "\n",
       "                                             company  \\\n",
       "0  Dell International Services India Private Limited   \n",
       "1  Dell International Services India Private Limited   \n",
       "2                                        Thoucentric   \n",
       "3  Dell International Services India Private Limited   \n",
       "4             TALENT500 TECH (INDIA) PRIVATE LIMITED   \n",
       "5                    GROUPON SHARED SERVICES PVT LTD   \n",
       "6                                        Thoucentric   \n",
       "7                                          Aviso Inc   \n",
       "8                               Sejal Consulting Hub   \n",
       "9                  HAPPYMONK AI LABS PRIVATE LIMITED   \n",
       "\n",
       "                                            location experience  \n",
       "0                                Bangalore/Bengaluru    3-5 Yrs  \n",
       "1                                Bangalore/Bengaluru   8-13 Yrs  \n",
       "2                                Bangalore/Bengaluru             \n",
       "3                                Bangalore/Bengaluru             \n",
       "4                                Bangalore/Bengaluru             \n",
       "5                                Bangalore/Bengaluru             \n",
       "6                                Bangalore/Bengaluru             \n",
       "7  Mumbai, Hyderabad/Secunderabad, Pune, Delhi / ...             \n",
       "8  Hyderabad/Secunderabad, Bangalore/Bengaluru, M...             \n",
       "9                                Bangalore/Bengaluru             "
      ]
     },
     "execution_count": 37,
     "metadata": {},
     "output_type": "execute_result"
    }
   ],
   "source": [
    "# Prepare a DataFrame with the First 10 job search only\n",
    "\n",
    "jobs=pd.DataFrame({})\n",
    "jobs['title']=job_titles\n",
    "jobs['company']=company_names\n",
    "jobs['location']=location_list\n",
    "jobs['experience']=experience_list\n",
    "jobs[0:10]"
   ]
  },
  {
   "cell_type": "code",
   "execution_count": 38,
   "id": "ba51b0e8",
   "metadata": {},
   "outputs": [],
   "source": [
    "driver.close()"
   ]
  },
  {
   "cell_type": "markdown",
   "id": "7fee23b9",
   "metadata": {},
   "source": [
    "# '''You have to use the location and salary filter. \n",
    "You have to scrape data for “Data Scientist” designation for first 10 job results. \n",
    "You have to scrape the job-title, job-location, company name, experience required. \n",
    "The location filter to be used is “Delhi/NCR” The salary filter to be used is “3-6” lakhs: \n",
    "1. first get the webpage https://www.naukri.com/\n",
    "2. Enter “Data Scientist” in “Skill, Designations, and Companies” field. \n",
    "3. Then click the search button. \n",
    "4. Then apply the location filter and salary filter by checking the respective boxes \n",
    "5. Then scrape the data for the first 10 jobs results you get. \n",
    "6. Finally create a dataframe of the scraped data.'''"
   ]
  },
  {
   "cell_type": "code",
   "execution_count": 39,
   "id": "aedfd77e",
   "metadata": {},
   "outputs": [
    {
     "name": "stderr",
     "output_type": "stream",
     "text": [
      "<ipython-input-39-eb384377f2af>:3: DeprecationWarning: executable_path has been deprecated, please pass in a Service object\n",
      "  driver=webdriver.Chrome(r\"C:/Users/LENOVO/Downloads/chromedriver_win32/chromedriver.exe\")\n"
     ]
    }
   ],
   "source": [
    "# Open the driver\n",
    "\n",
    "driver=webdriver.Chrome(r\"C:/Users/LENOVO/Downloads/chromedriver_win32/chromedriver.exe\")"
   ]
  },
  {
   "cell_type": "code",
   "execution_count": 40,
   "id": "373302e3",
   "metadata": {},
   "outputs": [],
   "source": [
    "# Use the required URL with the driver\n",
    "driver.get('https://www.naukri.com/')"
   ]
  },
  {
   "cell_type": "code",
   "execution_count": 41,
   "id": "4f999939",
   "metadata": {},
   "outputs": [
    {
     "name": "stderr",
     "output_type": "stream",
     "text": [
      "<ipython-input-41-bc56952b4909>:2: DeprecationWarning: find_element_by_* commands are deprecated. Please use find_element() instead\n",
      "  search_job=driver.find_element_by_id('qsb-keyword-sugg')\n",
      "<ipython-input-41-bc56952b4909>:4: DeprecationWarning: find_element_by_* commands are deprecated. Please use find_element() instead\n",
      "  search_loc=driver.find_element_by_xpath(\"//input[@id='qsb-location-sugg']\")\n"
     ]
    }
   ],
   "source": [
    "# Find the elements for job search of Data Analyst at Banglore\n",
    "search_job=driver.find_element_by_id('qsb-keyword-sugg')\n",
    "search_job.send_keys(\"Data Scientist\")\n",
    "search_loc=driver.find_element_by_xpath(\"//input[@id='qsb-location-sugg']\")\n",
    "search_loc.send_keys('Delhi/NCR')"
   ]
  },
  {
   "cell_type": "code",
   "execution_count": 42,
   "id": "efb5b14f",
   "metadata": {},
   "outputs": [
    {
     "name": "stderr",
     "output_type": "stream",
     "text": [
      "<ipython-input-42-0f6050a16e41>:3: DeprecationWarning: find_element_by_* commands are deprecated. Please use find_element() instead\n",
      "  search_btn=driver.find_element_by_xpath(\"//div[@class='search-btn']/button\")\n"
     ]
    }
   ],
   "source": [
    "# Activate the search button for searching the specified Jab with location\n",
    "\n",
    "search_btn=driver.find_element_by_xpath(\"//div[@class='search-btn']/button\")\n",
    "search_btn.click()"
   ]
  },
  {
   "cell_type": "code",
   "execution_count": 43,
   "id": "6376a2be",
   "metadata": {},
   "outputs": [],
   "source": [
    "url='https://www.naukri.com/data-scientist-jobs-in-delhi-ncr?k=data%20scientist&l=delhi%2Fncr&cityTypeGid=9508&ctcFilter=0to3'"
   ]
  },
  {
   "cell_type": "code",
   "execution_count": 44,
   "id": "7e430f62",
   "metadata": {},
   "outputs": [],
   "source": [
    "driver.get(url)"
   ]
  },
  {
   "cell_type": "code",
   "execution_count": 45,
   "id": "ee8de9c2",
   "metadata": {},
   "outputs": [],
   "source": [
    "## Need to extract Job_titles,Company_names,Location_list,experience_list,job_description\n",
    "\n",
    "job_titles=[]\n",
    "company_names=[]\n",
    "location_list=[]\n",
    "experience_list=[]\n",
    "Salary=[]"
   ]
  },
  {
   "cell_type": "code",
   "execution_count": 46,
   "id": "8dddf5d1",
   "metadata": {},
   "outputs": [
    {
     "name": "stderr",
     "output_type": "stream",
     "text": [
      "<ipython-input-46-e2c9163af812>:3: DeprecationWarning: find_elements_by_* commands are deprecated. Please use find_elements() instead\n",
      "  job_tag=driver.find_elements_by_xpath(\"//a[@class='title fw500 ellipsis']\")\n"
     ]
    },
    {
     "data": {
      "text/plain": [
       "[<selenium.webdriver.remote.webelement.WebElement (session=\"ddf20de2305f453877eec9385545f68e\", element=\"15ac6ed5-99e9-4834-949c-c10743c7bec7\")>,\n",
       " <selenium.webdriver.remote.webelement.WebElement (session=\"ddf20de2305f453877eec9385545f68e\", element=\"17496b84-44a6-40a1-b5f7-4f91be74ca34\")>,\n",
       " <selenium.webdriver.remote.webelement.WebElement (session=\"ddf20de2305f453877eec9385545f68e\", element=\"7f77a4a5-0f6e-419b-8070-a8f929500275\")>,\n",
       " <selenium.webdriver.remote.webelement.WebElement (session=\"ddf20de2305f453877eec9385545f68e\", element=\"b98eebaa-8065-4de8-9a09-2e71f56a2d52\")>,\n",
       " <selenium.webdriver.remote.webelement.WebElement (session=\"ddf20de2305f453877eec9385545f68e\", element=\"7fb4e03b-8e40-4d6b-997b-74d5a78ab0c9\")>]"
      ]
     },
     "execution_count": 46,
     "metadata": {},
     "output_type": "execute_result"
    }
   ],
   "source": [
    "# For extracting job titles\n",
    "\n",
    "job_tag=driver.find_elements_by_xpath(\"//a[@class='title fw500 ellipsis']\")\n",
    "job_tag[0:5]"
   ]
  },
  {
   "cell_type": "code",
   "execution_count": 47,
   "id": "143d56a3",
   "metadata": {},
   "outputs": [
    {
     "data": {
      "text/plain": [
       "['Data Analyst / Data Scientist / Business Analytics / Fresher - MNC',\n",
       " 'Data Scientist',\n",
       " 'Data Scientist (Python| Machine Learning)',\n",
       " 'Senior Data Scientist',\n",
       " 'Senior Data Scientist']"
      ]
     },
     "execution_count": 47,
     "metadata": {},
     "output_type": "execute_result"
    }
   ],
   "source": [
    "# Get text data out of job_tags\n",
    "for i in job_tag:\n",
    "    title=i.text\n",
    "    job_titles.append(title)\n",
    "job_titles[0:5]\n"
   ]
  },
  {
   "cell_type": "code",
   "execution_count": 48,
   "id": "d47f5093",
   "metadata": {},
   "outputs": [
    {
     "name": "stdout",
     "output_type": "stream",
     "text": [
      "20\n"
     ]
    }
   ],
   "source": [
    "print(len(job_titles))"
   ]
  },
  {
   "cell_type": "code",
   "execution_count": 49,
   "id": "ca0d2204",
   "metadata": {},
   "outputs": [
    {
     "name": "stderr",
     "output_type": "stream",
     "text": [
      "<ipython-input-49-f62a170f81c0>:3: DeprecationWarning: find_elements_by_* commands are deprecated. Please use find_elements() instead\n",
      "  company_tag=driver.find_elements_by_xpath(\"//a[@class='subTitle ellipsis fleft']\")\n"
     ]
    },
    {
     "data": {
      "text/plain": [
       "[<selenium.webdriver.remote.webelement.WebElement (session=\"ddf20de2305f453877eec9385545f68e\", element=\"fb221aff-c02a-4dac-bbcb-837dabe0d94a\")>,\n",
       " <selenium.webdriver.remote.webelement.WebElement (session=\"ddf20de2305f453877eec9385545f68e\", element=\"6fda3542-7518-4477-9539-99269a14201d\")>,\n",
       " <selenium.webdriver.remote.webelement.WebElement (session=\"ddf20de2305f453877eec9385545f68e\", element=\"9e2df491-ba80-425b-8d6c-182a5d88efdf\")>,\n",
       " <selenium.webdriver.remote.webelement.WebElement (session=\"ddf20de2305f453877eec9385545f68e\", element=\"c66e210f-1e5d-4e68-9aa2-6e5f4b49510f\")>,\n",
       " <selenium.webdriver.remote.webelement.WebElement (session=\"ddf20de2305f453877eec9385545f68e\", element=\"5cf3d3b5-20db-4cc5-842e-7dacb2ce4201\")>]"
      ]
     },
     "execution_count": 49,
     "metadata": {},
     "output_type": "execute_result"
    }
   ],
   "source": [
    "# For extracting company titles\n",
    "\n",
    "company_tag=driver.find_elements_by_xpath(\"//a[@class='subTitle ellipsis fleft']\")\n",
    "company_tag[0:5]"
   ]
  },
  {
   "cell_type": "code",
   "execution_count": 50,
   "id": "89f789bf",
   "metadata": {},
   "outputs": [
    {
     "data": {
      "text/plain": [
       "['GABA Consultancy services',\n",
       " 'LG Electronics India Pvt. Ltd.',\n",
       " 'Jubna',\n",
       " 'Dynpro India Pvt. Ltd.',\n",
       " 'Dynpro India Pvt. Ltd.']"
      ]
     },
     "execution_count": 50,
     "metadata": {},
     "output_type": "execute_result"
    }
   ],
   "source": [
    "# Get text data out of company_tags\n",
    "for i in company_tag:\n",
    "    company=i.text\n",
    "    company_names.append(company)\n",
    "company_names[0:5]"
   ]
  },
  {
   "cell_type": "code",
   "execution_count": 51,
   "id": "7a8c337e",
   "metadata": {},
   "outputs": [
    {
     "name": "stderr",
     "output_type": "stream",
     "text": [
      "<ipython-input-51-47c77151d477>:3: DeprecationWarning: find_elements_by_* commands are deprecated. Please use find_elements() instead\n",
      "  location_tag=driver.find_elements_by_xpath(\"//li[@class='fleft grey-text br2 placeHolderLi location' ]\")\n"
     ]
    },
    {
     "data": {
      "text/plain": [
       "[<selenium.webdriver.remote.webelement.WebElement (session=\"ddf20de2305f453877eec9385545f68e\", element=\"1cef4f5f-aa23-432e-8d86-8fa7bed92713\")>,\n",
       " <selenium.webdriver.remote.webelement.WebElement (session=\"ddf20de2305f453877eec9385545f68e\", element=\"80746b7d-567a-4d3d-b057-a64095b7a3f0\")>,\n",
       " <selenium.webdriver.remote.webelement.WebElement (session=\"ddf20de2305f453877eec9385545f68e\", element=\"acc960f7-9981-478c-8602-9931e8602e7d\")>,\n",
       " <selenium.webdriver.remote.webelement.WebElement (session=\"ddf20de2305f453877eec9385545f68e\", element=\"34116926-38a2-4d03-9f6c-0c7c8dbf9b6f\")>,\n",
       " <selenium.webdriver.remote.webelement.WebElement (session=\"ddf20de2305f453877eec9385545f68e\", element=\"ea6bcbed-6b4c-4844-bd2a-dd0c47a353e8\")>]"
      ]
     },
     "execution_count": 51,
     "metadata": {},
     "output_type": "execute_result"
    }
   ],
   "source": [
    "# For extracting job location\n",
    "\n",
    "location_tag=driver.find_elements_by_xpath(\"//li[@class='fleft grey-text br2 placeHolderLi location' ]\")\n",
    "location_tag[0:5]"
   ]
  },
  {
   "cell_type": "code",
   "execution_count": 52,
   "id": "f32a104e",
   "metadata": {},
   "outputs": [
    {
     "data": {
      "text/plain": [
       "['Noida, New Delhi, Delhi / NCR',\n",
       " 'Noida, New Delhi, Faridabad, Gurgaon/Gurugram, Delhi / NCR',\n",
       " 'Noida',\n",
       " 'Kolkata, Mumbai, Gurgaon/Gurugram, Bangalore/Bengaluru',\n",
       " 'Kolkata, Mumbai, Gurgaon/Gurugram, Bangalore/Bengaluru']"
      ]
     },
     "execution_count": 52,
     "metadata": {},
     "output_type": "execute_result"
    }
   ],
   "source": [
    "# Get text data out of location_list\n",
    "for i in location_tag:\n",
    "    location=i.text\n",
    "    location_list.append(location)\n",
    "location_list[0:5]"
   ]
  },
  {
   "cell_type": "code",
   "execution_count": 53,
   "id": "3daf3d18",
   "metadata": {},
   "outputs": [
    {
     "name": "stderr",
     "output_type": "stream",
     "text": [
      "<ipython-input-53-5352971ce89b>:3: DeprecationWarning: find_elements_by_* commands are deprecated. Please use find_elements() instead\n",
      "  experience_tag=driver.find_elements_by_xpath(\"//li[@class='fleft grey-text br2 placeHolderLi experience' ]/span\")\n"
     ]
    },
    {
     "data": {
      "text/plain": [
       "[<selenium.webdriver.remote.webelement.WebElement (session=\"ddf20de2305f453877eec9385545f68e\", element=\"f8e921f4-f05b-4dd1-80e4-e6f3a63774f4\")>,\n",
       " <selenium.webdriver.remote.webelement.WebElement (session=\"ddf20de2305f453877eec9385545f68e\", element=\"2592eca2-dcbc-41de-919d-6c9e87319109\")>,\n",
       " <selenium.webdriver.remote.webelement.WebElement (session=\"ddf20de2305f453877eec9385545f68e\", element=\"7a40038e-dce0-4f7a-a62f-08aa3ccf3632\")>,\n",
       " <selenium.webdriver.remote.webelement.WebElement (session=\"ddf20de2305f453877eec9385545f68e\", element=\"8ffb63f9-83c6-4e2c-80b7-2970fd650776\")>,\n",
       " <selenium.webdriver.remote.webelement.WebElement (session=\"ddf20de2305f453877eec9385545f68e\", element=\"536b865e-93bb-4827-8ef9-145281aaf577\")>]"
      ]
     },
     "execution_count": 53,
     "metadata": {},
     "output_type": "execute_result"
    }
   ],
   "source": [
    "# For extracting experience_list\n",
    "\n",
    "experience_tag=driver.find_elements_by_xpath(\"//li[@class='fleft grey-text br2 placeHolderLi experience' ]/span\")\n",
    "experience_tag[0:5]"
   ]
  },
  {
   "cell_type": "code",
   "execution_count": 54,
   "id": "de4bb315",
   "metadata": {},
   "outputs": [
    {
     "data": {
      "text/plain": [
       "['0-0 Yrs', '0-2 Yrs', '3-5 Yrs', '6-10 Yrs', '6-10 Yrs']"
      ]
     },
     "execution_count": 54,
     "metadata": {},
     "output_type": "execute_result"
    }
   ],
   "source": [
    "# Get text data out of experience_list\n",
    "for i in experience_tag:\n",
    "    experience=i.text\n",
    "    experience_list.append(experience)\n",
    "experience_list[0:5]"
   ]
  },
  {
   "cell_type": "code",
   "execution_count": 55,
   "id": "d2d99ad3",
   "metadata": {},
   "outputs": [
    {
     "name": "stderr",
     "output_type": "stream",
     "text": [
      "<ipython-input-55-2b4efdaaa499>:2: DeprecationWarning: find_elements_by_* commands are deprecated. Please use find_elements() instead\n",
      "  salary_tag=driver.find_elements_by_xpath(\"//li[@class='fleft grey-text br2 placeHolderLi salary' ]/span\")\n"
     ]
    },
    {
     "data": {
      "text/plain": [
       "[<selenium.webdriver.remote.webelement.WebElement (session=\"ddf20de2305f453877eec9385545f68e\", element=\"f27338ca-7c53-4383-966b-e260407c4b9b\")>,\n",
       " <selenium.webdriver.remote.webelement.WebElement (session=\"ddf20de2305f453877eec9385545f68e\", element=\"d323ed89-33e6-4c26-b848-a4f2f43df238\")>,\n",
       " <selenium.webdriver.remote.webelement.WebElement (session=\"ddf20de2305f453877eec9385545f68e\", element=\"a2cc1045-2fba-4868-86c8-dd656c440ffa\")>,\n",
       " <selenium.webdriver.remote.webelement.WebElement (session=\"ddf20de2305f453877eec9385545f68e\", element=\"2bc485cd-2faa-4e91-876c-8fa7985201a7\")>,\n",
       " <selenium.webdriver.remote.webelement.WebElement (session=\"ddf20de2305f453877eec9385545f68e\", element=\"4b834411-cbfa-4fdc-aa86-c4be641a98fa\")>]"
      ]
     },
     "execution_count": 55,
     "metadata": {},
     "output_type": "execute_result"
    }
   ],
   "source": [
    "# For extracting Salary:\n",
    "salary_tag=driver.find_elements_by_xpath(\"//li[@class='fleft grey-text br2 placeHolderLi salary' ]/span\")\n",
    "salary_tag[0:5]"
   ]
  },
  {
   "cell_type": "code",
   "execution_count": 56,
   "id": "2bc34ec3",
   "metadata": {},
   "outputs": [
    {
     "data": {
      "text/plain": [
       "['2,25,000 - 4,75,000 PA.',\n",
       " 'Not disclosed',\n",
       " 'Not disclosed',\n",
       " '70,000 - 1,25,000 PA.',\n",
       " '70,000 - 1,25,000 PA.']"
      ]
     },
     "execution_count": 56,
     "metadata": {},
     "output_type": "execute_result"
    }
   ],
   "source": [
    "# Get text data out of experience_list\n",
    "for i in salary_tag:\n",
    "    salary=i.text\n",
    "    Salary.append(salary)\n",
    "Salary[0:5]"
   ]
  },
  {
   "cell_type": "code",
   "execution_count": 57,
   "id": "28ba1029",
   "metadata": {},
   "outputs": [
    {
     "name": "stdout",
     "output_type": "stream",
     "text": [
      "20 20 20 20 20\n"
     ]
    }
   ],
   "source": [
    "print(len(job_titles),len(company_names),len(location_list),len(experience_list),len(Salary))"
   ]
  },
  {
   "cell_type": "code",
   "execution_count": 58,
   "id": "037572f8",
   "metadata": {},
   "outputs": [
    {
     "data": {
      "text/html": [
       "<div>\n",
       "<style scoped>\n",
       "    .dataframe tbody tr th:only-of-type {\n",
       "        vertical-align: middle;\n",
       "    }\n",
       "\n",
       "    .dataframe tbody tr th {\n",
       "        vertical-align: top;\n",
       "    }\n",
       "\n",
       "    .dataframe thead th {\n",
       "        text-align: right;\n",
       "    }\n",
       "</style>\n",
       "<table border=\"1\" class=\"dataframe\">\n",
       "  <thead>\n",
       "    <tr style=\"text-align: right;\">\n",
       "      <th></th>\n",
       "      <th>title</th>\n",
       "      <th>company</th>\n",
       "      <th>location</th>\n",
       "      <th>experience</th>\n",
       "      <th>salary</th>\n",
       "    </tr>\n",
       "  </thead>\n",
       "  <tbody>\n",
       "    <tr>\n",
       "      <th>0</th>\n",
       "      <td>Data Analyst / Data Scientist / Business Analy...</td>\n",
       "      <td>GABA Consultancy services</td>\n",
       "      <td>Noida, New Delhi, Delhi / NCR</td>\n",
       "      <td>0-0 Yrs</td>\n",
       "      <td>2,25,000 - 4,75,000 PA.</td>\n",
       "    </tr>\n",
       "    <tr>\n",
       "      <th>1</th>\n",
       "      <td>Data Scientist</td>\n",
       "      <td>LG Electronics India Pvt. Ltd.</td>\n",
       "      <td>Noida, New Delhi, Faridabad, Gurgaon/Gurugram,...</td>\n",
       "      <td>0-2 Yrs</td>\n",
       "      <td>Not disclosed</td>\n",
       "    </tr>\n",
       "    <tr>\n",
       "      <th>2</th>\n",
       "      <td>Data Scientist (Python| Machine Learning)</td>\n",
       "      <td>Jubna</td>\n",
       "      <td>Noida</td>\n",
       "      <td>3-5 Yrs</td>\n",
       "      <td>Not disclosed</td>\n",
       "    </tr>\n",
       "    <tr>\n",
       "      <th>3</th>\n",
       "      <td>Senior Data Scientist</td>\n",
       "      <td>Dynpro India Pvt. Ltd.</td>\n",
       "      <td>Kolkata, Mumbai, Gurgaon/Gurugram, Bangalore/B...</td>\n",
       "      <td>6-10 Yrs</td>\n",
       "      <td>70,000 - 1,25,000 PA.</td>\n",
       "    </tr>\n",
       "    <tr>\n",
       "      <th>4</th>\n",
       "      <td>Senior Data Scientist</td>\n",
       "      <td>Dynpro India Pvt. Ltd.</td>\n",
       "      <td>Kolkata, Mumbai, Gurgaon/Gurugram, Bangalore/B...</td>\n",
       "      <td>6-10 Yrs</td>\n",
       "      <td>70,000 - 1,25,000 PA.</td>\n",
       "    </tr>\n",
       "    <tr>\n",
       "      <th>5</th>\n",
       "      <td>Data Analyst / Data Scientist / Business Analy...</td>\n",
       "      <td>GABA Consultancy services</td>\n",
       "      <td>Noida, Ghaziabad, Delhi / NCR</td>\n",
       "      <td>0-0 Yrs</td>\n",
       "      <td>2,25,000 - 4,75,000 PA.</td>\n",
       "    </tr>\n",
       "    <tr>\n",
       "      <th>6</th>\n",
       "      <td>Data Scientist</td>\n",
       "      <td>SVK Global Solutions Private Limited</td>\n",
       "      <td>Noida</td>\n",
       "      <td>6-10 Yrs</td>\n",
       "      <td>Not disclosed</td>\n",
       "    </tr>\n",
       "    <tr>\n",
       "      <th>7</th>\n",
       "      <td>Need Immediate Joiner For Data Scientist</td>\n",
       "      <td>Truetech Solutions Private Limited</td>\n",
       "      <td>Gurgaon/Gurugram</td>\n",
       "      <td>8-10 Yrs</td>\n",
       "      <td>Not disclosed</td>\n",
       "    </tr>\n",
       "    <tr>\n",
       "      <th>8</th>\n",
       "      <td>Data Scientist</td>\n",
       "      <td>Gauge Data Solutions Pvt Ltd</td>\n",
       "      <td>Noida</td>\n",
       "      <td>2-7 Yrs</td>\n",
       "      <td>Not disclosed</td>\n",
       "    </tr>\n",
       "    <tr>\n",
       "      <th>9</th>\n",
       "      <td>Data Scientist</td>\n",
       "      <td>Humonics Global Private Limited</td>\n",
       "      <td>Gurgaon/Gurugram</td>\n",
       "      <td>1-4 Yrs</td>\n",
       "      <td>2,00,000 - 7,00,000 PA.</td>\n",
       "    </tr>\n",
       "  </tbody>\n",
       "</table>\n",
       "</div>"
      ],
      "text/plain": [
       "                                               title  \\\n",
       "0  Data Analyst / Data Scientist / Business Analy...   \n",
       "1                                     Data Scientist   \n",
       "2          Data Scientist (Python| Machine Learning)   \n",
       "3                              Senior Data Scientist   \n",
       "4                              Senior Data Scientist   \n",
       "5  Data Analyst / Data Scientist / Business Analy...   \n",
       "6                                     Data Scientist   \n",
       "7           Need Immediate Joiner For Data Scientist   \n",
       "8                                     Data Scientist   \n",
       "9                                     Data Scientist   \n",
       "\n",
       "                                company  \\\n",
       "0             GABA Consultancy services   \n",
       "1        LG Electronics India Pvt. Ltd.   \n",
       "2                                 Jubna   \n",
       "3                Dynpro India Pvt. Ltd.   \n",
       "4                Dynpro India Pvt. Ltd.   \n",
       "5             GABA Consultancy services   \n",
       "6  SVK Global Solutions Private Limited   \n",
       "7    Truetech Solutions Private Limited   \n",
       "8          Gauge Data Solutions Pvt Ltd   \n",
       "9       Humonics Global Private Limited   \n",
       "\n",
       "                                            location experience  \\\n",
       "0                      Noida, New Delhi, Delhi / NCR    0-0 Yrs   \n",
       "1  Noida, New Delhi, Faridabad, Gurgaon/Gurugram,...    0-2 Yrs   \n",
       "2                                              Noida    3-5 Yrs   \n",
       "3  Kolkata, Mumbai, Gurgaon/Gurugram, Bangalore/B...   6-10 Yrs   \n",
       "4  Kolkata, Mumbai, Gurgaon/Gurugram, Bangalore/B...   6-10 Yrs   \n",
       "5                      Noida, Ghaziabad, Delhi / NCR    0-0 Yrs   \n",
       "6                                              Noida   6-10 Yrs   \n",
       "7                                   Gurgaon/Gurugram   8-10 Yrs   \n",
       "8                                              Noida    2-7 Yrs   \n",
       "9                                   Gurgaon/Gurugram    1-4 Yrs   \n",
       "\n",
       "                    salary  \n",
       "0  2,25,000 - 4,75,000 PA.  \n",
       "1            Not disclosed  \n",
       "2            Not disclosed  \n",
       "3    70,000 - 1,25,000 PA.  \n",
       "4    70,000 - 1,25,000 PA.  \n",
       "5  2,25,000 - 4,75,000 PA.  \n",
       "6            Not disclosed  \n",
       "7            Not disclosed  \n",
       "8            Not disclosed  \n",
       "9  2,00,000 - 7,00,000 PA.  "
      ]
     },
     "execution_count": 58,
     "metadata": {},
     "output_type": "execute_result"
    }
   ],
   "source": [
    "# Prepare a DataFrame with the First 10 job search only\n",
    "\n",
    "jobs=pd.DataFrame({})\n",
    "jobs['title']=job_titles\n",
    "jobs['company']=company_names\n",
    "jobs['location']=location_list\n",
    "jobs['experience']=experience_list\n",
    "jobs['salary']=Salary\n",
    "jobs[0:10]"
   ]
  },
  {
   "cell_type": "code",
   "execution_count": 59,
   "id": "dfeb1444",
   "metadata": {},
   "outputs": [],
   "source": [
    "driver.close()"
   ]
  },
  {
   "cell_type": "markdown",
   "id": "60d9ba97",
   "metadata": {},
   "source": [
    "# '''Q4: Scrape data of first 100 sunglasses listings on flipkart.com. You have to scrape four attributes: \n",
    "1. Brand \n",
    "2. Product Description \n",
    "3. Price''' "
   ]
  },
  {
   "cell_type": "code",
   "execution_count": 60,
   "id": "dab2238d",
   "metadata": {},
   "outputs": [
    {
     "name": "stderr",
     "output_type": "stream",
     "text": [
      "<ipython-input-60-eb384377f2af>:3: DeprecationWarning: executable_path has been deprecated, please pass in a Service object\n",
      "  driver=webdriver.Chrome(r\"C:/Users/LENOVO/Downloads/chromedriver_win32/chromedriver.exe\")\n"
     ]
    }
   ],
   "source": [
    "# Open the driver\n",
    "\n",
    "driver=webdriver.Chrome(r\"C:/Users/LENOVO/Downloads/chromedriver_win32/chromedriver.exe\")"
   ]
  },
  {
   "cell_type": "code",
   "execution_count": 61,
   "id": "c53a2d6c",
   "metadata": {},
   "outputs": [],
   "source": [
    "# Use the required URL with the driver\n",
    "driver.get('https://www.flipkart.com/?s_kwcid=AL!739!3!461541692285!e!!g!!flipcart&gclsrc=aw.ds&&semcmpid=sem_8024046704_brand_city_nc_goog&gclid=EAIaIQobChMI95K5oqrZ9AIVaZlmAh2tVw0pEAAYASAAEgKkQvD_BwE')"
   ]
  },
  {
   "cell_type": "code",
   "execution_count": 62,
   "id": "3e113863",
   "metadata": {},
   "outputs": [
    {
     "name": "stderr",
     "output_type": "stream",
     "text": [
      "<ipython-input-62-2f15e70c941a>:2: DeprecationWarning: find_element_by_* commands are deprecated. Please use find_element() instead\n",
      "  search_loc=driver.find_element_by_xpath(\"//input[@class='_3704LK']\")\n"
     ]
    }
   ],
   "source": [
    "# Find the elements for sunglasses \n",
    "search_loc=driver.find_element_by_xpath(\"//input[@class='_3704LK']\")\n",
    "search_loc.send_keys('sunglasses')"
   ]
  },
  {
   "cell_type": "code",
   "execution_count": 63,
   "id": "6dfa5e7b",
   "metadata": {},
   "outputs": [
    {
     "name": "stderr",
     "output_type": "stream",
     "text": [
      "<ipython-input-63-20eb25e5444e>:3: DeprecationWarning: find_element_by_* commands are deprecated. Please use find_element() instead\n",
      "  search_btn=driver.find_element_by_xpath(\"//button[@type='submit']\")\n"
     ]
    }
   ],
   "source": [
    "# Activate the search button for searching the specified J\n",
    "\n",
    "search_btn=driver.find_element_by_xpath(\"//button[@type='submit']\")\n",
    "search_btn.submit()"
   ]
  },
  {
   "cell_type": "code",
   "execution_count": 64,
   "id": "c49c7d41",
   "metadata": {},
   "outputs": [],
   "source": [
    "url='https://www.flipkart.com/search?q=sunglasses&otracker=search&otracker1=search&marketplace=FLIPKART&as-show=on&as=off'"
   ]
  },
  {
   "cell_type": "code",
   "execution_count": 65,
   "id": "796f4665",
   "metadata": {},
   "outputs": [],
   "source": [
    "driver.get(url)"
   ]
  },
  {
   "cell_type": "code",
   "execution_count": 66,
   "id": "96d6525d",
   "metadata": {},
   "outputs": [],
   "source": [
    "## Need to extract brand ,product description,price\n",
    "brand=[]\n",
    "price=[]\n",
    "productDescription=[]\n"
   ]
  },
  {
   "cell_type": "code",
   "execution_count": 67,
   "id": "05bdfed9",
   "metadata": {},
   "outputs": [
    {
     "name": "stderr",
     "output_type": "stream",
     "text": [
      "<ipython-input-67-cd7a194ebed2>:3: DeprecationWarning: find_elements_by_* commands are deprecated. Please use find_elements() instead\n",
      "  brand_tag=driver.find_elements_by_xpath(\"//div[@class='_2WkVRV']\")\n"
     ]
    },
    {
     "data": {
      "text/plain": [
       "[<selenium.webdriver.remote.webelement.WebElement (session=\"21d5d591927154cf8ef7e524a0346a80\", element=\"a606232a-75d1-4c38-9215-c929acfb3595\")>,\n",
       " <selenium.webdriver.remote.webelement.WebElement (session=\"21d5d591927154cf8ef7e524a0346a80\", element=\"a7c6b2b6-c567-482b-b8db-591960c7f60a\")>,\n",
       " <selenium.webdriver.remote.webelement.WebElement (session=\"21d5d591927154cf8ef7e524a0346a80\", element=\"486e51e6-3304-4521-8247-e805be367767\")>,\n",
       " <selenium.webdriver.remote.webelement.WebElement (session=\"21d5d591927154cf8ef7e524a0346a80\", element=\"526c22d8-ba19-4d0b-888f-dd0eac346433\")>,\n",
       " <selenium.webdriver.remote.webelement.WebElement (session=\"21d5d591927154cf8ef7e524a0346a80\", element=\"179bc9f5-6d4c-433d-a40b-254ece247374\")>]"
      ]
     },
     "execution_count": 67,
     "metadata": {},
     "output_type": "execute_result"
    }
   ],
   "source": [
    "# For extracting brand\n",
    "\n",
    "brand_tag=driver.find_elements_by_xpath(\"//div[@class='_2WkVRV']\")\n",
    "brand_tag[0:5]"
   ]
  },
  {
   "cell_type": "code",
   "execution_count": 68,
   "id": "d43cc820",
   "metadata": {},
   "outputs": [
    {
     "data": {
      "text/plain": [
       "['ROZZETTA CRAFT', 'GANSTA', 'SRPM', 'Elligator', 'PIRASO']"
      ]
     },
     "execution_count": 68,
     "metadata": {},
     "output_type": "execute_result"
    }
   ],
   "source": [
    "# Get text data out of brand_tags\n",
    "for i in brand_tag:\n",
    "    Brand=i.text\n",
    "    brand.append(Brand)\n",
    "brand[0:5]"
   ]
  },
  {
   "cell_type": "code",
   "execution_count": 69,
   "id": "4e6ba879",
   "metadata": {},
   "outputs": [
    {
     "name": "stderr",
     "output_type": "stream",
     "text": [
      "<ipython-input-69-89fbf6256c89>:3: DeprecationWarning: find_elements_by_* commands are deprecated. Please use find_elements() instead\n",
      "  price_tag=driver.find_elements_by_xpath(\"//div[@class='_30jeq3']\")\n"
     ]
    },
    {
     "data": {
      "text/plain": [
       "[<selenium.webdriver.remote.webelement.WebElement (session=\"21d5d591927154cf8ef7e524a0346a80\", element=\"9a488dde-ecad-4622-a01a-2fa47746f7e8\")>,\n",
       " <selenium.webdriver.remote.webelement.WebElement (session=\"21d5d591927154cf8ef7e524a0346a80\", element=\"f8b8951f-fb6c-461c-ab4d-5e28042b6060\")>,\n",
       " <selenium.webdriver.remote.webelement.WebElement (session=\"21d5d591927154cf8ef7e524a0346a80\", element=\"1c514d18-e810-4a1b-a8ad-fb07fd07b943\")>,\n",
       " <selenium.webdriver.remote.webelement.WebElement (session=\"21d5d591927154cf8ef7e524a0346a80\", element=\"8d0b4e97-ee94-4f61-9e16-3d0e01c3df61\")>,\n",
       " <selenium.webdriver.remote.webelement.WebElement (session=\"21d5d591927154cf8ef7e524a0346a80\", element=\"24a28421-90e9-440b-a50d-86804ba78488\")>]"
      ]
     },
     "execution_count": 69,
     "metadata": {},
     "output_type": "execute_result"
    }
   ],
   "source": [
    "# For extracting price\n",
    "\n",
    "price_tag=driver.find_elements_by_xpath(\"//div[@class='_30jeq3']\")\n",
    "price_tag[0:5]"
   ]
  },
  {
   "cell_type": "code",
   "execution_count": 70,
   "id": "933f64b9",
   "metadata": {},
   "outputs": [
    {
     "data": {
      "text/plain": [
       "['₹426', '₹224', '₹188', '₹248', '₹200']"
      ]
     },
     "execution_count": 70,
     "metadata": {},
     "output_type": "execute_result"
    }
   ],
   "source": [
    "# Get text data out of price\n",
    "for i in price_tag:\n",
    "    Price=i.text\n",
    "    price.append(Price)\n",
    "price[0:5]"
   ]
  },
  {
   "cell_type": "code",
   "execution_count": 71,
   "id": "a197c032",
   "metadata": {},
   "outputs": [
    {
     "name": "stderr",
     "output_type": "stream",
     "text": [
      "<ipython-input-71-8f3417a9964e>:3: DeprecationWarning: find_elements_by_* commands are deprecated. Please use find_elements() instead\n",
      "  product_tag=driver.find_elements_by_xpath(\"//a[@class='IRpwTa']\")\n"
     ]
    },
    {
     "data": {
      "text/plain": [
       "[<selenium.webdriver.remote.webelement.WebElement (session=\"21d5d591927154cf8ef7e524a0346a80\", element=\"1b28db21-b14b-4d5d-80e1-15b36b4e2bee\")>,\n",
       " <selenium.webdriver.remote.webelement.WebElement (session=\"21d5d591927154cf8ef7e524a0346a80\", element=\"a8a3ce9d-0ac8-4be8-b7ff-8d749b4b7f94\")>,\n",
       " <selenium.webdriver.remote.webelement.WebElement (session=\"21d5d591927154cf8ef7e524a0346a80\", element=\"86c844e4-c8e5-46c7-bda6-c76adcea72bb\")>,\n",
       " <selenium.webdriver.remote.webelement.WebElement (session=\"21d5d591927154cf8ef7e524a0346a80\", element=\"85df561e-51c5-4713-a5e0-3b29ea4a6ef1\")>,\n",
       " <selenium.webdriver.remote.webelement.WebElement (session=\"21d5d591927154cf8ef7e524a0346a80\", element=\"a41cac1e-ca52-40aa-9c3f-b4cd0c83d1c2\")>]"
      ]
     },
     "execution_count": 71,
     "metadata": {},
     "output_type": "execute_result"
    }
   ],
   "source": [
    "# For extracting product Description\n",
    "\n",
    "product_tag=driver.find_elements_by_xpath(\"//a[@class='IRpwTa']\")\n",
    "product_tag[0:5]"
   ]
  },
  {
   "cell_type": "code",
   "execution_count": 72,
   "id": "91a1ee82",
   "metadata": {},
   "outputs": [
    {
     "data": {
      "text/plain": [
       "['UV Protection Round Sunglasses (Free Size)',\n",
       " 'UV Protection, Gradient Aviator Sunglasses (57)',\n",
       " 'UV Protection Wayfarer Sunglasses (56)',\n",
       " 'UV Protection Round Sunglasses (54)',\n",
       " 'UV Protection Aviator Sunglasses (54)']"
      ]
     },
     "execution_count": 72,
     "metadata": {},
     "output_type": "execute_result"
    }
   ],
   "source": [
    "# Get text data out of price\n",
    "for i in product_tag:\n",
    "    ProductDesc=i.text\n",
    "    productDescription.append(ProductDesc)\n",
    "productDescription[0:5]\n"
   ]
  },
  {
   "cell_type": "code",
   "execution_count": 73,
   "id": "5f7b7537",
   "metadata": {},
   "outputs": [
    {
     "name": "stderr",
     "output_type": "stream",
     "text": [
      "<ipython-input-73-387b16c0e1c0>:3: DeprecationWarning: find_elements_by_* commands are deprecated. Please use find_elements() instead\n",
      "  brand_tag=driver.find_elements_by_xpath(\"//div[@class='_2WkVRV']\")\n",
      "<ipython-input-73-387b16c0e1c0>:8: DeprecationWarning: find_elements_by_* commands are deprecated. Please use find_elements() instead\n",
      "  price_tag=driver.find_elements_by_xpath(\"//div[@class='_30jeq3']\")\n",
      "<ipython-input-73-387b16c0e1c0>:13: DeprecationWarning: find_elements_by_* commands are deprecated. Please use find_elements() instead\n",
      "  product_tag=driver.find_elements_by_xpath(\"//a[@class='IRpwTa']\")\n"
     ]
    }
   ],
   "source": [
    "driver.get('https://www.flipkart.com/search?q=sunglasses&otracker=search&otracker1=search&marketplace=FLIPKART&as-show=on&as=off&page=2')\n",
    "\n",
    "brand_tag=driver.find_elements_by_xpath(\"//div[@class='_2WkVRV']\")\n",
    "for i in brand_tag:\n",
    "    Brand=i.text\n",
    "    brand.append(Brand)\n",
    "    \n",
    "price_tag=driver.find_elements_by_xpath(\"//div[@class='_30jeq3']\")\n",
    "for i in price_tag:\n",
    "    Price=i.text\n",
    "    price.append(Price)\n",
    "\n",
    "product_tag=driver.find_elements_by_xpath(\"//a[@class='IRpwTa']\")\n",
    "for i in product_tag:\n",
    "    ProductDesc=i.text\n",
    "    productDescription.append(ProductDesc)\n",
    "\n"
   ]
  },
  {
   "cell_type": "code",
   "execution_count": 74,
   "id": "1455f0a7",
   "metadata": {},
   "outputs": [
    {
     "name": "stderr",
     "output_type": "stream",
     "text": [
      "<ipython-input-74-3d7ba14fbdd3>:3: DeprecationWarning: find_elements_by_* commands are deprecated. Please use find_elements() instead\n",
      "  brand_tag=driver.find_elements_by_xpath(\"//div[@class='_2WkVRV']\")\n",
      "<ipython-input-74-3d7ba14fbdd3>:8: DeprecationWarning: find_elements_by_* commands are deprecated. Please use find_elements() instead\n",
      "  price_tag=driver.find_elements_by_xpath(\"//div[@class='_30jeq3']\")\n",
      "<ipython-input-74-3d7ba14fbdd3>:13: DeprecationWarning: find_elements_by_* commands are deprecated. Please use find_elements() instead\n",
      "  product_tag=driver.find_elements_by_xpath(\"//a[@class='IRpwTa']\")\n"
     ]
    }
   ],
   "source": [
    "driver.get('https://www.flipkart.com/search?q=sunglasses&otracker=search&otracker1=search&marketplace=FLIPKART&as-show=on&as=off&page=3')\n",
    "\n",
    "brand_tag=driver.find_elements_by_xpath(\"//div[@class='_2WkVRV']\")\n",
    "for i in brand_tag:\n",
    "    Brand=i.text\n",
    "    brand.append(Brand)\n",
    "    \n",
    "price_tag=driver.find_elements_by_xpath(\"//div[@class='_30jeq3']\")\n",
    "for i in price_tag:\n",
    "    Price=i.text\n",
    "    price.append(Price)\n",
    "\n",
    "product_tag=driver.find_elements_by_xpath(\"//a[@class='IRpwTa']\")\n",
    "for i in product_tag:\n",
    "    ProductDesc=i.text\n",
    "    productDescription.append(ProductDesc)\n"
   ]
  },
  {
   "cell_type": "code",
   "execution_count": 75,
   "id": "b1787a41",
   "metadata": {},
   "outputs": [
    {
     "data": {
      "text/html": [
       "<div>\n",
       "<style scoped>\n",
       "    .dataframe tbody tr th:only-of-type {\n",
       "        vertical-align: middle;\n",
       "    }\n",
       "\n",
       "    .dataframe tbody tr th {\n",
       "        vertical-align: top;\n",
       "    }\n",
       "\n",
       "    .dataframe thead th {\n",
       "        text-align: right;\n",
       "    }\n",
       "</style>\n",
       "<table border=\"1\" class=\"dataframe\">\n",
       "  <thead>\n",
       "    <tr style=\"text-align: right;\">\n",
       "      <th></th>\n",
       "      <th>Brand</th>\n",
       "      <th>Price</th>\n",
       "      <th>ProductDesc</th>\n",
       "    </tr>\n",
       "  </thead>\n",
       "  <tbody>\n",
       "    <tr>\n",
       "      <th>0</th>\n",
       "      <td>ROZZETTA CRAFT</td>\n",
       "      <td>₹426</td>\n",
       "      <td>UV Protection Round Sunglasses (Free Size)</td>\n",
       "    </tr>\n",
       "    <tr>\n",
       "      <th>1</th>\n",
       "      <td>GANSTA</td>\n",
       "      <td>₹224</td>\n",
       "      <td>UV Protection, Gradient Aviator Sunglasses (57)</td>\n",
       "    </tr>\n",
       "    <tr>\n",
       "      <th>2</th>\n",
       "      <td>SRPM</td>\n",
       "      <td>₹188</td>\n",
       "      <td>UV Protection Wayfarer Sunglasses (56)</td>\n",
       "    </tr>\n",
       "    <tr>\n",
       "      <th>3</th>\n",
       "      <td>Elligator</td>\n",
       "      <td>₹248</td>\n",
       "      <td>UV Protection Round Sunglasses (54)</td>\n",
       "    </tr>\n",
       "    <tr>\n",
       "      <th>4</th>\n",
       "      <td>PIRASO</td>\n",
       "      <td>₹200</td>\n",
       "      <td>UV Protection Aviator Sunglasses (54)</td>\n",
       "    </tr>\n",
       "    <tr>\n",
       "      <th>...</th>\n",
       "      <td>...</td>\n",
       "      <td>...</td>\n",
       "      <td>...</td>\n",
       "    </tr>\n",
       "    <tr>\n",
       "      <th>95</th>\n",
       "      <td>PIRASO</td>\n",
       "      <td>₹349</td>\n",
       "      <td>UV Protection Rectangular, Over-sized Sunglass...</td>\n",
       "    </tr>\n",
       "    <tr>\n",
       "      <th>96</th>\n",
       "      <td>kingsunglasses</td>\n",
       "      <td>₹249</td>\n",
       "      <td>UV Protection, Mirrored Round Sunglasses (Free...</td>\n",
       "    </tr>\n",
       "    <tr>\n",
       "      <th>97</th>\n",
       "      <td>Fastrack</td>\n",
       "      <td>₹599</td>\n",
       "      <td>UV Protection Aviator Sunglasses (Free Size)</td>\n",
       "    </tr>\n",
       "    <tr>\n",
       "      <th>98</th>\n",
       "      <td>ROYAL SON</td>\n",
       "      <td>₹359</td>\n",
       "      <td>UV Protection Round Sunglasses (50)</td>\n",
       "    </tr>\n",
       "    <tr>\n",
       "      <th>99</th>\n",
       "      <td>PIRASO</td>\n",
       "      <td>₹200</td>\n",
       "      <td>UV Protection Aviator Sunglasses (54)</td>\n",
       "    </tr>\n",
       "  </tbody>\n",
       "</table>\n",
       "<p>100 rows × 3 columns</p>\n",
       "</div>"
      ],
      "text/plain": [
       "             Brand Price                                        ProductDesc\n",
       "0   ROZZETTA CRAFT  ₹426         UV Protection Round Sunglasses (Free Size)\n",
       "1           GANSTA  ₹224    UV Protection, Gradient Aviator Sunglasses (57)\n",
       "2             SRPM  ₹188             UV Protection Wayfarer Sunglasses (56)\n",
       "3        Elligator  ₹248                UV Protection Round Sunglasses (54)\n",
       "4           PIRASO  ₹200              UV Protection Aviator Sunglasses (54)\n",
       "..             ...   ...                                                ...\n",
       "95          PIRASO  ₹349  UV Protection Rectangular, Over-sized Sunglass...\n",
       "96  kingsunglasses  ₹249  UV Protection, Mirrored Round Sunglasses (Free...\n",
       "97        Fastrack  ₹599       UV Protection Aviator Sunglasses (Free Size)\n",
       "98       ROYAL SON  ₹359                UV Protection Round Sunglasses (50)\n",
       "99          PIRASO  ₹200              UV Protection Aviator Sunglasses (54)\n",
       "\n",
       "[100 rows x 3 columns]"
      ]
     },
     "execution_count": 75,
     "metadata": {},
     "output_type": "execute_result"
    }
   ],
   "source": [
    "# Prepare a DataFrame with the First 10 job search only\n",
    "\n",
    "Sunglass=pd.DataFrame({})\n",
    "Sunglass['Brand']=brand[:100]\n",
    "Sunglass['Price']=price[:100]\n",
    "Sunglass['ProductDesc']=productDescription[:100]\n",
    "\n",
    "Sunglass"
   ]
  },
  {
   "cell_type": "code",
   "execution_count": 76,
   "id": "71059d63",
   "metadata": {},
   "outputs": [],
   "source": [
    "driver.close()"
   ]
  },
  {
   "cell_type": "markdown",
   "id": "444739ed",
   "metadata": {},
   "source": [
    "# 5 Scrape 100 reviews data from flipkart.com for iphone11 phone. You have to go the link:\n",
    "\n",
    "1. Rating \n",
    "2. Review_summary \n",
    "3. Full review \n",
    "4. You have to scrape this data for first 100 reviews."
   ]
  },
  {
   "cell_type": "code",
   "execution_count": 77,
   "id": "d355df29",
   "metadata": {},
   "outputs": [
    {
     "name": "stderr",
     "output_type": "stream",
     "text": [
      "<ipython-input-77-eb384377f2af>:3: DeprecationWarning: executable_path has been deprecated, please pass in a Service object\n",
      "  driver=webdriver.Chrome(r\"C:/Users/LENOVO/Downloads/chromedriver_win32/chromedriver.exe\")\n"
     ]
    }
   ],
   "source": [
    "# Open the driver\n",
    "\n",
    "driver=webdriver.Chrome(r\"C:/Users/LENOVO/Downloads/chromedriver_win32/chromedriver.exe\")"
   ]
  },
  {
   "cell_type": "code",
   "execution_count": 78,
   "id": "0952c1e7",
   "metadata": {},
   "outputs": [],
   "source": [
    "url='https://www.flipkart.com/apple-iphone-11-black-64-gb-includes-earpods-power-adapter/product-reviews/itm0f37c2240b217?pid=MOBFKCTSVZAXUHGR&lid=LSTMOBFKCTSVZAXUHGREPBFGI&marketplace=FLIPKART '"
   ]
  },
  {
   "cell_type": "code",
   "execution_count": 79,
   "id": "8702bd9f",
   "metadata": {},
   "outputs": [],
   "source": [
    "driver.get(url)"
   ]
  },
  {
   "cell_type": "code",
   "execution_count": 80,
   "id": "30bc8209",
   "metadata": {},
   "outputs": [],
   "source": [
    "## Need to extract rating ,review_summary,full_review\n",
    "Rating=[] \n",
    "Review_summary=[] \n",
    "Full_review=[] "
   ]
  },
  {
   "cell_type": "code",
   "execution_count": 81,
   "id": "c13fed6d",
   "metadata": {},
   "outputs": [
    {
     "name": "stderr",
     "output_type": "stream",
     "text": [
      "<ipython-input-81-b4f167f94965>:3: DeprecationWarning: find_elements_by_* commands are deprecated. Please use find_elements() instead\n",
      "  rating_tag=driver.find_elements_by_xpath(\"//div[@class='_3LWZlK _1BLPMq']\")\n"
     ]
    },
    {
     "data": {
      "text/plain": [
       "[<selenium.webdriver.remote.webelement.WebElement (session=\"3a0874063382d6d7cd59ff6e0111e75a\", element=\"1f1e8949-6aa6-4040-8044-c5fd68fec9ee\")>,\n",
       " <selenium.webdriver.remote.webelement.WebElement (session=\"3a0874063382d6d7cd59ff6e0111e75a\", element=\"d55bd19f-8a67-431a-aad7-6fd7cab27831\")>,\n",
       " <selenium.webdriver.remote.webelement.WebElement (session=\"3a0874063382d6d7cd59ff6e0111e75a\", element=\"05621360-4b01-4cd8-b019-0fca0aac6d7c\")>,\n",
       " <selenium.webdriver.remote.webelement.WebElement (session=\"3a0874063382d6d7cd59ff6e0111e75a\", element=\"9a8fe2b5-9713-49b7-8ef1-8338e3f9d253\")>,\n",
       " <selenium.webdriver.remote.webelement.WebElement (session=\"3a0874063382d6d7cd59ff6e0111e75a\", element=\"110940d2-d6d2-496f-99e1-c098b996cff9\")>]"
      ]
     },
     "execution_count": 81,
     "metadata": {},
     "output_type": "execute_result"
    }
   ],
   "source": [
    "# For extracting Rating\n",
    "\n",
    "rating_tag=driver.find_elements_by_xpath(\"//div[@class='_3LWZlK _1BLPMq']\")\n",
    "rating_tag[0:5]"
   ]
  },
  {
   "cell_type": "code",
   "execution_count": 82,
   "id": "bfc16ed7",
   "metadata": {},
   "outputs": [
    {
     "data": {
      "text/plain": [
       "['5', '5', '5', '5', '5']"
      ]
     },
     "execution_count": 82,
     "metadata": {},
     "output_type": "execute_result"
    }
   ],
   "source": [
    "# Get text data out of brand_tags\n",
    "for i in rating_tag:\n",
    "    rate=i.text\n",
    "    Rating.append(rate)\n",
    "Rating[0:5]"
   ]
  },
  {
   "cell_type": "code",
   "execution_count": 83,
   "id": "36e0b517",
   "metadata": {},
   "outputs": [
    {
     "name": "stderr",
     "output_type": "stream",
     "text": [
      "<ipython-input-83-892177014715>:3: DeprecationWarning: find_elements_by_* commands are deprecated. Please use find_elements() instead\n",
      "  summary_tag=driver.find_elements_by_xpath(\"//p[@class='_2-N8zT']\")\n"
     ]
    },
    {
     "data": {
      "text/plain": [
       "[<selenium.webdriver.remote.webelement.WebElement (session=\"3a0874063382d6d7cd59ff6e0111e75a\", element=\"c1699481-1230-4465-92bb-1440cceb548a\")>,\n",
       " <selenium.webdriver.remote.webelement.WebElement (session=\"3a0874063382d6d7cd59ff6e0111e75a\", element=\"4dfe76d0-642e-4695-adf4-eb26be7a0c6f\")>,\n",
       " <selenium.webdriver.remote.webelement.WebElement (session=\"3a0874063382d6d7cd59ff6e0111e75a\", element=\"cf44f128-534e-435d-87c0-5e37ef7b37c4\")>,\n",
       " <selenium.webdriver.remote.webelement.WebElement (session=\"3a0874063382d6d7cd59ff6e0111e75a\", element=\"32bbee2a-18e6-4a0a-96f6-5cc9139aaad0\")>,\n",
       " <selenium.webdriver.remote.webelement.WebElement (session=\"3a0874063382d6d7cd59ff6e0111e75a\", element=\"30a90ed3-52dd-444c-a647-d74bc1c2d11a\")>]"
      ]
     },
     "execution_count": 83,
     "metadata": {},
     "output_type": "execute_result"
    }
   ],
   "source": [
    "# For extracting Review summary\n",
    "\n",
    "summary_tag=driver.find_elements_by_xpath(\"//p[@class='_2-N8zT']\")\n",
    "summary_tag[0:5]"
   ]
  },
  {
   "cell_type": "code",
   "execution_count": 84,
   "id": "cb39136e",
   "metadata": {},
   "outputs": [
    {
     "data": {
      "text/plain": [
       "['Brilliant',\n",
       " 'Simply awesome',\n",
       " 'Best in the market!',\n",
       " 'Perfect product!',\n",
       " 'Worth every penny']"
      ]
     },
     "execution_count": 84,
     "metadata": {},
     "output_type": "execute_result"
    }
   ],
   "source": [
    "# Get text data out of summary_tags\n",
    "for i in summary_tag:\n",
    "    review=i.text\n",
    "    Review_summary.append(review)\n",
    "Review_summary[0:5]"
   ]
  },
  {
   "cell_type": "code",
   "execution_count": 85,
   "id": "733b031f",
   "metadata": {},
   "outputs": [
    {
     "name": "stderr",
     "output_type": "stream",
     "text": [
      "<ipython-input-85-94be34fdf6d2>:3: DeprecationWarning: find_elements_by_* commands are deprecated. Please use find_elements() instead\n",
      "  Review_tag=driver.find_elements_by_xpath(\"//div[@class='t-ZTKy']\")\n"
     ]
    },
    {
     "data": {
      "text/plain": [
       "[<selenium.webdriver.remote.webelement.WebElement (session=\"3a0874063382d6d7cd59ff6e0111e75a\", element=\"7fe5c4ac-2fc5-4971-a57d-c54de1dce08e\")>,\n",
       " <selenium.webdriver.remote.webelement.WebElement (session=\"3a0874063382d6d7cd59ff6e0111e75a\", element=\"609d2a66-d672-4a05-a3c9-e1d7000b2745\")>,\n",
       " <selenium.webdriver.remote.webelement.WebElement (session=\"3a0874063382d6d7cd59ff6e0111e75a\", element=\"c22a818c-286b-4caa-b5f1-527f4642b0f8\")>,\n",
       " <selenium.webdriver.remote.webelement.WebElement (session=\"3a0874063382d6d7cd59ff6e0111e75a\", element=\"03671553-f1bd-4ab4-91f5-67d9773e4fd1\")>,\n",
       " <selenium.webdriver.remote.webelement.WebElement (session=\"3a0874063382d6d7cd59ff6e0111e75a\", element=\"2a6e1ef3-2408-4494-9308-80be1e70582f\")>]"
      ]
     },
     "execution_count": 85,
     "metadata": {},
     "output_type": "execute_result"
    }
   ],
   "source": [
    "# For extracting Full Review \n",
    "\n",
    "Review_tag=driver.find_elements_by_xpath(\"//div[@class='t-ZTKy']\")\n",
    "Review_tag[0:5]"
   ]
  },
  {
   "cell_type": "code",
   "execution_count": 86,
   "id": "1ef9bdf4",
   "metadata": {},
   "outputs": [
    {
     "data": {
      "text/plain": [
       "['The Best Phone for the Money\\n\\nThe iPhone 11 offers superb cameras, a more durable design and excellent battery life for an affordable price.\\n\\nCompelling ultra-wide camera\\nNew Night mode is excellent\\nLong battery life',\n",
       " 'Really satisfied with the Product I received... It’s totally genuine and the packaging was also really good so if ur planning to buy just go for it.',\n",
       " 'Great iPhone very snappy experience as apple kind. Upgraded from iPhone 7.\\nPros\\n-Camera top class\\n- Battery top performed\\n-Chipset no need to say as apple kind\\n-Security as you expect from apple\\n- Display super bright industry leading colour\\naccuracy and super responsive\\n-Build quality as expect from apple sturdy\\npremium durable beautiful stylish.\\n-Os most stable os in smartphone industry\\n\\nCons\\n-No 5G\\n-Display is not based on OLED technology\\n-Charger headphones and 1 apple stic...\\nREAD MORE',\n",
       " 'Amazing phone with great cameras and better battery which gives you the best performance. I just love the camera .',\n",
       " 'Previously I was using one plus 3t it was a great phone\\nAnd then I decided to upgrade I am stuck between Samsung s10 plus or iPhone 11\\nI have seen the specs and everything were good except the display it’s somewhere between 720-1080 and it’s not even an amoled it’s an LCD display\\nBut I decided to go with iPhone because I have never used an IOS device I have Been an android user from the past 9 years I ordered IPhone 11 (128gb) product red\\nMy experience after using 3 weeks\\n1. The delivery ...\\nREAD MORE']"
      ]
     },
     "execution_count": 86,
     "metadata": {},
     "output_type": "execute_result"
    }
   ],
   "source": [
    "# Get text data out of Review_tags\n",
    "for i in Review_tag:\n",
    "    fullreview=i.text\n",
    "    Full_review.append(fullreview)\n",
    "Full_review[0:5]"
   ]
  },
  {
   "cell_type": "code",
   "execution_count": 87,
   "id": "81528c5e",
   "metadata": {},
   "outputs": [
    {
     "name": "stderr",
     "output_type": "stream",
     "text": [
      "<ipython-input-87-909e46dfd123>:3: DeprecationWarning: find_elements_by_* commands are deprecated. Please use find_elements() instead\n",
      "  rating_tag=driver.find_elements_by_xpath(\"//div[@class='_3LWZlK _1BLPMq']\")\n",
      "<ipython-input-87-909e46dfd123>:9: DeprecationWarning: find_elements_by_* commands are deprecated. Please use find_elements() instead\n",
      "  summary_tag=driver.find_elements_by_xpath(\"//p[@class='_2-N8zT']\")\n",
      "<ipython-input-87-909e46dfd123>:14: DeprecationWarning: find_elements_by_* commands are deprecated. Please use find_elements() instead\n",
      "  Review_tag=driver.find_elements_by_xpath(\"//div[@class='t-ZTKy']\")\n"
     ]
    }
   ],
   "source": [
    "driver.get('https://www.flipkart.com/apple-iphone-11-black-64-gb-includes-earpods-power-adapter/product-reviews/itm0f37c2240b217?pid=MOBFKCTSVZAXUHGR&lid=LSTMOBFKCTSVZAXUHGREPBFGI&marketplace=FLIPKART&page=2')\n",
    "\n",
    "rating_tag=driver.find_elements_by_xpath(\"//div[@class='_3LWZlK _1BLPMq']\")\n",
    "for i in rating_tag:\n",
    "    rate=i.text\n",
    "    Rating.append(rate)\n",
    "\n",
    "    \n",
    "summary_tag=driver.find_elements_by_xpath(\"//p[@class='_2-N8zT']\")\n",
    "for i in summary_tag:\n",
    "    review=i.text\n",
    "    Review_summary.append(review)\n",
    "\n",
    "Review_tag=driver.find_elements_by_xpath(\"//div[@class='t-ZTKy']\")\n",
    "for i in Review_tag:\n",
    "    fullreview=i.text\n",
    "    Full_review.append(fullreview)"
   ]
  },
  {
   "cell_type": "code",
   "execution_count": 88,
   "id": "ae743599",
   "metadata": {},
   "outputs": [
    {
     "name": "stderr",
     "output_type": "stream",
     "text": [
      "<ipython-input-88-3522ef878cef>:3: DeprecationWarning: find_elements_by_* commands are deprecated. Please use find_elements() instead\n",
      "  rating_tag=driver.find_elements_by_xpath(\"//div[@class='_3LWZlK _1BLPMq']\")\n",
      "<ipython-input-88-3522ef878cef>:9: DeprecationWarning: find_elements_by_* commands are deprecated. Please use find_elements() instead\n",
      "  summary_tag=driver.find_elements_by_xpath(\"//p[@class='_2-N8zT']\")\n",
      "<ipython-input-88-3522ef878cef>:14: DeprecationWarning: find_elements_by_* commands are deprecated. Please use find_elements() instead\n",
      "  Review_tag=driver.find_elements_by_xpath(\"//div[@class='t-ZTKy']\")\n"
     ]
    }
   ],
   "source": [
    "driver.get('https://www.flipkart.com/apple-iphone-11-black-64-gb-includes-earpods-power-adapter/product-reviews/itm0f37c2240b217?pid=MOBFKCTSVZAXUHGR&lid=LSTMOBFKCTSVZAXUHGREPBFGI&marketplace=FLIPKART&page=3')\n",
    "\n",
    "rating_tag=driver.find_elements_by_xpath(\"//div[@class='_3LWZlK _1BLPMq']\")\n",
    "for i in rating_tag:\n",
    "    rate=i.text\n",
    "    Rating.append(rate)\n",
    "\n",
    "    \n",
    "summary_tag=driver.find_elements_by_xpath(\"//p[@class='_2-N8zT']\")\n",
    "for i in summary_tag:\n",
    "    review=i.text\n",
    "    Review_summary.append(review)\n",
    "\n",
    "Review_tag=driver.find_elements_by_xpath(\"//div[@class='t-ZTKy']\")\n",
    "for i in Review_tag:\n",
    "    fullreview=i.text\n",
    "    Full_review.append(fullreview)"
   ]
  },
  {
   "cell_type": "code",
   "execution_count": 89,
   "id": "961268d7",
   "metadata": {},
   "outputs": [
    {
     "name": "stderr",
     "output_type": "stream",
     "text": [
      "<ipython-input-89-88259fcfb77e>:3: DeprecationWarning: find_elements_by_* commands are deprecated. Please use find_elements() instead\n",
      "  rating_tag=driver.find_elements_by_xpath(\"//div[@class='_3LWZlK _1BLPMq']\")\n",
      "<ipython-input-89-88259fcfb77e>:9: DeprecationWarning: find_elements_by_* commands are deprecated. Please use find_elements() instead\n",
      "  summary_tag=driver.find_elements_by_xpath(\"//p[@class='_2-N8zT']\")\n",
      "<ipython-input-89-88259fcfb77e>:14: DeprecationWarning: find_elements_by_* commands are deprecated. Please use find_elements() instead\n",
      "  Review_tag=driver.find_elements_by_xpath(\"//div[@class='t-ZTKy']\")\n"
     ]
    }
   ],
   "source": [
    "driver.get('https://www.flipkart.com/apple-iphone-11-black-64-gb-includes-earpods-power-adapter/product-reviews/itm0f37c2240b217?pid=MOBFKCTSVZAXUHGR&lid=LSTMOBFKCTSVZAXUHGREPBFGI&marketplace=FLIPKART&page=4')\n",
    "\n",
    "rating_tag=driver.find_elements_by_xpath(\"//div[@class='_3LWZlK _1BLPMq']\")\n",
    "for i in rating_tag:\n",
    "    rate=i.text\n",
    "    Rating.append(rate)\n",
    "\n",
    "    \n",
    "summary_tag=driver.find_elements_by_xpath(\"//p[@class='_2-N8zT']\")\n",
    "for i in summary_tag:\n",
    "    review=i.text\n",
    "    Review_summary.append(review)\n",
    "\n",
    "Review_tag=driver.find_elements_by_xpath(\"//div[@class='t-ZTKy']\")\n",
    "for i in Review_tag:\n",
    "    fullreview=i.text\n",
    "    Full_review.append(fullreview)"
   ]
  },
  {
   "cell_type": "code",
   "execution_count": 90,
   "id": "8e02cf63",
   "metadata": {},
   "outputs": [
    {
     "name": "stderr",
     "output_type": "stream",
     "text": [
      "<ipython-input-90-5d3e5a6fd259>:3: DeprecationWarning: find_elements_by_* commands are deprecated. Please use find_elements() instead\n",
      "  rating_tag=driver.find_elements_by_xpath(\"//div[@class='_3LWZlK _1BLPMq']\")\n",
      "<ipython-input-90-5d3e5a6fd259>:9: DeprecationWarning: find_elements_by_* commands are deprecated. Please use find_elements() instead\n",
      "  summary_tag=driver.find_elements_by_xpath(\"//p[@class='_2-N8zT']\")\n",
      "<ipython-input-90-5d3e5a6fd259>:14: DeprecationWarning: find_elements_by_* commands are deprecated. Please use find_elements() instead\n",
      "  Review_tag=driver.find_elements_by_xpath(\"//div[@class='t-ZTKy']\")\n"
     ]
    }
   ],
   "source": [
    "driver.get('https://www.flipkart.com/apple-iphone-11-black-64-gb-includes-earpods-power-adapter/product-reviews/itm0f37c2240b217?pid=MOBFKCTSVZAXUHGR&lid=LSTMOBFKCTSVZAXUHGREPBFGI&marketplace=FLIPKART&page=5')\n",
    "\n",
    "rating_tag=driver.find_elements_by_xpath(\"//div[@class='_3LWZlK _1BLPMq']\")\n",
    "for i in rating_tag:\n",
    "    rate=i.text\n",
    "    Rating.append(rate)\n",
    "\n",
    "    \n",
    "summary_tag=driver.find_elements_by_xpath(\"//p[@class='_2-N8zT']\")\n",
    "for i in summary_tag:\n",
    "    review=i.text\n",
    "    Review_summary.append(review)\n",
    "\n",
    "Review_tag=driver.find_elements_by_xpath(\"//div[@class='t-ZTKy']\")\n",
    "for i in Review_tag:\n",
    "    fullreview=i.text\n",
    "    Full_review.append(fullreview)"
   ]
  },
  {
   "cell_type": "code",
   "execution_count": 91,
   "id": "4b875c78",
   "metadata": {},
   "outputs": [
    {
     "name": "stderr",
     "output_type": "stream",
     "text": [
      "<ipython-input-91-19a2e62a6a58>:3: DeprecationWarning: find_elements_by_* commands are deprecated. Please use find_elements() instead\n",
      "  rating_tag=driver.find_elements_by_xpath(\"//div[@class='_3LWZlK _1BLPMq']\")\n",
      "<ipython-input-91-19a2e62a6a58>:9: DeprecationWarning: find_elements_by_* commands are deprecated. Please use find_elements() instead\n",
      "  summary_tag=driver.find_elements_by_xpath(\"//p[@class='_2-N8zT']\")\n",
      "<ipython-input-91-19a2e62a6a58>:14: DeprecationWarning: find_elements_by_* commands are deprecated. Please use find_elements() instead\n",
      "  Review_tag=driver.find_elements_by_xpath(\"//div[@class='t-ZTKy']\")\n"
     ]
    }
   ],
   "source": [
    "driver.get('https://www.flipkart.com/apple-iphone-11-black-64-gb-includes-earpods-power-adapter/product-reviews/itm0f37c2240b217?pid=MOBFKCTSVZAXUHGR&lid=LSTMOBFKCTSVZAXUHGREPBFGI&marketplace=FLIPKART&page=6')\n",
    "\n",
    "rating_tag=driver.find_elements_by_xpath(\"//div[@class='_3LWZlK _1BLPMq']\")\n",
    "for i in rating_tag:\n",
    "    rate=i.text\n",
    "    Rating.append(rate)\n",
    "\n",
    "    \n",
    "summary_tag=driver.find_elements_by_xpath(\"//p[@class='_2-N8zT']\")\n",
    "for i in summary_tag:\n",
    "    review=i.text\n",
    "    Review_summary.append(review)\n",
    "\n",
    "Review_tag=driver.find_elements_by_xpath(\"//div[@class='t-ZTKy']\")\n",
    "for i in Review_tag:\n",
    "    fullreview=i.text\n",
    "    Full_review.append(fullreview)"
   ]
  },
  {
   "cell_type": "code",
   "execution_count": 92,
   "id": "f13c9b72",
   "metadata": {},
   "outputs": [
    {
     "name": "stderr",
     "output_type": "stream",
     "text": [
      "<ipython-input-92-aca09f2a76a7>:3: DeprecationWarning: find_elements_by_* commands are deprecated. Please use find_elements() instead\n",
      "  rating_tag=driver.find_elements_by_xpath(\"//div[@class='_3LWZlK _1BLPMq']\")\n",
      "<ipython-input-92-aca09f2a76a7>:9: DeprecationWarning: find_elements_by_* commands are deprecated. Please use find_elements() instead\n",
      "  summary_tag=driver.find_elements_by_xpath(\"//p[@class='_2-N8zT']\")\n",
      "<ipython-input-92-aca09f2a76a7>:14: DeprecationWarning: find_elements_by_* commands are deprecated. Please use find_elements() instead\n",
      "  Review_tag=driver.find_elements_by_xpath(\"//div[@class='t-ZTKy']\")\n"
     ]
    }
   ],
   "source": [
    "driver.get('https://www.flipkart.com/apple-iphone-11-black-64-gb-includes-earpods-power-adapter/product-reviews/itm0f37c2240b217?pid=MOBFKCTSVZAXUHGR&lid=LSTMOBFKCTSVZAXUHGREPBFGI&marketplace=FLIPKART&page=7')\n",
    "\n",
    "rating_tag=driver.find_elements_by_xpath(\"//div[@class='_3LWZlK _1BLPMq']\")\n",
    "for i in rating_tag:\n",
    "    rate=i.text\n",
    "    Rating.append(rate)\n",
    "\n",
    "    \n",
    "summary_tag=driver.find_elements_by_xpath(\"//p[@class='_2-N8zT']\")\n",
    "for i in summary_tag:\n",
    "    review=i.text\n",
    "    Review_summary.append(review)\n",
    "\n",
    "Review_tag=driver.find_elements_by_xpath(\"//div[@class='t-ZTKy']\")\n",
    "for i in Review_tag:\n",
    "    fullreview=i.text\n",
    "    Full_review.append(fullreview)"
   ]
  },
  {
   "cell_type": "code",
   "execution_count": 93,
   "id": "8db85393",
   "metadata": {},
   "outputs": [
    {
     "name": "stderr",
     "output_type": "stream",
     "text": [
      "<ipython-input-93-deefb1eaf490>:3: DeprecationWarning: find_elements_by_* commands are deprecated. Please use find_elements() instead\n",
      "  rating_tag=driver.find_elements_by_xpath(\"//div[@class='_3LWZlK _1BLPMq']\")\n",
      "<ipython-input-93-deefb1eaf490>:9: DeprecationWarning: find_elements_by_* commands are deprecated. Please use find_elements() instead\n",
      "  summary_tag=driver.find_elements_by_xpath(\"//p[@class='_2-N8zT']\")\n",
      "<ipython-input-93-deefb1eaf490>:14: DeprecationWarning: find_elements_by_* commands are deprecated. Please use find_elements() instead\n",
      "  Review_tag=driver.find_elements_by_xpath(\"//div[@class='t-ZTKy']\")\n"
     ]
    }
   ],
   "source": [
    "driver.get('https://www.flipkart.com/apple-iphone-11-black-64-gb-includes-earpods-power-adapter/product-reviews/itm0f37c2240b217?pid=MOBFKCTSVZAXUHGR&lid=LSTMOBFKCTSVZAXUHGREPBFGI&marketplace=FLIPKART&page=8')\n",
    "\n",
    "rating_tag=driver.find_elements_by_xpath(\"//div[@class='_3LWZlK _1BLPMq']\")\n",
    "for i in rating_tag:\n",
    "    rate=i.text\n",
    "    Rating.append(rate)\n",
    "\n",
    "    \n",
    "summary_tag=driver.find_elements_by_xpath(\"//p[@class='_2-N8zT']\")\n",
    "for i in summary_tag:\n",
    "    review=i.text\n",
    "    Review_summary.append(review)\n",
    "\n",
    "Review_tag=driver.find_elements_by_xpath(\"//div[@class='t-ZTKy']\")\n",
    "for i in Review_tag:\n",
    "    fullreview=i.text\n",
    "    Full_review.append(fullreview)"
   ]
  },
  {
   "cell_type": "code",
   "execution_count": 94,
   "id": "1a4f5452",
   "metadata": {},
   "outputs": [
    {
     "name": "stderr",
     "output_type": "stream",
     "text": [
      "<ipython-input-94-4a146335c38f>:3: DeprecationWarning: find_elements_by_* commands are deprecated. Please use find_elements() instead\n",
      "  rating_tag=driver.find_elements_by_xpath(\"//div[@class='_3LWZlK _1BLPMq']\")\n",
      "<ipython-input-94-4a146335c38f>:9: DeprecationWarning: find_elements_by_* commands are deprecated. Please use find_elements() instead\n",
      "  summary_tag=driver.find_elements_by_xpath(\"//p[@class='_2-N8zT']\")\n",
      "<ipython-input-94-4a146335c38f>:14: DeprecationWarning: find_elements_by_* commands are deprecated. Please use find_elements() instead\n",
      "  Review_tag=driver.find_elements_by_xpath(\"//div[@class='t-ZTKy']\")\n"
     ]
    }
   ],
   "source": [
    "driver.get('https://www.flipkart.com/apple-iphone-11-black-64-gb-includes-earpods-power-adapter/product-reviews/itm0f37c2240b217?pid=MOBFKCTSVZAXUHGR&lid=LSTMOBFKCTSVZAXUHGREPBFGI&marketplace=FLIPKART&page=9')\n",
    "\n",
    "rating_tag=driver.find_elements_by_xpath(\"//div[@class='_3LWZlK _1BLPMq']\")\n",
    "for i in rating_tag:\n",
    "    rate=i.text\n",
    "    Rating.append(rate)\n",
    "\n",
    "    \n",
    "summary_tag=driver.find_elements_by_xpath(\"//p[@class='_2-N8zT']\")\n",
    "for i in summary_tag:\n",
    "    review=i.text\n",
    "    Review_summary.append(review)\n",
    "\n",
    "Review_tag=driver.find_elements_by_xpath(\"//div[@class='t-ZTKy']\")\n",
    "for i in Review_tag:\n",
    "    fullreview=i.text\n",
    "    Full_review.append(fullreview)"
   ]
  },
  {
   "cell_type": "code",
   "execution_count": 95,
   "id": "2359ed60",
   "metadata": {},
   "outputs": [
    {
     "name": "stderr",
     "output_type": "stream",
     "text": [
      "<ipython-input-95-784f1056880b>:3: DeprecationWarning: find_elements_by_* commands are deprecated. Please use find_elements() instead\n",
      "  rating_tag=driver.find_elements_by_xpath(\"//div[@class='_3LWZlK _1BLPMq']\")\n",
      "<ipython-input-95-784f1056880b>:9: DeprecationWarning: find_elements_by_* commands are deprecated. Please use find_elements() instead\n",
      "  summary_tag=driver.find_elements_by_xpath(\"//p[@class='_2-N8zT']\")\n",
      "<ipython-input-95-784f1056880b>:14: DeprecationWarning: find_elements_by_* commands are deprecated. Please use find_elements() instead\n",
      "  Review_tag=driver.find_elements_by_xpath(\"//div[@class='t-ZTKy']\")\n"
     ]
    }
   ],
   "source": [
    "driver.get('https://www.flipkart.com/apple-iphone-11-black-64-gb-includes-earpods-power-adapter/product-reviews/itm0f37c2240b217?pid=MOBFKCTSVZAXUHGR&lid=LSTMOBFKCTSVZAXUHGREPBFGI&marketplace=FLIPKART&page=10')\n",
    "\n",
    "rating_tag=driver.find_elements_by_xpath(\"//div[@class='_3LWZlK _1BLPMq']\")\n",
    "for i in rating_tag:\n",
    "    rate=i.text\n",
    "    Rating.append(rate)\n",
    "\n",
    "    \n",
    "summary_tag=driver.find_elements_by_xpath(\"//p[@class='_2-N8zT']\")\n",
    "for i in summary_tag:\n",
    "    review=i.text\n",
    "    Review_summary.append(review)\n",
    "\n",
    "Review_tag=driver.find_elements_by_xpath(\"//div[@class='t-ZTKy']\")\n",
    "for i in Review_tag:\n",
    "    fullreview=i.text\n",
    "    Full_review.append(fullreview)"
   ]
  },
  {
   "cell_type": "code",
   "execution_count": 96,
   "id": "5b5b6bbe",
   "metadata": {},
   "outputs": [
    {
     "data": {
      "text/html": [
       "<div>\n",
       "<style scoped>\n",
       "    .dataframe tbody tr th:only-of-type {\n",
       "        vertical-align: middle;\n",
       "    }\n",
       "\n",
       "    .dataframe tbody tr th {\n",
       "        vertical-align: top;\n",
       "    }\n",
       "\n",
       "    .dataframe thead th {\n",
       "        text-align: right;\n",
       "    }\n",
       "</style>\n",
       "<table border=\"1\" class=\"dataframe\">\n",
       "  <thead>\n",
       "    <tr style=\"text-align: right;\">\n",
       "      <th></th>\n",
       "      <th>Rating</th>\n",
       "      <th>Review_summary</th>\n",
       "      <th>Full_review</th>\n",
       "    </tr>\n",
       "  </thead>\n",
       "  <tbody>\n",
       "    <tr>\n",
       "      <th>0</th>\n",
       "      <td>5</td>\n",
       "      <td>Brilliant</td>\n",
       "      <td>The Best Phone for the Money\\n\\nThe iPhone 11 ...</td>\n",
       "    </tr>\n",
       "    <tr>\n",
       "      <th>1</th>\n",
       "      <td>5</td>\n",
       "      <td>Simply awesome</td>\n",
       "      <td>Really satisfied with the Product I received.....</td>\n",
       "    </tr>\n",
       "    <tr>\n",
       "      <th>2</th>\n",
       "      <td>5</td>\n",
       "      <td>Best in the market!</td>\n",
       "      <td>Great iPhone very snappy experience as apple k...</td>\n",
       "    </tr>\n",
       "    <tr>\n",
       "      <th>3</th>\n",
       "      <td>5</td>\n",
       "      <td>Perfect product!</td>\n",
       "      <td>Amazing phone with great cameras and better ba...</td>\n",
       "    </tr>\n",
       "    <tr>\n",
       "      <th>4</th>\n",
       "      <td>5</td>\n",
       "      <td>Worth every penny</td>\n",
       "      <td>Previously I was using one plus 3t it was a gr...</td>\n",
       "    </tr>\n",
       "    <tr>\n",
       "      <th>5</th>\n",
       "      <td>5</td>\n",
       "      <td>Fabulous!</td>\n",
       "      <td>This is my first iOS phone. I am very happy wi...</td>\n",
       "    </tr>\n",
       "    <tr>\n",
       "      <th>6</th>\n",
       "      <td>5</td>\n",
       "      <td>Great product</td>\n",
       "      <td>Amazing Powerful and Durable Gadget.\\n\\nI’m am...</td>\n",
       "    </tr>\n",
       "    <tr>\n",
       "      <th>7</th>\n",
       "      <td>4</td>\n",
       "      <td>Good choice</td>\n",
       "      <td>So far it’s been an AMAZING experience coming ...</td>\n",
       "    </tr>\n",
       "    <tr>\n",
       "      <th>8</th>\n",
       "      <td>5</td>\n",
       "      <td>Worth every penny</td>\n",
       "      <td>i11 is worthy to buy, too much happy with the ...</td>\n",
       "    </tr>\n",
       "    <tr>\n",
       "      <th>9</th>\n",
       "      <td>5</td>\n",
       "      <td>Highly recommended</td>\n",
       "      <td>What a camera .....just awesome ..you can feel...</td>\n",
       "    </tr>\n",
       "    <tr>\n",
       "      <th>10</th>\n",
       "      <td>5</td>\n",
       "      <td>Highly recommended</td>\n",
       "      <td>iphone 11 is a very good phone to buy only if ...</td>\n",
       "    </tr>\n",
       "    <tr>\n",
       "      <th>11</th>\n",
       "      <td>5</td>\n",
       "      <td>Perfect product!</td>\n",
       "      <td>It’s a must buy who is looking for an upgrade ...</td>\n",
       "    </tr>\n",
       "    <tr>\n",
       "      <th>12</th>\n",
       "      <td>5</td>\n",
       "      <td>Perfect product!</td>\n",
       "      <td>Value for money❤️❤️\\nIts awesome mobile phone ...</td>\n",
       "    </tr>\n",
       "    <tr>\n",
       "      <th>13</th>\n",
       "      <td>5</td>\n",
       "      <td>Classy product</td>\n",
       "      <td>Totally in love with this ❤ the camera quality...</td>\n",
       "    </tr>\n",
       "    <tr>\n",
       "      <th>14</th>\n",
       "      <td>5</td>\n",
       "      <td>Perfect product!</td>\n",
       "      <td>Iphone is just awesome.. battery backup is ver...</td>\n",
       "    </tr>\n",
       "    <tr>\n",
       "      <th>15</th>\n",
       "      <td>5</td>\n",
       "      <td>Worth every penny</td>\n",
       "      <td>Best budget Iphone till date ❤️ go for it guys...</td>\n",
       "    </tr>\n",
       "    <tr>\n",
       "      <th>16</th>\n",
       "      <td>5</td>\n",
       "      <td>Highly recommended</td>\n",
       "      <td>It's my first time to use iOS phone and I am l...</td>\n",
       "    </tr>\n",
       "    <tr>\n",
       "      <th>17</th>\n",
       "      <td>5</td>\n",
       "      <td>Simply awesome</td>\n",
       "      <td>Excellent camera, good performance, no lag. Th...</td>\n",
       "    </tr>\n",
       "    <tr>\n",
       "      <th>18</th>\n",
       "      <td>5</td>\n",
       "      <td>Worth every penny</td>\n",
       "      <td>Smooth like butter, camera like fantabulous, s...</td>\n",
       "    </tr>\n",
       "    <tr>\n",
       "      <th>19</th>\n",
       "      <td>5</td>\n",
       "      <td>Worth every penny</td>\n",
       "      <td>It’s been almost a month since I have been usi...</td>\n",
       "    </tr>\n",
       "    <tr>\n",
       "      <th>20</th>\n",
       "      <td>5</td>\n",
       "      <td>Wonderful</td>\n",
       "      <td>This is my first ever I phone. Before this I w...</td>\n",
       "    </tr>\n",
       "    <tr>\n",
       "      <th>21</th>\n",
       "      <td>5</td>\n",
       "      <td>Terrific</td>\n",
       "      <td>Really worth of money. i just love it. It is t...</td>\n",
       "    </tr>\n",
       "    <tr>\n",
       "      <th>22</th>\n",
       "      <td>4</td>\n",
       "      <td>Nice product</td>\n",
       "      <td>Awesome Phone. Slightly high price but worth. ...</td>\n",
       "    </tr>\n",
       "    <tr>\n",
       "      <th>23</th>\n",
       "      <td>5</td>\n",
       "      <td>Perfect product!</td>\n",
       "      <td>Battery backup is extraordinary, camera is dec...</td>\n",
       "    </tr>\n",
       "    <tr>\n",
       "      <th>24</th>\n",
       "      <td>5</td>\n",
       "      <td>Brilliant</td>\n",
       "      <td>I have migrated from OP 7pro... and trust me, ...</td>\n",
       "    </tr>\n",
       "    <tr>\n",
       "      <th>25</th>\n",
       "      <td>5</td>\n",
       "      <td>Classy product</td>\n",
       "      <td>Superb Product !!!\\nA big and worthy upgrade f...</td>\n",
       "    </tr>\n",
       "    <tr>\n",
       "      <th>26</th>\n",
       "      <td>5</td>\n",
       "      <td>Must buy!</td>\n",
       "      <td>It’s an amazing product from apple and the cam...</td>\n",
       "    </tr>\n",
       "    <tr>\n",
       "      <th>27</th>\n",
       "      <td>4</td>\n",
       "      <td>Good choice</td>\n",
       "      <td>Looking so good 👍 😍 super 👌 stylish 😎 phone\\nC...</td>\n",
       "    </tr>\n",
       "    <tr>\n",
       "      <th>28</th>\n",
       "      <td>5</td>\n",
       "      <td>Wonderful</td>\n",
       "      <td>I just directly switch from iphone 6s to iphon...</td>\n",
       "    </tr>\n",
       "    <tr>\n",
       "      <th>29</th>\n",
       "      <td>5</td>\n",
       "      <td>Perfect product!</td>\n",
       "      <td>After 1 month use I found camera quality best ...</td>\n",
       "    </tr>\n",
       "  </tbody>\n",
       "</table>\n",
       "</div>"
      ],
      "text/plain": [
       "   Rating       Review_summary  \\\n",
       "0       5            Brilliant   \n",
       "1       5       Simply awesome   \n",
       "2       5  Best in the market!   \n",
       "3       5     Perfect product!   \n",
       "4       5    Worth every penny   \n",
       "5       5            Fabulous!   \n",
       "6       5        Great product   \n",
       "7       4          Good choice   \n",
       "8       5    Worth every penny   \n",
       "9       5   Highly recommended   \n",
       "10      5   Highly recommended   \n",
       "11      5     Perfect product!   \n",
       "12      5     Perfect product!   \n",
       "13      5       Classy product   \n",
       "14      5     Perfect product!   \n",
       "15      5    Worth every penny   \n",
       "16      5   Highly recommended   \n",
       "17      5       Simply awesome   \n",
       "18      5    Worth every penny   \n",
       "19      5    Worth every penny   \n",
       "20      5            Wonderful   \n",
       "21      5             Terrific   \n",
       "22      4         Nice product   \n",
       "23      5     Perfect product!   \n",
       "24      5            Brilliant   \n",
       "25      5       Classy product   \n",
       "26      5            Must buy!   \n",
       "27      4          Good choice   \n",
       "28      5            Wonderful   \n",
       "29      5     Perfect product!   \n",
       "\n",
       "                                          Full_review  \n",
       "0   The Best Phone for the Money\\n\\nThe iPhone 11 ...  \n",
       "1   Really satisfied with the Product I received.....  \n",
       "2   Great iPhone very snappy experience as apple k...  \n",
       "3   Amazing phone with great cameras and better ba...  \n",
       "4   Previously I was using one plus 3t it was a gr...  \n",
       "5   This is my first iOS phone. I am very happy wi...  \n",
       "6   Amazing Powerful and Durable Gadget.\\n\\nI’m am...  \n",
       "7   So far it’s been an AMAZING experience coming ...  \n",
       "8   i11 is worthy to buy, too much happy with the ...  \n",
       "9   What a camera .....just awesome ..you can feel...  \n",
       "10  iphone 11 is a very good phone to buy only if ...  \n",
       "11  It’s a must buy who is looking for an upgrade ...  \n",
       "12  Value for money❤️❤️\\nIts awesome mobile phone ...  \n",
       "13  Totally in love with this ❤ the camera quality...  \n",
       "14  Iphone is just awesome.. battery backup is ver...  \n",
       "15  Best budget Iphone till date ❤️ go for it guys...  \n",
       "16  It's my first time to use iOS phone and I am l...  \n",
       "17  Excellent camera, good performance, no lag. Th...  \n",
       "18  Smooth like butter, camera like fantabulous, s...  \n",
       "19  It’s been almost a month since I have been usi...  \n",
       "20  This is my first ever I phone. Before this I w...  \n",
       "21  Really worth of money. i just love it. It is t...  \n",
       "22  Awesome Phone. Slightly high price but worth. ...  \n",
       "23  Battery backup is extraordinary, camera is dec...  \n",
       "24  I have migrated from OP 7pro... and trust me, ...  \n",
       "25  Superb Product !!!\\nA big and worthy upgrade f...  \n",
       "26  It’s an amazing product from apple and the cam...  \n",
       "27  Looking so good 👍 😍 super 👌 stylish 😎 phone\\nC...  \n",
       "28  I just directly switch from iphone 6s to iphon...  \n",
       "29  After 1 month use I found camera quality best ...  "
      ]
     },
     "execution_count": 96,
     "metadata": {},
     "output_type": "execute_result"
    }
   ],
   "source": [
    "# Prepare a DataFrame with the First 100 search only\n",
    "\n",
    "iphone=pd.DataFrame({})\n",
    "iphone['Rating']=Rating[:30]\n",
    "iphone['Review_summary']=Review_summary[:30]\n",
    "iphone['Full_review']=Full_review[:30]\n",
    "\n",
    "iphone"
   ]
  },
  {
   "cell_type": "code",
   "execution_count": 97,
   "id": "b2d90750",
   "metadata": {},
   "outputs": [],
   "source": [
    "driver.close()"
   ]
  },
  {
   "cell_type": "markdown",
   "id": "25a7f539",
   "metadata": {},
   "source": [
    "# Q6: Scrape data for first 100 sneakers you find when you visit flipkart.com and search for “sneakers” in the search field. \n",
    "'''You have to scrape 4 attributes of each sneaker: \n",
    "1. Brand \n",
    "2. Product Description \n",
    "3. Price '''\n"
   ]
  },
  {
   "cell_type": "code",
   "execution_count": 100,
   "id": "2d64b871",
   "metadata": {},
   "outputs": [
    {
     "name": "stderr",
     "output_type": "stream",
     "text": [
      "<ipython-input-100-8abfbf9b0d54>:4: DeprecationWarning: executable_path has been deprecated, please pass in a Service object\n",
      "  driver=webdriver.Chrome(r\"C:/Users/LENOVO/Downloads/chromedriver_win32/chromedriver.exe\")\n"
     ]
    }
   ],
   "source": [
    "# Open the driver\n",
    "\n",
    "\n",
    "driver=webdriver.Chrome(r\"C:/Users/LENOVO/Downloads/chromedriver_win32/chromedriver.exe\")"
   ]
  },
  {
   "cell_type": "code",
   "execution_count": 101,
   "id": "b69a6a1e",
   "metadata": {},
   "outputs": [],
   "source": [
    "# Use the required URL with the driver\n",
    "driver.get('https://www.flipkart.com/?s_kwcid=AL!739!3!461541692285!e!!g!!flipcart&gclsrc=aw.ds&&semcmpid=sem_8024046704_brand_city_nc_goog&gclid=EAIaIQobChMI95K5oqrZ9AIVaZlmAh2tVw0pEAAYASAAEgKkQvD_BwE')"
   ]
  },
  {
   "cell_type": "code",
   "execution_count": 102,
   "id": "7d0169f6",
   "metadata": {},
   "outputs": [
    {
     "name": "stderr",
     "output_type": "stream",
     "text": [
      "<ipython-input-102-08eaa581abc0>:2: DeprecationWarning: find_element_by_* commands are deprecated. Please use find_element() instead\n",
      "  search_loc=driver.find_element_by_xpath(\"//input[@class='_3704LK']\")\n"
     ]
    }
   ],
   "source": [
    "# Find the elements for sunglasses \n",
    "search_loc=driver.find_element_by_xpath(\"//input[@class='_3704LK']\")\n",
    "search_loc.send_keys('sneakers')"
   ]
  },
  {
   "cell_type": "code",
   "execution_count": 103,
   "id": "c96f4ed5",
   "metadata": {},
   "outputs": [
    {
     "name": "stderr",
     "output_type": "stream",
     "text": [
      "<ipython-input-103-20eb25e5444e>:3: DeprecationWarning: find_element_by_* commands are deprecated. Please use find_element() instead\n",
      "  search_btn=driver.find_element_by_xpath(\"//button[@type='submit']\")\n"
     ]
    }
   ],
   "source": [
    "# Activate the search button for searching the specified J\n",
    "\n",
    "search_btn=driver.find_element_by_xpath(\"//button[@type='submit']\")\n",
    "search_btn.submit()"
   ]
  },
  {
   "cell_type": "code",
   "execution_count": 104,
   "id": "a38672c4",
   "metadata": {},
   "outputs": [],
   "source": [
    "url='https://www.flipkart.com/search?q=sneakers&otracker=search&otracker1=search&marketplace=FLIPKART&as-show=on&as=off'"
   ]
  },
  {
   "cell_type": "code",
   "execution_count": 105,
   "id": "5a8b2fd9",
   "metadata": {},
   "outputs": [],
   "source": [
    "driver.get(url)"
   ]
  },
  {
   "cell_type": "code",
   "execution_count": 106,
   "id": "27056a42",
   "metadata": {},
   "outputs": [],
   "source": [
    "## Need to extract brand ,product description,price\n",
    "brand=[]\n",
    "price=[]\n",
    "productDescription=[]"
   ]
  },
  {
   "cell_type": "code",
   "execution_count": 107,
   "id": "1948be18",
   "metadata": {},
   "outputs": [
    {
     "name": "stderr",
     "output_type": "stream",
     "text": [
      "<ipython-input-107-c4793e826b6b>:3: DeprecationWarning: find_elements_by_* commands are deprecated. Please use find_elements() instead\n",
      "  brand_tag=driver.find_elements_by_xpath(\"//div[@class='_2WkVRV']\")\n"
     ]
    },
    {
     "data": {
      "text/plain": [
       "[<selenium.webdriver.remote.webelement.WebElement (session=\"19e26592d3877c589b89d9dfcd5a5619\", element=\"e2f9ceba-0c3b-44a2-b19c-5b773a9963ef\")>,\n",
       " <selenium.webdriver.remote.webelement.WebElement (session=\"19e26592d3877c589b89d9dfcd5a5619\", element=\"eeabc3f5-6497-4681-b473-98dd3dd773a4\")>,\n",
       " <selenium.webdriver.remote.webelement.WebElement (session=\"19e26592d3877c589b89d9dfcd5a5619\", element=\"8470e3bc-e57d-4e28-b8d3-1cd76d1fade2\")>,\n",
       " <selenium.webdriver.remote.webelement.WebElement (session=\"19e26592d3877c589b89d9dfcd5a5619\", element=\"b95afa11-8859-4490-9208-848687d4873d\")>,\n",
       " <selenium.webdriver.remote.webelement.WebElement (session=\"19e26592d3877c589b89d9dfcd5a5619\", element=\"ee98c4d2-ddeb-4207-a255-f97c515a4650\")>,\n",
       " <selenium.webdriver.remote.webelement.WebElement (session=\"19e26592d3877c589b89d9dfcd5a5619\", element=\"6d0f7bfb-2c32-4f10-afbf-642b6ed86e8a\")>,\n",
       " <selenium.webdriver.remote.webelement.WebElement (session=\"19e26592d3877c589b89d9dfcd5a5619\", element=\"a0b23479-7d80-4fda-8301-8dcecca72e30\")>,\n",
       " <selenium.webdriver.remote.webelement.WebElement (session=\"19e26592d3877c589b89d9dfcd5a5619\", element=\"383bce23-5acd-4f95-9dbe-6c5f477b2325\")>,\n",
       " <selenium.webdriver.remote.webelement.WebElement (session=\"19e26592d3877c589b89d9dfcd5a5619\", element=\"29432c98-53df-440e-b3ae-3139a30c98e9\")>,\n",
       " <selenium.webdriver.remote.webelement.WebElement (session=\"19e26592d3877c589b89d9dfcd5a5619\", element=\"b3ed6ecc-8824-4d90-b95b-8f84276297b5\")>,\n",
       " <selenium.webdriver.remote.webelement.WebElement (session=\"19e26592d3877c589b89d9dfcd5a5619\", element=\"1ae046c6-0512-4024-917f-6250c5d296ac\")>,\n",
       " <selenium.webdriver.remote.webelement.WebElement (session=\"19e26592d3877c589b89d9dfcd5a5619\", element=\"19da8f65-e243-4334-94a1-08476de9dc9d\")>,\n",
       " <selenium.webdriver.remote.webelement.WebElement (session=\"19e26592d3877c589b89d9dfcd5a5619\", element=\"25caacc0-a71d-478d-9818-2bda2e59645c\")>,\n",
       " <selenium.webdriver.remote.webelement.WebElement (session=\"19e26592d3877c589b89d9dfcd5a5619\", element=\"b2350344-85f8-4e85-a6f1-63dea20aa5fe\")>,\n",
       " <selenium.webdriver.remote.webelement.WebElement (session=\"19e26592d3877c589b89d9dfcd5a5619\", element=\"f6fb8bd5-d7ca-46f2-b5d7-2b2b5c651b90\")>,\n",
       " <selenium.webdriver.remote.webelement.WebElement (session=\"19e26592d3877c589b89d9dfcd5a5619\", element=\"9de16b2d-2944-4596-9d28-155396549776\")>,\n",
       " <selenium.webdriver.remote.webelement.WebElement (session=\"19e26592d3877c589b89d9dfcd5a5619\", element=\"1e805920-1735-48a4-aaec-a185f7eef1b1\")>,\n",
       " <selenium.webdriver.remote.webelement.WebElement (session=\"19e26592d3877c589b89d9dfcd5a5619\", element=\"c3924dce-7b33-4cd8-b422-30cd90e02c5b\")>,\n",
       " <selenium.webdriver.remote.webelement.WebElement (session=\"19e26592d3877c589b89d9dfcd5a5619\", element=\"d6d8a169-6667-48b1-a03e-6331f47d497a\")>,\n",
       " <selenium.webdriver.remote.webelement.WebElement (session=\"19e26592d3877c589b89d9dfcd5a5619\", element=\"5380d08a-8576-4370-97fd-08f8663c5ed1\")>,\n",
       " <selenium.webdriver.remote.webelement.WebElement (session=\"19e26592d3877c589b89d9dfcd5a5619\", element=\"a4a1de76-637a-44ef-a359-eec470ea819d\")>,\n",
       " <selenium.webdriver.remote.webelement.WebElement (session=\"19e26592d3877c589b89d9dfcd5a5619\", element=\"f4b61cbf-7435-4576-8f89-3954f2e964e5\")>,\n",
       " <selenium.webdriver.remote.webelement.WebElement (session=\"19e26592d3877c589b89d9dfcd5a5619\", element=\"01d74da8-8270-48de-b339-3a85b4052703\")>,\n",
       " <selenium.webdriver.remote.webelement.WebElement (session=\"19e26592d3877c589b89d9dfcd5a5619\", element=\"424baa01-011e-4168-a7f1-56a45323041e\")>,\n",
       " <selenium.webdriver.remote.webelement.WebElement (session=\"19e26592d3877c589b89d9dfcd5a5619\", element=\"3f36b98b-67bd-452a-a099-2c239bc8ffb3\")>,\n",
       " <selenium.webdriver.remote.webelement.WebElement (session=\"19e26592d3877c589b89d9dfcd5a5619\", element=\"ac76ec7a-c84a-41a7-a61b-ef2e2fbd730d\")>,\n",
       " <selenium.webdriver.remote.webelement.WebElement (session=\"19e26592d3877c589b89d9dfcd5a5619\", element=\"62810521-44c3-49dc-b047-4a00a96665d3\")>,\n",
       " <selenium.webdriver.remote.webelement.WebElement (session=\"19e26592d3877c589b89d9dfcd5a5619\", element=\"4c0efcdc-d029-49dc-a736-07c206abd17a\")>,\n",
       " <selenium.webdriver.remote.webelement.WebElement (session=\"19e26592d3877c589b89d9dfcd5a5619\", element=\"e81e8aea-7666-4558-8c64-644a4f707c4e\")>,\n",
       " <selenium.webdriver.remote.webelement.WebElement (session=\"19e26592d3877c589b89d9dfcd5a5619\", element=\"e77a3399-72db-4b1f-ba66-ca90611e6252\")>,\n",
       " <selenium.webdriver.remote.webelement.WebElement (session=\"19e26592d3877c589b89d9dfcd5a5619\", element=\"feaf3189-aebc-4454-bb68-5cb8922ea0cf\")>,\n",
       " <selenium.webdriver.remote.webelement.WebElement (session=\"19e26592d3877c589b89d9dfcd5a5619\", element=\"e145e23c-2ea1-435c-a3c2-1f8955666d78\")>,\n",
       " <selenium.webdriver.remote.webelement.WebElement (session=\"19e26592d3877c589b89d9dfcd5a5619\", element=\"e63e661c-a268-4ee4-8fd7-5d0d238c72eb\")>,\n",
       " <selenium.webdriver.remote.webelement.WebElement (session=\"19e26592d3877c589b89d9dfcd5a5619\", element=\"87fa429a-0e6a-4bb2-ad0b-18ccd8b1a9d7\")>,\n",
       " <selenium.webdriver.remote.webelement.WebElement (session=\"19e26592d3877c589b89d9dfcd5a5619\", element=\"16a577ce-93e4-4d97-b899-3224a8d5a16b\")>,\n",
       " <selenium.webdriver.remote.webelement.WebElement (session=\"19e26592d3877c589b89d9dfcd5a5619\", element=\"cd446c3e-f67a-418c-aac5-2d441d7e6379\")>,\n",
       " <selenium.webdriver.remote.webelement.WebElement (session=\"19e26592d3877c589b89d9dfcd5a5619\", element=\"6102bf48-4dfa-44e5-9a20-849de418b18f\")>,\n",
       " <selenium.webdriver.remote.webelement.WebElement (session=\"19e26592d3877c589b89d9dfcd5a5619\", element=\"d14cade0-33f8-455e-877b-e877a93e6628\")>,\n",
       " <selenium.webdriver.remote.webelement.WebElement (session=\"19e26592d3877c589b89d9dfcd5a5619\", element=\"91284336-c57b-4497-8ab5-e4bfa6532a5f\")>,\n",
       " <selenium.webdriver.remote.webelement.WebElement (session=\"19e26592d3877c589b89d9dfcd5a5619\", element=\"4b70bfc4-469d-421c-88a0-f3eb044e1128\")>]"
      ]
     },
     "execution_count": 107,
     "metadata": {},
     "output_type": "execute_result"
    }
   ],
   "source": [
    "# For extracting brand\n",
    "\n",
    "brand_tag=driver.find_elements_by_xpath(\"//div[@class='_2WkVRV']\")\n",
    "brand_tag"
   ]
  },
  {
   "cell_type": "code",
   "execution_count": 108,
   "id": "fad159fc",
   "metadata": {},
   "outputs": [
    {
     "data": {
      "text/plain": [
       "['India hub',\n",
       " 'Chevit',\n",
       " 'URBANBOX',\n",
       " 'Shoes Bank',\n",
       " 'BRUTON',\n",
       " 'Chevit',\n",
       " 'Magnolia',\n",
       " 'RapidBox',\n",
       " 'BIRDE',\n",
       " 'Labbin',\n",
       " 'BRUTON',\n",
       " 'RapidBox',\n",
       " 'Kraasa',\n",
       " 'Chevit',\n",
       " 'Edoeviv',\n",
       " 'sixXplus',\n",
       " 'luxury fashion',\n",
       " 'T-ROCK',\n",
       " 'SCATCHITE',\n",
       " 'believe',\n",
       " 'BIRDE',\n",
       " 'Rzisbo',\n",
       " 'BRUTON',\n",
       " 'FOOTSTAIR',\n",
       " 'Numenzo',\n",
       " 'Numenzo',\n",
       " 'BIRDE',\n",
       " 'Chevit',\n",
       " 'Clymb',\n",
       " 'BIRDE',\n",
       " 'Absolute comfort',\n",
       " 'ESSENCE',\n",
       " 'Extoes',\n",
       " 'ganpati traders',\n",
       " 'Kraasa',\n",
       " 'NIKE',\n",
       " 'BRUTON',\n",
       " 'Robbie jones',\n",
       " 'Robbie jones',\n",
       " 'Chevit']"
      ]
     },
     "execution_count": 108,
     "metadata": {},
     "output_type": "execute_result"
    }
   ],
   "source": [
    "# Get text data out of brand_tags\n",
    "for i in brand_tag:\n",
    "    Brand=i.text\n",
    "    brand.append(Brand)\n",
    "brand"
   ]
  },
  {
   "cell_type": "code",
   "execution_count": 109,
   "id": "8b5af523",
   "metadata": {},
   "outputs": [
    {
     "name": "stderr",
     "output_type": "stream",
     "text": [
      "<ipython-input-109-ffb52557ccd4>:3: DeprecationWarning: find_elements_by_* commands are deprecated. Please use find_elements() instead\n",
      "  price_tag=driver.find_elements_by_xpath(\"//div[@class='_30jeq3']\")\n"
     ]
    },
    {
     "data": {
      "text/plain": [
       "[<selenium.webdriver.remote.webelement.WebElement (session=\"19e26592d3877c589b89d9dfcd5a5619\", element=\"435cbdcb-7fb6-4e11-882e-d56f18ee4ad8\")>,\n",
       " <selenium.webdriver.remote.webelement.WebElement (session=\"19e26592d3877c589b89d9dfcd5a5619\", element=\"e567b98f-8c52-4df4-98ec-a62d70f4a70f\")>,\n",
       " <selenium.webdriver.remote.webelement.WebElement (session=\"19e26592d3877c589b89d9dfcd5a5619\", element=\"3d1c80eb-c475-4f16-a65e-dbc900a51bb4\")>,\n",
       " <selenium.webdriver.remote.webelement.WebElement (session=\"19e26592d3877c589b89d9dfcd5a5619\", element=\"217f709a-61c9-4c6d-b0a8-c952c2abd897\")>,\n",
       " <selenium.webdriver.remote.webelement.WebElement (session=\"19e26592d3877c589b89d9dfcd5a5619\", element=\"8ca03955-4867-4230-ae25-48a1a043a674\")>,\n",
       " <selenium.webdriver.remote.webelement.WebElement (session=\"19e26592d3877c589b89d9dfcd5a5619\", element=\"be5a9be5-ee84-4e10-be34-6b3ca07a1d27\")>,\n",
       " <selenium.webdriver.remote.webelement.WebElement (session=\"19e26592d3877c589b89d9dfcd5a5619\", element=\"24591350-df90-4a79-8846-ed488b03b959\")>,\n",
       " <selenium.webdriver.remote.webelement.WebElement (session=\"19e26592d3877c589b89d9dfcd5a5619\", element=\"77fb3f9d-1328-460a-91e5-245a505f0b71\")>,\n",
       " <selenium.webdriver.remote.webelement.WebElement (session=\"19e26592d3877c589b89d9dfcd5a5619\", element=\"264313d2-2d82-4528-843a-28990b5f3a55\")>,\n",
       " <selenium.webdriver.remote.webelement.WebElement (session=\"19e26592d3877c589b89d9dfcd5a5619\", element=\"b86c12fe-8492-43d5-9365-94afd363c434\")>,\n",
       " <selenium.webdriver.remote.webelement.WebElement (session=\"19e26592d3877c589b89d9dfcd5a5619\", element=\"21d41bab-ff3c-4801-84be-a7eaad6768c2\")>,\n",
       " <selenium.webdriver.remote.webelement.WebElement (session=\"19e26592d3877c589b89d9dfcd5a5619\", element=\"7e761134-01aa-420e-b9ab-f37d09b1f2a5\")>,\n",
       " <selenium.webdriver.remote.webelement.WebElement (session=\"19e26592d3877c589b89d9dfcd5a5619\", element=\"f6fec376-dfa9-446c-8afb-fd0b6772385a\")>,\n",
       " <selenium.webdriver.remote.webelement.WebElement (session=\"19e26592d3877c589b89d9dfcd5a5619\", element=\"7f558289-c36e-45d1-ab5b-82ebee507695\")>,\n",
       " <selenium.webdriver.remote.webelement.WebElement (session=\"19e26592d3877c589b89d9dfcd5a5619\", element=\"a1cd8635-b0d3-478b-a21f-2477780e71ea\")>,\n",
       " <selenium.webdriver.remote.webelement.WebElement (session=\"19e26592d3877c589b89d9dfcd5a5619\", element=\"7f531a40-2ab8-4657-828c-58ee75eaf672\")>,\n",
       " <selenium.webdriver.remote.webelement.WebElement (session=\"19e26592d3877c589b89d9dfcd5a5619\", element=\"7e11d5fb-d355-4678-8fdc-a52c07b4525f\")>,\n",
       " <selenium.webdriver.remote.webelement.WebElement (session=\"19e26592d3877c589b89d9dfcd5a5619\", element=\"c1f6d7cf-f4ff-4248-a3c5-109006df689c\")>,\n",
       " <selenium.webdriver.remote.webelement.WebElement (session=\"19e26592d3877c589b89d9dfcd5a5619\", element=\"547bec7c-85db-4400-929b-5c8cbbb13fb8\")>,\n",
       " <selenium.webdriver.remote.webelement.WebElement (session=\"19e26592d3877c589b89d9dfcd5a5619\", element=\"c36aede8-2f24-4fbd-90ff-dd885ddff42c\")>,\n",
       " <selenium.webdriver.remote.webelement.WebElement (session=\"19e26592d3877c589b89d9dfcd5a5619\", element=\"25d34008-ad69-4e0e-b7ca-4b86683ce2c9\")>,\n",
       " <selenium.webdriver.remote.webelement.WebElement (session=\"19e26592d3877c589b89d9dfcd5a5619\", element=\"d4e6a96a-fcb7-43da-9c6b-ce91f10cefdc\")>,\n",
       " <selenium.webdriver.remote.webelement.WebElement (session=\"19e26592d3877c589b89d9dfcd5a5619\", element=\"e7429c5f-31f8-4e3c-bf05-ac7636af3565\")>,\n",
       " <selenium.webdriver.remote.webelement.WebElement (session=\"19e26592d3877c589b89d9dfcd5a5619\", element=\"4c1c3401-3037-4dd6-9f6d-be803fe48f8f\")>,\n",
       " <selenium.webdriver.remote.webelement.WebElement (session=\"19e26592d3877c589b89d9dfcd5a5619\", element=\"755bf199-ba49-408b-9b49-63f3059cfbcb\")>,\n",
       " <selenium.webdriver.remote.webelement.WebElement (session=\"19e26592d3877c589b89d9dfcd5a5619\", element=\"a0215f70-5e02-4381-af64-a001bf9d7c73\")>,\n",
       " <selenium.webdriver.remote.webelement.WebElement (session=\"19e26592d3877c589b89d9dfcd5a5619\", element=\"daf23388-2aa7-4a8a-bbb9-51788c56e122\")>,\n",
       " <selenium.webdriver.remote.webelement.WebElement (session=\"19e26592d3877c589b89d9dfcd5a5619\", element=\"57dd97d0-693a-4387-9d89-30a5447f08bd\")>,\n",
       " <selenium.webdriver.remote.webelement.WebElement (session=\"19e26592d3877c589b89d9dfcd5a5619\", element=\"e304df66-d6c8-4e1b-b14b-f9cda0535a1d\")>,\n",
       " <selenium.webdriver.remote.webelement.WebElement (session=\"19e26592d3877c589b89d9dfcd5a5619\", element=\"153a3d1c-1af2-40b1-be38-62bd61fff608\")>,\n",
       " <selenium.webdriver.remote.webelement.WebElement (session=\"19e26592d3877c589b89d9dfcd5a5619\", element=\"0ddce9f4-e947-48d2-bfb7-9574bf05e864\")>,\n",
       " <selenium.webdriver.remote.webelement.WebElement (session=\"19e26592d3877c589b89d9dfcd5a5619\", element=\"22fc64a5-dbfb-48b6-9a00-890e78e1dfbc\")>,\n",
       " <selenium.webdriver.remote.webelement.WebElement (session=\"19e26592d3877c589b89d9dfcd5a5619\", element=\"00cc1eba-8867-4a8c-a408-df8fee40916f\")>,\n",
       " <selenium.webdriver.remote.webelement.WebElement (session=\"19e26592d3877c589b89d9dfcd5a5619\", element=\"d60d0e30-a0d8-4148-8c57-1a37ee1a7e46\")>,\n",
       " <selenium.webdriver.remote.webelement.WebElement (session=\"19e26592d3877c589b89d9dfcd5a5619\", element=\"f08f4f66-64c7-4cd6-8f51-ca0548309ade\")>,\n",
       " <selenium.webdriver.remote.webelement.WebElement (session=\"19e26592d3877c589b89d9dfcd5a5619\", element=\"01c3d885-9e9b-409e-956e-fe91301d7dfe\")>,\n",
       " <selenium.webdriver.remote.webelement.WebElement (session=\"19e26592d3877c589b89d9dfcd5a5619\", element=\"d024e3d0-db34-4598-b45b-64f751fa8df0\")>,\n",
       " <selenium.webdriver.remote.webelement.WebElement (session=\"19e26592d3877c589b89d9dfcd5a5619\", element=\"1ac01347-b561-48de-b398-82fcc5b4cdad\")>,\n",
       " <selenium.webdriver.remote.webelement.WebElement (session=\"19e26592d3877c589b89d9dfcd5a5619\", element=\"2ada57a4-b30a-4631-8781-6ea9f7f63c5f\")>,\n",
       " <selenium.webdriver.remote.webelement.WebElement (session=\"19e26592d3877c589b89d9dfcd5a5619\", element=\"e3b70651-3b5f-43e1-b0cd-0cbc07b6a222\")>]"
      ]
     },
     "execution_count": 109,
     "metadata": {},
     "output_type": "execute_result"
    }
   ],
   "source": [
    "# For extracting price\n",
    "\n",
    "price_tag=driver.find_elements_by_xpath(\"//div[@class='_30jeq3']\")\n",
    "price_tag"
   ]
  },
  {
   "cell_type": "code",
   "execution_count": 110,
   "id": "0e48ceee",
   "metadata": {},
   "outputs": [
    {
     "data": {
      "text/plain": [
       "['₹429',\n",
       " '₹420',\n",
       " '₹220',\n",
       " '₹378',\n",
       " '₹299',\n",
       " '₹536',\n",
       " '₹398',\n",
       " '₹620',\n",
       " '₹422',\n",
       " '₹474',\n",
       " '₹293',\n",
       " '₹640',\n",
       " '₹444',\n",
       " '₹425',\n",
       " '₹499',\n",
       " '₹424',\n",
       " '₹429',\n",
       " '₹379',\n",
       " '₹398',\n",
       " '₹424',\n",
       " '₹379',\n",
       " '₹549',\n",
       " '₹299',\n",
       " '₹749',\n",
       " '₹499',\n",
       " '₹429',\n",
       " '₹423',\n",
       " '₹679',\n",
       " '₹649',\n",
       " '₹423',\n",
       " '₹166',\n",
       " '₹399',\n",
       " '₹898',\n",
       " '₹183',\n",
       " '₹444',\n",
       " '₹4,995',\n",
       " '₹499',\n",
       " '₹474',\n",
       " '₹451',\n",
       " '₹447']"
      ]
     },
     "execution_count": 110,
     "metadata": {},
     "output_type": "execute_result"
    }
   ],
   "source": [
    "# Get text data out of price\n",
    "for i in price_tag:\n",
    "    Price=i.text\n",
    "    price.append(Price)\n",
    "price"
   ]
  },
  {
   "cell_type": "code",
   "execution_count": 111,
   "id": "964a0507",
   "metadata": {},
   "outputs": [
    {
     "name": "stderr",
     "output_type": "stream",
     "text": [
      "<ipython-input-111-14c59cb5be50>:3: DeprecationWarning: find_elements_by_* commands are deprecated. Please use find_elements() instead\n",
      "  product_tag=driver.find_elements_by_xpath(\"//a[@class='IRpwTa']\")\n"
     ]
    },
    {
     "data": {
      "text/plain": [
       "[<selenium.webdriver.remote.webelement.WebElement (session=\"19e26592d3877c589b89d9dfcd5a5619\", element=\"93efda24-ef5b-44af-94c8-2b94b0f54f03\")>,\n",
       " <selenium.webdriver.remote.webelement.WebElement (session=\"19e26592d3877c589b89d9dfcd5a5619\", element=\"be4c2131-1b1d-453c-a842-a6627e35b4e7\")>,\n",
       " <selenium.webdriver.remote.webelement.WebElement (session=\"19e26592d3877c589b89d9dfcd5a5619\", element=\"945c7f4e-fd37-458d-8c02-ceba60a02253\")>,\n",
       " <selenium.webdriver.remote.webelement.WebElement (session=\"19e26592d3877c589b89d9dfcd5a5619\", element=\"926e22e7-e5e3-49d1-a740-3570e6516a0a\")>,\n",
       " <selenium.webdriver.remote.webelement.WebElement (session=\"19e26592d3877c589b89d9dfcd5a5619\", element=\"72fd607c-d2ce-4eaa-90b8-42cb0a9b3585\")>,\n",
       " <selenium.webdriver.remote.webelement.WebElement (session=\"19e26592d3877c589b89d9dfcd5a5619\", element=\"ca752f0f-2274-4692-8240-4a737166ca34\")>,\n",
       " <selenium.webdriver.remote.webelement.WebElement (session=\"19e26592d3877c589b89d9dfcd5a5619\", element=\"72a4bc40-8016-40b5-aca1-b3c63dc98120\")>,\n",
       " <selenium.webdriver.remote.webelement.WebElement (session=\"19e26592d3877c589b89d9dfcd5a5619\", element=\"9af05452-b850-466a-8ce2-105b83b0a367\")>,\n",
       " <selenium.webdriver.remote.webelement.WebElement (session=\"19e26592d3877c589b89d9dfcd5a5619\", element=\"37326117-ac9d-46ba-b4f0-1e7bb2f7ade3\")>,\n",
       " <selenium.webdriver.remote.webelement.WebElement (session=\"19e26592d3877c589b89d9dfcd5a5619\", element=\"cdd3feed-8216-4e3f-b741-68cc4b15105b\")>,\n",
       " <selenium.webdriver.remote.webelement.WebElement (session=\"19e26592d3877c589b89d9dfcd5a5619\", element=\"8028014e-a6d3-4ce4-a1a5-16db71f2a9be\")>,\n",
       " <selenium.webdriver.remote.webelement.WebElement (session=\"19e26592d3877c589b89d9dfcd5a5619\", element=\"1f036774-331c-4a4e-9dd2-26356baaecd8\")>,\n",
       " <selenium.webdriver.remote.webelement.WebElement (session=\"19e26592d3877c589b89d9dfcd5a5619\", element=\"2623cb53-5d1e-438a-93c8-ef0daadf227c\")>,\n",
       " <selenium.webdriver.remote.webelement.WebElement (session=\"19e26592d3877c589b89d9dfcd5a5619\", element=\"fd2a5316-5bbe-4701-baea-a242833b5069\")>,\n",
       " <selenium.webdriver.remote.webelement.WebElement (session=\"19e26592d3877c589b89d9dfcd5a5619\", element=\"928feabb-d4f4-4a6e-8e3a-4ef483a9f026\")>,\n",
       " <selenium.webdriver.remote.webelement.WebElement (session=\"19e26592d3877c589b89d9dfcd5a5619\", element=\"5cf3a84e-40b6-4ba7-a059-464540be82b1\")>,\n",
       " <selenium.webdriver.remote.webelement.WebElement (session=\"19e26592d3877c589b89d9dfcd5a5619\", element=\"83bf4c65-8125-4afa-97bb-c9d1a4a3f755\")>,\n",
       " <selenium.webdriver.remote.webelement.WebElement (session=\"19e26592d3877c589b89d9dfcd5a5619\", element=\"15bcb2bc-39ca-49e4-9f4b-3e2bce887394\")>,\n",
       " <selenium.webdriver.remote.webelement.WebElement (session=\"19e26592d3877c589b89d9dfcd5a5619\", element=\"c5b31676-aa40-4fcd-a37f-3ab49d7e9b6c\")>,\n",
       " <selenium.webdriver.remote.webelement.WebElement (session=\"19e26592d3877c589b89d9dfcd5a5619\", element=\"f44874ba-5f04-4ba2-b3bb-dfa5a678bf07\")>,\n",
       " <selenium.webdriver.remote.webelement.WebElement (session=\"19e26592d3877c589b89d9dfcd5a5619\", element=\"51e25102-cc0f-41d7-af3e-e4e96f80047b\")>,\n",
       " <selenium.webdriver.remote.webelement.WebElement (session=\"19e26592d3877c589b89d9dfcd5a5619\", element=\"594858a5-412e-42a8-9169-66066d786365\")>,\n",
       " <selenium.webdriver.remote.webelement.WebElement (session=\"19e26592d3877c589b89d9dfcd5a5619\", element=\"e50301c9-be8b-4543-8ceb-f4a21e32d688\")>,\n",
       " <selenium.webdriver.remote.webelement.WebElement (session=\"19e26592d3877c589b89d9dfcd5a5619\", element=\"e2369197-982a-4249-bb44-ffec6440606c\")>,\n",
       " <selenium.webdriver.remote.webelement.WebElement (session=\"19e26592d3877c589b89d9dfcd5a5619\", element=\"3a9a473c-1620-46a0-af22-eeaec1a9f33c\")>,\n",
       " <selenium.webdriver.remote.webelement.WebElement (session=\"19e26592d3877c589b89d9dfcd5a5619\", element=\"818a5df0-3ef5-4fd1-8f93-dff49876252b\")>,\n",
       " <selenium.webdriver.remote.webelement.WebElement (session=\"19e26592d3877c589b89d9dfcd5a5619\", element=\"602eb2e8-382b-4500-8222-fdc0f4124f0e\")>,\n",
       " <selenium.webdriver.remote.webelement.WebElement (session=\"19e26592d3877c589b89d9dfcd5a5619\", element=\"995b6d9d-4b81-42a9-99ab-8c316ede244a\")>,\n",
       " <selenium.webdriver.remote.webelement.WebElement (session=\"19e26592d3877c589b89d9dfcd5a5619\", element=\"0d70ddd3-2a52-450e-9dc4-cb55bc53ed50\")>,\n",
       " <selenium.webdriver.remote.webelement.WebElement (session=\"19e26592d3877c589b89d9dfcd5a5619\", element=\"a167d966-51cb-4d04-8a84-b07a9e597c4c\")>,\n",
       " <selenium.webdriver.remote.webelement.WebElement (session=\"19e26592d3877c589b89d9dfcd5a5619\", element=\"0234a991-255e-41ce-94ef-774f91f034c6\")>,\n",
       " <selenium.webdriver.remote.webelement.WebElement (session=\"19e26592d3877c589b89d9dfcd5a5619\", element=\"ce469ec1-a28b-46af-a8d3-de10b51ecb74\")>]"
      ]
     },
     "execution_count": 111,
     "metadata": {},
     "output_type": "execute_result"
    }
   ],
   "source": [
    "# For extracting product Description\n",
    "\n",
    "product_tag=driver.find_elements_by_xpath(\"//a[@class='IRpwTa']\")\n",
    "product_tag"
   ]
  },
  {
   "cell_type": "code",
   "execution_count": 112,
   "id": "dff8f043",
   "metadata": {},
   "outputs": [
    {
     "data": {
      "text/plain": [
       "['Sneakers For Men',\n",
       " 'Unique & Perfect Collection Combo Pack of 02 Shoes for ...',\n",
       " \"White Sneaker For Men's/Boy's Sneakers For Men\",\n",
       " 'Modern Trendy Sneakers Shoes Sneakers For Men',\n",
       " 'Super Stylish & Trendy Combo Pack of 02 Pairs Sneakers ...',\n",
       " 'Sneakers For Men',\n",
       " 'Combo Pack of 2 Casual Shoes Sneakers For Men',\n",
       " 'Sneakers For Men',\n",
       " '201 Sneakers For Men',\n",
       " 'Shark-41 Sneakers For Men',\n",
       " 'Combo Pack of 4 Casual Sneakers With Sneakers For Men',\n",
       " \"Luxury Branded Fashionable Men's Casual Walking Partywe...\",\n",
       " 'Luxury Fashionable casual shoes Sneakers For Men',\n",
       " 'Synthetic Leather Casual Partywear Wedding Sneakers Sho...',\n",
       " 'Sneakers Sneakers For Men',\n",
       " 'Sports Running Shoes Sneakers For Men',\n",
       " 'Sneakers For Men',\n",
       " 'Lattest Sneakers Shoe Sneakers For Men',\n",
       " '411 Casual Sneakers For Men',\n",
       " 'White Sneaker For Men Sneakers For Men',\n",
       " 'Combo Pack of 2 Casual Shoes Sneakers For Men',\n",
       " 'Speed Set of 5 Pairs Sneakers Outdoors Casuals for Men ...',\n",
       " 'Sneakers For Men',\n",
       " 'Combo Pack of 2 Casual Shoes Sneakers For Men',\n",
       " 'Sneakers For Men',\n",
       " 'Modern Trendy Shoes Combo pack of 4 Sneakers For Men',\n",
       " 'Series 7 Sneakers For Men',\n",
       " 'Court Vision Low Next Nature Sneakers For Men',\n",
       " 'Modern & Trendy Collection Combo Pack of 02 Shoes for M...',\n",
       " 'Sneakers For Men',\n",
       " 'Casual Sneakers Black Shoes For Men Sneakers For Men',\n",
       " 'Perfect & Affordable Combo Pack of 02 Pairs Sneakers Ou...']"
      ]
     },
     "execution_count": 112,
     "metadata": {},
     "output_type": "execute_result"
    }
   ],
   "source": [
    "# Get text data out of product \n",
    "for i in product_tag:\n",
    "    ProductDesc=i.text\n",
    "    productDescription.append(ProductDesc)\n",
    "productDescription"
   ]
  },
  {
   "cell_type": "code",
   "execution_count": 113,
   "id": "8968bc07",
   "metadata": {},
   "outputs": [
    {
     "name": "stderr",
     "output_type": "stream",
     "text": [
      "<ipython-input-113-08b48bebe8fa>:1: DeprecationWarning: find_elements_by_* commands are deprecated. Please use find_elements() instead\n",
      "  product_tag=driver.find_elements_by_xpath(\"//a[@class='IRpwTa _2-ICcC']\")\n"
     ]
    },
    {
     "data": {
      "text/plain": [
       "[<selenium.webdriver.remote.webelement.WebElement (session=\"19e26592d3877c589b89d9dfcd5a5619\", element=\"183c4de4-741b-4f5f-86c2-51f36e137184\")>,\n",
       " <selenium.webdriver.remote.webelement.WebElement (session=\"19e26592d3877c589b89d9dfcd5a5619\", element=\"838fb389-8ce2-4659-8f26-f875a75ad4fc\")>,\n",
       " <selenium.webdriver.remote.webelement.WebElement (session=\"19e26592d3877c589b89d9dfcd5a5619\", element=\"68a87551-2ed0-4c98-9025-425772fcf6c5\")>,\n",
       " <selenium.webdriver.remote.webelement.WebElement (session=\"19e26592d3877c589b89d9dfcd5a5619\", element=\"03da9796-b02a-46c2-9246-978306413497\")>,\n",
       " <selenium.webdriver.remote.webelement.WebElement (session=\"19e26592d3877c589b89d9dfcd5a5619\", element=\"47d8abb2-1023-4f42-9364-7bfbe0c8af33\")>,\n",
       " <selenium.webdriver.remote.webelement.WebElement (session=\"19e26592d3877c589b89d9dfcd5a5619\", element=\"67cf8049-330b-443c-805d-7227ad85ec21\")>,\n",
       " <selenium.webdriver.remote.webelement.WebElement (session=\"19e26592d3877c589b89d9dfcd5a5619\", element=\"90386778-e057-4fa3-83cd-2babe2375fe5\")>,\n",
       " <selenium.webdriver.remote.webelement.WebElement (session=\"19e26592d3877c589b89d9dfcd5a5619\", element=\"b36461b0-e50f-472a-966f-5802b67155e8\")>]"
      ]
     },
     "execution_count": 113,
     "metadata": {},
     "output_type": "execute_result"
    }
   ],
   "source": [
    "product_tag=driver.find_elements_by_xpath(\"//a[@class='IRpwTa _2-ICcC']\")\n",
    "product_tag"
   ]
  },
  {
   "cell_type": "code",
   "execution_count": 114,
   "id": "7f008bc8",
   "metadata": {},
   "outputs": [
    {
     "data": {
      "text/plain": [
       "['Sneakers For Men',\n",
       " 'Unique & Perfect Collection Combo Pack of 02 Shoes for ...',\n",
       " \"White Sneaker For Men's/Boy's Sneakers For Men\",\n",
       " 'Modern Trendy Sneakers Shoes Sneakers For Men',\n",
       " 'Super Stylish & Trendy Combo Pack of 02 Pairs Sneakers ...',\n",
       " 'Sneakers For Men',\n",
       " 'Combo Pack of 2 Casual Shoes Sneakers For Men',\n",
       " 'Sneakers For Men',\n",
       " '201 Sneakers For Men',\n",
       " 'Shark-41 Sneakers For Men',\n",
       " 'Combo Pack of 4 Casual Sneakers With Sneakers For Men',\n",
       " \"Luxury Branded Fashionable Men's Casual Walking Partywe...\",\n",
       " 'Luxury Fashionable casual shoes Sneakers For Men',\n",
       " 'Synthetic Leather Casual Partywear Wedding Sneakers Sho...',\n",
       " 'Sneakers Sneakers For Men',\n",
       " 'Sports Running Shoes Sneakers For Men',\n",
       " 'Sneakers For Men',\n",
       " 'Lattest Sneakers Shoe Sneakers For Men',\n",
       " '411 Casual Sneakers For Men',\n",
       " 'White Sneaker For Men Sneakers For Men',\n",
       " 'Combo Pack of 2 Casual Shoes Sneakers For Men',\n",
       " 'Speed Set of 5 Pairs Sneakers Outdoors Casuals for Men ...',\n",
       " 'Sneakers For Men',\n",
       " 'Combo Pack of 2 Casual Shoes Sneakers For Men',\n",
       " 'Sneakers For Men',\n",
       " 'Modern Trendy Shoes Combo pack of 4 Sneakers For Men',\n",
       " 'Series 7 Sneakers For Men',\n",
       " 'Court Vision Low Next Nature Sneakers For Men',\n",
       " 'Modern & Trendy Collection Combo Pack of 02 Shoes for M...',\n",
       " 'Sneakers For Men',\n",
       " 'Casual Sneakers Black Shoes For Men Sneakers For Men',\n",
       " 'Perfect & Affordable Combo Pack of 02 Pairs Sneakers Ou...',\n",
       " 'Sneakers Sneakers For Men',\n",
       " 'Stylish & Trendy Sneakers For Men',\n",
       " 'Sneakers For Men',\n",
       " 'Casual Sneakers black Shoes For Men Sneakers For Men',\n",
       " 'Sneakers for men Sneakers For Men',\n",
       " 'Sneakers For Men',\n",
       " 'SOFT Sneakers For Men',\n",
       " 'Sneakers For Men']"
      ]
     },
     "execution_count": 114,
     "metadata": {},
     "output_type": "execute_result"
    }
   ],
   "source": [
    "for i in product_tag:\n",
    "    ProductDesc=i.text\n",
    "    productDescription.append(ProductDesc)\n",
    "productDescription"
   ]
  },
  {
   "cell_type": "code",
   "execution_count": 115,
   "id": "7884d5cd",
   "metadata": {},
   "outputs": [
    {
     "name": "stdout",
     "output_type": "stream",
     "text": [
      "40 40 40\n"
     ]
    }
   ],
   "source": [
    "print(len(brand),len(price),len(productDescription))"
   ]
  },
  {
   "cell_type": "code",
   "execution_count": 116,
   "id": "d1915f98",
   "metadata": {},
   "outputs": [
    {
     "name": "stderr",
     "output_type": "stream",
     "text": [
      "<ipython-input-116-80e0c21feadd>:4: DeprecationWarning: find_elements_by_* commands are deprecated. Please use find_elements() instead\n",
      "  brand_tag=driver.find_elements_by_xpath(\"//div[@class='_2WkVRV']\")\n",
      "<ipython-input-116-80e0c21feadd>:9: DeprecationWarning: find_elements_by_* commands are deprecated. Please use find_elements() instead\n",
      "  price_tag=driver.find_elements_by_xpath(\"//div[@class='_30jeq3']\")\n",
      "<ipython-input-116-80e0c21feadd>:14: DeprecationWarning: find_elements_by_* commands are deprecated. Please use find_elements() instead\n",
      "  product_tag=driver.find_elements_by_xpath(\"//a[@class='IRpwTa']\")\n",
      "<ipython-input-116-80e0c21feadd>:18: DeprecationWarning: find_elements_by_* commands are deprecated. Please use find_elements() instead\n",
      "  product_tag=driver.find_elements_by_xpath(\"//a[@class='IRpwTa _2-ICcC']\")\n"
     ]
    }
   ],
   "source": [
    "driver.get(\"https://www.flipkart.com/search?q=sneakers&otracker=search&otracker1=search&https://www.myntra.com/shoes?f=Color%3ABlack_36454f&p=2&rf=Price%3A7149.0_14099.0_7149.0%20TO%2014099.0%2C7195.0_14130.0_7195.0%20TO%2014130.0%2C7187.0_14125.0_7187.0%20TO%2014125.0marketplace=FLIPKART&as-show=on&as=off&page=2\")\n",
    "\n",
    "\n",
    "brand_tag=driver.find_elements_by_xpath(\"//div[@class='_2WkVRV']\")\n",
    "for i in brand_tag:\n",
    "    Brand=i.text\n",
    "    brand.append(Brand)\n",
    "    \n",
    "price_tag=driver.find_elements_by_xpath(\"//div[@class='_30jeq3']\")\n",
    "for i in price_tag:\n",
    "    Price=i.text\n",
    "    price.append(Price)\n",
    "\n",
    "product_tag=driver.find_elements_by_xpath(\"//a[@class='IRpwTa']\")\n",
    "for i in product_tag:\n",
    "    ProductDesc=i.text\n",
    "    productDescription.append(ProductDesc)\n",
    "product_tag=driver.find_elements_by_xpath(\"//a[@class='IRpwTa _2-ICcC']\")\n",
    "for i in product_tag:\n",
    "    ProductDesc=i.text\n",
    "    productDescription.append(ProductDesc)\n",
    "    "
   ]
  },
  {
   "cell_type": "code",
   "execution_count": 117,
   "id": "e9f3a46f",
   "metadata": {},
   "outputs": [
    {
     "name": "stderr",
     "output_type": "stream",
     "text": [
      "<ipython-input-117-d62cc1b4faa7>:4: DeprecationWarning: find_elements_by_* commands are deprecated. Please use find_elements() instead\n",
      "  brand_tag=driver.find_elements_by_xpath(\"//div[@class='_2WkVRV']\")\n",
      "<ipython-input-117-d62cc1b4faa7>:9: DeprecationWarning: find_elements_by_* commands are deprecated. Please use find_elements() instead\n",
      "  price_tag=driver.find_elements_by_xpath(\"//div[@class='_30jeq3']\")\n",
      "<ipython-input-117-d62cc1b4faa7>:14: DeprecationWarning: find_elements_by_* commands are deprecated. Please use find_elements() instead\n",
      "  product_tag=driver.find_elements_by_xpath(\"//a[@class='IRpwTa']\")\n",
      "<ipython-input-117-d62cc1b4faa7>:18: DeprecationWarning: find_elements_by_* commands are deprecated. Please use find_elements() instead\n",
      "  product_tag=driver.find_elements_by_xpath(\"//a[@class='IRpwTa _2-ICcC']\")\n"
     ]
    }
   ],
   "source": [
    "driver.get(\"https://www.flipkart.com/search?q=sneakers&otracker=search&otracker1=search&https://www.myntra.com/shoes?f=Color%3ABlack_36454f&p=2&rf=Price%3A7149.0_14099.0_7149.0%20TO%2014099.0%2C7195.0_14130.0_7195.0%20TO%2014130.0%2C7187.0_14125.0_7187.0%20TO%2014125.0marketplace=FLIPKART&as-show=on&as=off&page=3\")\n",
    "\n",
    "\n",
    "brand_tag=driver.find_elements_by_xpath(\"//div[@class='_2WkVRV']\")\n",
    "for i in brand_tag:\n",
    "    Brand=i.text\n",
    "    brand.append(Brand)\n",
    "    \n",
    "price_tag=driver.find_elements_by_xpath(\"//div[@class='_30jeq3']\")\n",
    "for i in price_tag:\n",
    "    Price=i.text\n",
    "    price.append(Price)\n",
    "\n",
    "product_tag=driver.find_elements_by_xpath(\"//a[@class='IRpwTa']\")\n",
    "for i in product_tag:\n",
    "    ProductDesc=i.text\n",
    "    productDescription.append(ProductDesc)\n",
    "product_tag=driver.find_elements_by_xpath(\"//a[@class='IRpwTa _2-ICcC']\")\n",
    "for i in product_tag:\n",
    "    ProductDesc=i.text\n",
    "    productDescription.append(ProductDesc)\n",
    "    "
   ]
  },
  {
   "cell_type": "code",
   "execution_count": 118,
   "id": "0995897b",
   "metadata": {},
   "outputs": [
    {
     "data": {
      "text/html": [
       "<div>\n",
       "<style scoped>\n",
       "    .dataframe tbody tr th:only-of-type {\n",
       "        vertical-align: middle;\n",
       "    }\n",
       "\n",
       "    .dataframe tbody tr th {\n",
       "        vertical-align: top;\n",
       "    }\n",
       "\n",
       "    .dataframe thead th {\n",
       "        text-align: right;\n",
       "    }\n",
       "</style>\n",
       "<table border=\"1\" class=\"dataframe\">\n",
       "  <thead>\n",
       "    <tr style=\"text-align: right;\">\n",
       "      <th></th>\n",
       "      <th>Brand</th>\n",
       "      <th>Price</th>\n",
       "      <th>ProductDesc</th>\n",
       "    </tr>\n",
       "  </thead>\n",
       "  <tbody>\n",
       "    <tr>\n",
       "      <th>0</th>\n",
       "      <td>India hub</td>\n",
       "      <td>₹429</td>\n",
       "      <td>Sneakers For Men</td>\n",
       "    </tr>\n",
       "    <tr>\n",
       "      <th>1</th>\n",
       "      <td>Chevit</td>\n",
       "      <td>₹420</td>\n",
       "      <td>Unique &amp; Perfect Collection Combo Pack of 02 S...</td>\n",
       "    </tr>\n",
       "    <tr>\n",
       "      <th>2</th>\n",
       "      <td>URBANBOX</td>\n",
       "      <td>₹220</td>\n",
       "      <td>White Sneaker For Men's/Boy's Sneakers For Men</td>\n",
       "    </tr>\n",
       "    <tr>\n",
       "      <th>3</th>\n",
       "      <td>Shoes Bank</td>\n",
       "      <td>₹378</td>\n",
       "      <td>Modern Trendy Sneakers Shoes Sneakers For Men</td>\n",
       "    </tr>\n",
       "    <tr>\n",
       "      <th>4</th>\n",
       "      <td>BRUTON</td>\n",
       "      <td>₹299</td>\n",
       "      <td>Super Stylish &amp; Trendy Combo Pack of 02 Pairs ...</td>\n",
       "    </tr>\n",
       "    <tr>\n",
       "      <th>...</th>\n",
       "      <td>...</td>\n",
       "      <td>...</td>\n",
       "      <td>...</td>\n",
       "    </tr>\n",
       "    <tr>\n",
       "      <th>95</th>\n",
       "      <td>Chevit</td>\n",
       "      <td>₹420</td>\n",
       "      <td>Sneakers For Men</td>\n",
       "    </tr>\n",
       "    <tr>\n",
       "      <th>96</th>\n",
       "      <td>Chevit</td>\n",
       "      <td>₹299</td>\n",
       "      <td>Casual Sneakers Shoes For Men Sneakers For Men</td>\n",
       "    </tr>\n",
       "    <tr>\n",
       "      <th>97</th>\n",
       "      <td>Red Rose</td>\n",
       "      <td>₹379</td>\n",
       "      <td>Casual Sneakers Green Shoes For Men And Boys S...</td>\n",
       "    </tr>\n",
       "    <tr>\n",
       "      <th>98</th>\n",
       "      <td>Robbie jones</td>\n",
       "      <td>₹449</td>\n",
       "      <td>SM-322 Sneakers For Men</td>\n",
       "    </tr>\n",
       "    <tr>\n",
       "      <th>99</th>\n",
       "      <td>RapidBox</td>\n",
       "      <td>₹620</td>\n",
       "      <td>Birde Trendy Casual Shoes Sneakers For Men</td>\n",
       "    </tr>\n",
       "  </tbody>\n",
       "</table>\n",
       "<p>100 rows × 3 columns</p>\n",
       "</div>"
      ],
      "text/plain": [
       "           Brand Price                                        ProductDesc\n",
       "0      India hub  ₹429                                   Sneakers For Men\n",
       "1         Chevit  ₹420  Unique & Perfect Collection Combo Pack of 02 S...\n",
       "2       URBANBOX  ₹220     White Sneaker For Men's/Boy's Sneakers For Men\n",
       "3     Shoes Bank  ₹378      Modern Trendy Sneakers Shoes Sneakers For Men\n",
       "4         BRUTON  ₹299  Super Stylish & Trendy Combo Pack of 02 Pairs ...\n",
       "..           ...   ...                                                ...\n",
       "95        Chevit  ₹420                                   Sneakers For Men\n",
       "96        Chevit  ₹299     Casual Sneakers Shoes For Men Sneakers For Men\n",
       "97      Red Rose  ₹379  Casual Sneakers Green Shoes For Men And Boys S...\n",
       "98  Robbie jones  ₹449                            SM-322 Sneakers For Men\n",
       "99      RapidBox  ₹620         Birde Trendy Casual Shoes Sneakers For Men\n",
       "\n",
       "[100 rows x 3 columns]"
      ]
     },
     "execution_count": 118,
     "metadata": {},
     "output_type": "execute_result"
    }
   ],
   "source": [
    "# Prepare a DataFrame with the First 10 job search only\n",
    "\n",
    "sneakers=pd.DataFrame({})\n",
    "sneakers['Brand']=brand[:100]\n",
    "sneakers['Price']=price[:100]\n",
    "sneakers['ProductDesc']=productDescription[:100]\n",
    "\n",
    "sneakers"
   ]
  },
  {
   "cell_type": "code",
   "execution_count": 119,
   "id": "ab4cbff4",
   "metadata": {},
   "outputs": [],
   "source": [
    "driver.close()"
   ]
  },
  {
   "cell_type": "markdown",
   "id": "8b8b5368",
   "metadata": {},
   "source": [
    "# And then scrape First 100 shoes data you get. The data should include \n",
    "“Brand” of the shoes , Short Shoe \n",
    "description, price of the shoe as shown in the below image.\n",
    "Set Price filter to “Rs. 6649 to Rs. 13099” , Color filter to “Black”, as shown in the below image."
   ]
  },
  {
   "cell_type": "code",
   "execution_count": 120,
   "id": "03fbb3dc",
   "metadata": {},
   "outputs": [
    {
     "name": "stderr",
     "output_type": "stream",
     "text": [
      "<ipython-input-120-8abfbf9b0d54>:4: DeprecationWarning: executable_path has been deprecated, please pass in a Service object\n",
      "  driver=webdriver.Chrome(r\"C:/Users/LENOVO/Downloads/chromedriver_win32/chromedriver.exe\")\n"
     ]
    }
   ],
   "source": [
    "# Open the driver\n",
    "\n",
    "\n",
    "driver=webdriver.Chrome(r\"C:/Users/LENOVO/Downloads/chromedriver_win32/chromedriver.exe\")"
   ]
  },
  {
   "cell_type": "code",
   "execution_count": 121,
   "id": "b8773203",
   "metadata": {},
   "outputs": [],
   "source": [
    "# Use the required URL with the driver\n",
    "driver.get('https://www.myntra.com/shoes')"
   ]
  },
  {
   "cell_type": "code",
   "execution_count": 122,
   "id": "198f0a90",
   "metadata": {},
   "outputs": [],
   "source": [
    "url='https://www.myntra.com/shoes?f=Color%3ABlack_36454f&rf=Price%3A7149.0_14099.0_7149.0%20TO%2014099.0%2C7195.0_14130.0_7195.0%20TO%2014130.0%2C7187.0_14125.0_7187.0%20TO%2014125.0'\n"
   ]
  },
  {
   "cell_type": "code",
   "execution_count": 123,
   "id": "e6877ac1",
   "metadata": {},
   "outputs": [],
   "source": [
    "driver.get(url)"
   ]
  },
  {
   "cell_type": "code",
   "execution_count": 124,
   "id": "aad04515",
   "metadata": {},
   "outputs": [],
   "source": [
    "## Need to extract brand ,product description,price\n",
    "brand=[]\n",
    "price=[]\n",
    "productDescription=[]"
   ]
  },
  {
   "cell_type": "code",
   "execution_count": 125,
   "id": "5f4a41f2",
   "metadata": {},
   "outputs": [
    {
     "name": "stderr",
     "output_type": "stream",
     "text": [
      "<ipython-input-125-275c4d23bb72>:3: DeprecationWarning: find_elements_by_* commands are deprecated. Please use find_elements() instead\n",
      "  brand_tag=driver.find_elements_by_xpath(\"//div[@class='search-searchProductsContainer row-base  ']\")\n"
     ]
    },
    {
     "data": {
      "text/plain": [
       "[]"
      ]
     },
     "execution_count": 125,
     "metadata": {},
     "output_type": "execute_result"
    }
   ],
   "source": [
    "# For extracting brand\n",
    "\n",
    "brand_tag=driver.find_elements_by_xpath(\"//div[@class='search-searchProductsContainer row-base  ']\")\n",
    "brand_tag[0:5]"
   ]
  },
  {
   "cell_type": "code",
   "execution_count": 126,
   "id": "5d11fdb7",
   "metadata": {},
   "outputs": [
    {
     "data": {
      "text/plain": [
       "[]"
      ]
     },
     "execution_count": 126,
     "metadata": {},
     "output_type": "execute_result"
    }
   ],
   "source": [
    "# Get text data out of brand_tags\n",
    "for i in brand_tag:\n",
    "    Brand=i.text\n",
    "    brand.append(Brand)\n",
    "brand[0:5]"
   ]
  },
  {
   "cell_type": "code",
   "execution_count": 127,
   "id": "29b9a618",
   "metadata": {},
   "outputs": [
    {
     "name": "stderr",
     "output_type": "stream",
     "text": [
      "<ipython-input-127-2724ceba8ce7>:3: DeprecationWarning: find_elements_by_* commands are deprecated. Please use find_elements() instead\n",
      "  price_tag=driver.find_elements_by_xpath(\"//div[@class='product-price']\")\n"
     ]
    },
    {
     "data": {
      "text/plain": [
       "['Rs. 10499Rs. 14999(30% OFF)',\n",
       " 'Rs. 7799Rs. 12999(40% OFF)',\n",
       " 'Rs. 8099Rs. 8999(10% OFF)',\n",
       " 'Rs. 7999',\n",
       " 'Rs. 9810Rs. 10900(Rs. 1090 OFF)',\n",
       " 'Rs. 7999Rs. 9999(20% OFF)',\n",
       " 'Rs. 8999Rs. 9999(10% OFF)',\n",
       " 'Rs. 7999Rs. 9999(20% OFF)',\n",
       " 'Rs. 8999Rs. 9999(10% OFF)',\n",
       " 'Rs. 7499',\n",
       " 'Rs. 7199Rs. 7999(10% OFF)',\n",
       " 'Rs. 10399Rs. 12999(20% OFF)',\n",
       " 'Rs. 7699',\n",
       " 'Rs. 13299Rs. 18999(30% OFF)',\n",
       " 'Rs. 8999Rs. 9999(10% OFF)',\n",
       " 'Rs. 13900Rs. 15900(Rs. 2000 OFF)',\n",
       " 'Rs. 10875Rs. 14500(Rs. 3625 OFF)',\n",
       " 'Rs. 13999Rs. 19999(30% OFF)',\n",
       " 'Rs. 9599Rs. 11999(20% OFF)',\n",
       " 'Rs. 13125Rs. 17500(Rs. 4375 OFF)',\n",
       " 'Rs. 8999Rs. 9999(10% OFF)',\n",
       " 'Rs. 7999',\n",
       " 'Rs. 8499Rs. 9999(15% OFF)',\n",
       " 'Rs. 8799Rs. 10999(20% OFF)',\n",
       " 'Rs. 7999Rs. 9999(20% OFF)',\n",
       " 'Rs. 8990',\n",
       " 'Rs. 13410Rs. 14900(Rs. 1490 OFF)',\n",
       " 'Rs. 7999',\n",
       " 'Rs. 12375Rs. 16500(Rs. 4125 OFF)',\n",
       " 'Rs. 11999',\n",
       " 'Rs. 10399Rs. 12999(20% OFF)',\n",
       " 'Rs. 8990',\n",
       " 'Rs. 8500Rs. 10500(Rs. 2000 OFF)',\n",
       " 'Rs. 8490',\n",
       " 'Rs. 8399Rs. 11999(30% OFF)',\n",
       " 'Rs. 12510Rs. 13900(Rs. 1390 OFF)',\n",
       " 'Rs. 12375Rs. 16500(Rs. 4125 OFF)',\n",
       " 'Rs. 10875Rs. 14500(Rs. 3625 OFF)',\n",
       " 'Rs. 7149Rs. 10999(35% OFF)',\n",
       " 'Rs. 10500Rs. 10900(Rs. 400 OFF)',\n",
       " 'Rs. 9850Rs. 10900(Rs. 1050 OFF)',\n",
       " 'Rs. 9810Rs. 10900(Rs. 1090 OFF)',\n",
       " 'Rs. 9599Rs. 11999(20% OFF)',\n",
       " 'Rs. 8799Rs. 10999(20% OFF)',\n",
       " 'Rs. 7199Rs. 8999(20% OFF)',\n",
       " 'Rs. 8999Rs. 9999(10% OFF)',\n",
       " 'Rs. 7999',\n",
       " 'Rs. 7990',\n",
       " 'Rs. 13410Rs. 14900(Rs. 1490 OFF)',\n",
       " 'Rs. 7999']"
      ]
     },
     "execution_count": 127,
     "metadata": {},
     "output_type": "execute_result"
    }
   ],
   "source": [
    "# For extracting price\n",
    "\n",
    "price_tag=driver.find_elements_by_xpath(\"//div[@class='product-price']\")\n",
    "for i in price_tag:\n",
    "    Price=i.text\n",
    "    price.append(Price)\n",
    "price"
   ]
  },
  {
   "cell_type": "code",
   "execution_count": 128,
   "id": "d4a416c3",
   "metadata": {},
   "outputs": [
    {
     "name": "stderr",
     "output_type": "stream",
     "text": [
      "<ipython-input-128-bcbcc9d09007>:3: DeprecationWarning: find_elements_by_* commands are deprecated. Please use find_elements() instead\n",
      "  product_tag=driver.find_elements_by_xpath(\"//h4[@class='product-product']\")\n"
     ]
    },
    {
     "data": {
      "text/plain": [
       "['Men GEL-KAYANO 27 Shoes',\n",
       " 'Men Magnify Nitro Running',\n",
       " 'Men Solid Leather Formal Slip-Ons',\n",
       " 'Men Black Running Sports Shoes',\n",
       " 'Men Mid-Top Chelsea Boots',\n",
       " 'Men Leather Flat Boots',\n",
       " 'Men Formal Derbys',\n",
       " 'Men Running Shoes',\n",
       " 'Men Solid Leather Formal Derbys',\n",
       " 'Women Charged Impulse Shft',\n",
       " 'Men Leather Derbys',\n",
       " 'Leather Heeled Knee Boots',\n",
       " 'Men Running Shoes',\n",
       " 'Sneakers',\n",
       " 'Men Solid Leather Formal Slip-Ons',\n",
       " 'Women Leather Heeled Boots',\n",
       " 'Women Leather Heeled Boots',\n",
       " 'Men Formal Leather Brogues',\n",
       " 'Men Textured Leather High-Top Flat Boots',\n",
       " 'Leather Block Heeled Boots',\n",
       " 'Men Solid Formal Slip-Ons',\n",
       " 'Women Charged Vantage ClrShft',\n",
       " 'Men Colourblocked PU Sneakers',\n",
       " 'Men Sneakers',\n",
       " 'Leather Block Heeled Boots',\n",
       " 'Ustraa black',\n",
       " 'Women Leather Heeled Boots',\n",
       " 'Men Solid Leather Formal Loafers',\n",
       " 'Leather High-Top Block Heeled Boots',\n",
       " 'Men Leather Flat Boots',\n",
       " 'Men Wingtip Oxford Sneakers',\n",
       " 'Men Textured Leather Formal Oxfords',\n",
       " 'Leather Boots with Buckles',\n",
       " 'Men Black Leather Loafers',\n",
       " 'Men GENERATION ZEROGRAND STITCHLITE',\n",
       " 'Women Leather Heeled Boots',\n",
       " 'Women Leather Heeled Boots',\n",
       " 'Women Leather Heeled Boots',\n",
       " 'Men Textured Leather Loafers',\n",
       " 'Textured Leather Block Heeled Boots',\n",
       " 'Leather Block Sandals',\n",
       " 'Leather Block Heeled Boots',\n",
       " 'Men Leather Formal Derbys',\n",
       " 'Block Heeled Boots',\n",
       " 'Men Black Walking Shoes',\n",
       " 'Men Solid Formal Leather Slip-Ons',\n",
       " 'Men Solid Leather Formal Loafers',\n",
       " 'Men Solid Leather Formal Derbys',\n",
       " 'Leather Wedge Heeled Boots with Buckles',\n",
       " 'Men Running Shoes']"
      ]
     },
     "execution_count": 128,
     "metadata": {},
     "output_type": "execute_result"
    }
   ],
   "source": [
    "# For extracting product Description\n",
    "\n",
    "product_tag=driver.find_elements_by_xpath(\"//h4[@class='product-product']\")\n",
    "for i in product_tag:\n",
    "    ProductDesc=i.text\n",
    "    productDescription.append(ProductDesc)\n",
    "productDescription"
   ]
  },
  {
   "cell_type": "code",
   "execution_count": 129,
   "id": "7416e509",
   "metadata": {},
   "outputs": [
    {
     "name": "stdout",
     "output_type": "stream",
     "text": [
      "0 50 50\n"
     ]
    }
   ],
   "source": [
    "print(len(brand),len(price),len(productDescription))"
   ]
  },
  {
   "cell_type": "code",
   "execution_count": 130,
   "id": "305e1031",
   "metadata": {},
   "outputs": [
    {
     "name": "stderr",
     "output_type": "stream",
     "text": [
      "<ipython-input-130-3eb96a7444d0>:4: DeprecationWarning: find_elements_by_* commands are deprecated. Please use find_elements() instead\n",
      "  brand_tag=driver.find_elements_by_xpath(\"//div[@class='_2WkVRV']\")\n",
      "<ipython-input-130-3eb96a7444d0>:9: DeprecationWarning: find_elements_by_* commands are deprecated. Please use find_elements() instead\n",
      "  price_tag=driver.find_elements_by_xpath(\"//div[@class='product-price']\")\n",
      "<ipython-input-130-3eb96a7444d0>:14: DeprecationWarning: find_elements_by_* commands are deprecated. Please use find_elements() instead\n",
      "  product_tag=driver.find_elements_by_xpath(\"//h4[@class='product-product']\")\n"
     ]
    }
   ],
   "source": [
    "driver.get(\"https://www.myntra.com/shoes?f=Color%3ABlack_36454f&p=2&rf=Price%3A7149.0_14099.0_7149.0%20TO%2014099.0%2C7195.0_14130.0_7195.0%20TO%2014130.0%2C7187.0_14125.0_7187.0%20TO%2014125.0\")\n",
    "\n",
    "\n",
    "brand_tag=driver.find_elements_by_xpath(\"//div[@class='_2WkVRV']\")\n",
    "for i in brand_tag:\n",
    "    Brand=i.text\n",
    "    brand.append(Brand)\n",
    "    \n",
    "price_tag=driver.find_elements_by_xpath(\"//div[@class='product-price']\")\n",
    "for i in price_tag:\n",
    "    Price=i.text\n",
    "    price.append(Price)\n",
    "\n",
    "product_tag=driver.find_elements_by_xpath(\"//h4[@class='product-product']\")\n",
    "for i in product_tag:\n",
    "    ProductDesc=i.text\n",
    "    productDescription.append(ProductDesc)\n"
   ]
  },
  {
   "cell_type": "code",
   "execution_count": 131,
   "id": "ac12675b",
   "metadata": {},
   "outputs": [
    {
     "data": {
      "text/html": [
       "<div>\n",
       "<style scoped>\n",
       "    .dataframe tbody tr th:only-of-type {\n",
       "        vertical-align: middle;\n",
       "    }\n",
       "\n",
       "    .dataframe tbody tr th {\n",
       "        vertical-align: top;\n",
       "    }\n",
       "\n",
       "    .dataframe thead th {\n",
       "        text-align: right;\n",
       "    }\n",
       "</style>\n",
       "<table border=\"1\" class=\"dataframe\">\n",
       "  <thead>\n",
       "    <tr style=\"text-align: right;\">\n",
       "      <th></th>\n",
       "      <th>Brand</th>\n",
       "      <th>Price</th>\n",
       "      <th>ProductDesc</th>\n",
       "    </tr>\n",
       "  </thead>\n",
       "  <tbody>\n",
       "    <tr>\n",
       "      <th>0</th>\n",
       "      <td>NaN</td>\n",
       "      <td>Rs. 10499Rs. 14999(30% OFF)</td>\n",
       "      <td>Men GEL-KAYANO 27 Shoes</td>\n",
       "    </tr>\n",
       "    <tr>\n",
       "      <th>1</th>\n",
       "      <td>NaN</td>\n",
       "      <td>Rs. 7799Rs. 12999(40% OFF)</td>\n",
       "      <td>Men Magnify Nitro Running</td>\n",
       "    </tr>\n",
       "    <tr>\n",
       "      <th>2</th>\n",
       "      <td>NaN</td>\n",
       "      <td>Rs. 8099Rs. 8999(10% OFF)</td>\n",
       "      <td>Men Solid Leather Formal Slip-Ons</td>\n",
       "    </tr>\n",
       "    <tr>\n",
       "      <th>3</th>\n",
       "      <td>NaN</td>\n",
       "      <td>Rs. 7999</td>\n",
       "      <td>Men Black Running Sports Shoes</td>\n",
       "    </tr>\n",
       "    <tr>\n",
       "      <th>4</th>\n",
       "      <td>NaN</td>\n",
       "      <td>Rs. 9810Rs. 10900(Rs. 1090 OFF)</td>\n",
       "      <td>Men Mid-Top Chelsea Boots</td>\n",
       "    </tr>\n",
       "    <tr>\n",
       "      <th>...</th>\n",
       "      <td>...</td>\n",
       "      <td>...</td>\n",
       "      <td>...</td>\n",
       "    </tr>\n",
       "    <tr>\n",
       "      <th>95</th>\n",
       "      <td>NaN</td>\n",
       "      <td>Rs. 8990</td>\n",
       "      <td>Men Textured Leather Formal Slip-Ons</td>\n",
       "    </tr>\n",
       "    <tr>\n",
       "      <th>96</th>\n",
       "      <td>NaN</td>\n",
       "      <td>Rs. 8490</td>\n",
       "      <td>Men Solid Leather Formal Loafers</td>\n",
       "    </tr>\n",
       "    <tr>\n",
       "      <th>97</th>\n",
       "      <td>NaN</td>\n",
       "      <td>Rs. 11625Rs. 15500(Rs. 3875 OFF)</td>\n",
       "      <td>Women Leather Heeled Boots</td>\n",
       "    </tr>\n",
       "    <tr>\n",
       "      <th>98</th>\n",
       "      <td>NaN</td>\n",
       "      <td>Rs. 11899Rs. 16999(30% OFF)</td>\n",
       "      <td>Women Solid Sneakers</td>\n",
       "    </tr>\n",
       "    <tr>\n",
       "      <th>99</th>\n",
       "      <td>NaN</td>\n",
       "      <td>Rs. 11899Rs. 16999(30% OFF)</td>\n",
       "      <td>Women Leather Loafers</td>\n",
       "    </tr>\n",
       "  </tbody>\n",
       "</table>\n",
       "<p>100 rows × 3 columns</p>\n",
       "</div>"
      ],
      "text/plain": [
       "    Brand                             Price  \\\n",
       "0     NaN       Rs. 10499Rs. 14999(30% OFF)   \n",
       "1     NaN        Rs. 7799Rs. 12999(40% OFF)   \n",
       "2     NaN         Rs. 8099Rs. 8999(10% OFF)   \n",
       "3     NaN                          Rs. 7999   \n",
       "4     NaN   Rs. 9810Rs. 10900(Rs. 1090 OFF)   \n",
       "..    ...                               ...   \n",
       "95    NaN                          Rs. 8990   \n",
       "96    NaN                          Rs. 8490   \n",
       "97    NaN  Rs. 11625Rs. 15500(Rs. 3875 OFF)   \n",
       "98    NaN       Rs. 11899Rs. 16999(30% OFF)   \n",
       "99    NaN       Rs. 11899Rs. 16999(30% OFF)   \n",
       "\n",
       "                             ProductDesc  \n",
       "0                Men GEL-KAYANO 27 Shoes  \n",
       "1              Men Magnify Nitro Running  \n",
       "2      Men Solid Leather Formal Slip-Ons  \n",
       "3         Men Black Running Sports Shoes  \n",
       "4              Men Mid-Top Chelsea Boots  \n",
       "..                                   ...  \n",
       "95  Men Textured Leather Formal Slip-Ons  \n",
       "96      Men Solid Leather Formal Loafers  \n",
       "97            Women Leather Heeled Boots  \n",
       "98                  Women Solid Sneakers  \n",
       "99                 Women Leather Loafers  \n",
       "\n",
       "[100 rows x 3 columns]"
      ]
     },
     "execution_count": 131,
     "metadata": {},
     "output_type": "execute_result"
    }
   ],
   "source": [
    "# Prepare a DataFrame with the First 10 job search only\n",
    "\n",
    "sneakers=pd.DataFrame({})\n",
    "sneakers['Brand']=brand[:100]\n",
    "sneakers['Price']=price[:100]\n",
    "sneakers['ProductDesc']=productDescription[:100]\n",
    "\n",
    "sneakers"
   ]
  },
  {
   "cell_type": "code",
   "execution_count": 132,
   "id": "09c85043",
   "metadata": {},
   "outputs": [],
   "source": [
    "driver.close()"
   ]
  },
  {
   "cell_type": "markdown",
   "id": "a5e88fa5",
   "metadata": {},
   "source": [
    "# 8 Go to webpage https://www.amazon.in/ \n",
    "Enter “Laptop” in the search field and then click the search icon. \n",
    "Then set CPU Type filter to “Intel Core i7” and “Intel Core i9” as shown in the below image:\n",
    "    After setting the filters scrape first 10 laptops data. You have to scrape 3 attributes for each laptop: \n",
    "1. Title \n",
    "2. Ratings \n",
    "3. Price \n"
   ]
  },
  {
   "cell_type": "code",
   "execution_count": 133,
   "id": "6fbc1448",
   "metadata": {},
   "outputs": [
    {
     "name": "stderr",
     "output_type": "stream",
     "text": [
      "<ipython-input-133-8abfbf9b0d54>:4: DeprecationWarning: executable_path has been deprecated, please pass in a Service object\n",
      "  driver=webdriver.Chrome(r\"C:/Users/LENOVO/Downloads/chromedriver_win32/chromedriver.exe\")\n"
     ]
    }
   ],
   "source": [
    "# Open the driver\n",
    "\n",
    "\n",
    "driver=webdriver.Chrome(r\"C:/Users/LENOVO/Downloads/chromedriver_win32/chromedriver.exe\")"
   ]
  },
  {
   "cell_type": "code",
   "execution_count": 134,
   "id": "8e772686",
   "metadata": {},
   "outputs": [],
   "source": [
    "# Use the required URL with the driver\n",
    "driver.get(' https://www.amazon.in/')"
   ]
  },
  {
   "cell_type": "code",
   "execution_count": 135,
   "id": "58be3a97",
   "metadata": {},
   "outputs": [
    {
     "name": "stderr",
     "output_type": "stream",
     "text": [
      "<ipython-input-135-c4881a0345d2>:2: DeprecationWarning: find_element_by_* commands are deprecated. Please use find_element() instead\n",
      "  search_loc=driver.find_element_by_xpath(\"//input[@id='nav-search-submit-button']\")\n"
     ]
    }
   ],
   "source": [
    "# Find the elements for sunglasses \n",
    "search_loc=driver.find_element_by_xpath(\"//input[@id='nav-search-submit-button']\")\n",
    "search_loc.send_keys('laptop')"
   ]
  },
  {
   "cell_type": "code",
   "execution_count": 136,
   "id": "57c1f570",
   "metadata": {},
   "outputs": [
    {
     "name": "stderr",
     "output_type": "stream",
     "text": [
      "<ipython-input-136-c267fa70afa8>:3: DeprecationWarning: find_element_by_* commands are deprecated. Please use find_element() instead\n",
      "  search_btn=driver.find_element_by_xpath(\"//input[@id='nav-search-submit-button']\")\n"
     ]
    }
   ],
   "source": [
    "# Activate the search button for searching the specified J\n",
    "\n",
    "search_btn=driver.find_element_by_xpath(\"//input[@id='nav-search-submit-button']\")\n",
    "search_btn.submit()"
   ]
  },
  {
   "cell_type": "code",
   "execution_count": 137,
   "id": "a91d08f2",
   "metadata": {},
   "outputs": [],
   "source": [
    "url='https://www.amazon.in/s?k=laptop&i=computers&rh=n%3A1375424031%2Cp_n_feature_thirteen_browse-bin%3A12598163031&dc&qid=1639577395&rnid=12598141031&ref=sr_nr_p_n_feature_thirteen_browse-bin_13'"
   ]
  },
  {
   "cell_type": "code",
   "execution_count": 138,
   "id": "1bb84f92",
   "metadata": {},
   "outputs": [],
   "source": [
    "driver.get(url)"
   ]
  },
  {
   "cell_type": "code",
   "execution_count": 139,
   "id": "bba7403e",
   "metadata": {},
   "outputs": [],
   "source": [
    "## Need to extract brand ,product description,price\n",
    "Title=[] \n",
    "Ratings=[] \n",
    "Price=[]"
   ]
  },
  {
   "cell_type": "code",
   "execution_count": 140,
   "id": "23b66ac9",
   "metadata": {},
   "outputs": [
    {
     "name": "stderr",
     "output_type": "stream",
     "text": [
      "<ipython-input-140-a67cb4316192>:3: DeprecationWarning: find_elements_by_* commands are deprecated. Please use find_elements() instead\n",
      "  title_tag=driver.find_elements_by_xpath(\"//span[@class='a-size-medium a-color-base a-text-normal']\")\n"
     ]
    },
    {
     "data": {
      "text/plain": [
       "[<selenium.webdriver.remote.webelement.WebElement (session=\"e9c144036aa62483aa8c49d0feb5ec0d\", element=\"ba068385-4f5f-4409-91b4-e9acd19fe1ed\")>,\n",
       " <selenium.webdriver.remote.webelement.WebElement (session=\"e9c144036aa62483aa8c49d0feb5ec0d\", element=\"752ee88f-22f0-406c-8fe8-a281b097949e\")>,\n",
       " <selenium.webdriver.remote.webelement.WebElement (session=\"e9c144036aa62483aa8c49d0feb5ec0d\", element=\"b2482c82-db9e-43b4-b128-f11f9541162a\")>,\n",
       " <selenium.webdriver.remote.webelement.WebElement (session=\"e9c144036aa62483aa8c49d0feb5ec0d\", element=\"4a407210-30cb-41b3-b8e4-3bd87a15449f\")>,\n",
       " <selenium.webdriver.remote.webelement.WebElement (session=\"e9c144036aa62483aa8c49d0feb5ec0d\", element=\"32d93e9c-ee75-4585-85f2-96345acacdd0\")>]"
      ]
     },
     "execution_count": 140,
     "metadata": {},
     "output_type": "execute_result"
    }
   ],
   "source": [
    "# For extracting brand\n",
    "\n",
    "title_tag=driver.find_elements_by_xpath(\"//span[@class='a-size-medium a-color-base a-text-normal']\")\n",
    "title_tag[0:5]"
   ]
  },
  {
   "cell_type": "code",
   "execution_count": 141,
   "id": "abd37f30",
   "metadata": {},
   "outputs": [
    {
     "data": {
      "text/plain": [
       "['Fujitsu UH-X 11th Gen Intel i7 Core 13.3 inches FHD IPS 400Nits Thin and Light Business Laptop (16GB/512GB SSD/Windows 10/Office/Iris Xe Graphics/Backlit Kb/ Fingerprint Reader/Black/0.878kg), 4ZR1D67596',\n",
       " 'Acer Nitro 5 AN515-57 Gaming Laptop | Intel Core i7-11800H |NVIDIA GeForce RTX 3050 Ti Laptop Graphics |15.6\" FHD 144Hz IPS Display |16GB DDR4 |256GB SSD+1TB HDD |Killer Wi-Fi 6 |RGB Backlit Keyboard',\n",
       " 'Mi Notebook Horizon Edition 14 Intel Core i7-10510U 10th Gen Thin and Light Laptop(8GB/512GB SSD/Windows 10/Nvidia MX350 2GB Graphics/Grey/1.35Kg)(Without Webcam) XMA1904-AF',\n",
       " 'HP Pavilion (2021) Intel 11th Gen Core i7 14 inches FHD Screen Thin & Light Laptop, 16 GB RAM, 1TB SSD, Iris Xe Graphics, Windows 10, MS Office, Backlit Keyboard, 1.41kg (14-dv0058TU)',\n",
       " 'Lenovo IdeaPad 5 Pro 11th Gen Intel Core i7 14\" (35.56cm)QHD IPS Thin & Light Laptop(16GB/512GB SSD/Iris Xe Graphics/3Yr Warranty/Windows 11/Office 2021/Backlit/300Nits/Storm Grey/1.41Kg), 82L3006YIN']"
      ]
     },
     "execution_count": 141,
     "metadata": {},
     "output_type": "execute_result"
    }
   ],
   "source": [
    "# Get text data out of brand_tags\n",
    "for i in title_tag:\n",
    "    title=i.text\n",
    "    Title.append(title)\n",
    "Title[0:5]"
   ]
  },
  {
   "cell_type": "code",
   "execution_count": 142,
   "id": "bbceabe7",
   "metadata": {},
   "outputs": [
    {
     "name": "stderr",
     "output_type": "stream",
     "text": [
      "<ipython-input-142-48103fa8301d>:1: DeprecationWarning: find_elements_by_* commands are deprecated. Please use find_elements() instead\n",
      "  rating_tag=driver.find_elements_by_xpath(\"//div[@class='a-row a-size-small']\")\n"
     ]
    },
    {
     "data": {
      "text/plain": [
       "[<selenium.webdriver.remote.webelement.WebElement (session=\"e9c144036aa62483aa8c49d0feb5ec0d\", element=\"04c316e1-7c81-4147-ad8e-9af4e47452ba\")>,\n",
       " <selenium.webdriver.remote.webelement.WebElement (session=\"e9c144036aa62483aa8c49d0feb5ec0d\", element=\"e9cbe37e-163d-4d66-ade5-e2d436d34352\")>,\n",
       " <selenium.webdriver.remote.webelement.WebElement (session=\"e9c144036aa62483aa8c49d0feb5ec0d\", element=\"9bc88133-ebb2-4aef-a371-b9d2d2b24a55\")>,\n",
       " <selenium.webdriver.remote.webelement.WebElement (session=\"e9c144036aa62483aa8c49d0feb5ec0d\", element=\"fb5fd39d-bb3a-4755-8477-7dcc3419b2b7\")>,\n",
       " <selenium.webdriver.remote.webelement.WebElement (session=\"e9c144036aa62483aa8c49d0feb5ec0d\", element=\"f1df9273-b281-419b-8e97-73158c4c7e50\")>]"
      ]
     },
     "execution_count": 142,
     "metadata": {},
     "output_type": "execute_result"
    }
   ],
   "source": [
    "rating_tag=driver.find_elements_by_xpath(\"//div[@class='a-row a-size-small']\")\n",
    "#get_attribute('aria-label')\n",
    "rating_tag[0:5]"
   ]
  },
  {
   "cell_type": "code",
   "execution_count": 143,
   "id": "be39ab02",
   "metadata": {},
   "outputs": [
    {
     "data": {
      "text/plain": [
       "['28', '1', '973', '522', '561']"
      ]
     },
     "execution_count": 143,
     "metadata": {},
     "output_type": "execute_result"
    }
   ],
   "source": [
    "# Get text data out of brand_tags\n",
    "for i in rating_tag:\n",
    "    rating=i.text\n",
    "    Ratings.append(rating)\n",
    "Ratings[0:5]"
   ]
  },
  {
   "cell_type": "code",
   "execution_count": 144,
   "id": "17e0eda0",
   "metadata": {},
   "outputs": [
    {
     "name": "stderr",
     "output_type": "stream",
     "text": [
      "<ipython-input-144-c72485dd3f7b>:1: DeprecationWarning: find_elements_by_* commands are deprecated. Please use find_elements() instead\n",
      "  price_tag=driver.find_elements_by_xpath(\"//span[@class='a-price']\")\n"
     ]
    },
    {
     "data": {
      "text/plain": [
       "[<selenium.webdriver.remote.webelement.WebElement (session=\"e9c144036aa62483aa8c49d0feb5ec0d\", element=\"e7dcca0b-f263-48b4-8ead-00cccee4332d\")>,\n",
       " <selenium.webdriver.remote.webelement.WebElement (session=\"e9c144036aa62483aa8c49d0feb5ec0d\", element=\"95941a11-ad8c-44d8-a85b-a3a7bedebdf8\")>,\n",
       " <selenium.webdriver.remote.webelement.WebElement (session=\"e9c144036aa62483aa8c49d0feb5ec0d\", element=\"33007fac-f38d-4224-a564-0c5b7322e67e\")>,\n",
       " <selenium.webdriver.remote.webelement.WebElement (session=\"e9c144036aa62483aa8c49d0feb5ec0d\", element=\"6af7a05e-2d33-4a33-b5fd-3647f528aaf1\")>,\n",
       " <selenium.webdriver.remote.webelement.WebElement (session=\"e9c144036aa62483aa8c49d0feb5ec0d\", element=\"5ae83097-ffe7-4faf-90d7-90371f37910b\")>]"
      ]
     },
     "execution_count": 144,
     "metadata": {},
     "output_type": "execute_result"
    }
   ],
   "source": [
    "price_tag=driver.find_elements_by_xpath(\"//span[@class='a-price']\")\n",
    "price_tag[0:5]"
   ]
  },
  {
   "cell_type": "code",
   "execution_count": 145,
   "id": "957a0e83",
   "metadata": {},
   "outputs": [
    {
     "data": {
      "text/plain": [
       "['₹92,990', '₹89,990', '₹52,990', '₹84,490', '₹79,990']"
      ]
     },
     "execution_count": 145,
     "metadata": {},
     "output_type": "execute_result"
    }
   ],
   "source": [
    "# Get text data out of brand_tags\n",
    "for i in price_tag:\n",
    "    price=i.text\n",
    "    Price.append(price)\n",
    "Price[0:5]"
   ]
  },
  {
   "cell_type": "code",
   "execution_count": 146,
   "id": "e98afa51",
   "metadata": {},
   "outputs": [
    {
     "data": {
      "text/html": [
       "<div>\n",
       "<style scoped>\n",
       "    .dataframe tbody tr th:only-of-type {\n",
       "        vertical-align: middle;\n",
       "    }\n",
       "\n",
       "    .dataframe tbody tr th {\n",
       "        vertical-align: top;\n",
       "    }\n",
       "\n",
       "    .dataframe thead th {\n",
       "        text-align: right;\n",
       "    }\n",
       "</style>\n",
       "<table border=\"1\" class=\"dataframe\">\n",
       "  <thead>\n",
       "    <tr style=\"text-align: right;\">\n",
       "      <th></th>\n",
       "      <th>title</th>\n",
       "      <th>ratings</th>\n",
       "      <th>price</th>\n",
       "    </tr>\n",
       "  </thead>\n",
       "  <tbody>\n",
       "    <tr>\n",
       "      <th>0</th>\n",
       "      <td>Fujitsu UH-X 11th Gen Intel i7 Core 13.3 inche...</td>\n",
       "      <td>28</td>\n",
       "      <td>₹92,990</td>\n",
       "    </tr>\n",
       "    <tr>\n",
       "      <th>1</th>\n",
       "      <td>Acer Nitro 5 AN515-57 Gaming Laptop | Intel Co...</td>\n",
       "      <td>1</td>\n",
       "      <td>₹89,990</td>\n",
       "    </tr>\n",
       "    <tr>\n",
       "      <th>2</th>\n",
       "      <td>Mi Notebook Horizon Edition 14 Intel Core i7-1...</td>\n",
       "      <td>973</td>\n",
       "      <td>₹52,990</td>\n",
       "    </tr>\n",
       "    <tr>\n",
       "      <th>3</th>\n",
       "      <td>HP Pavilion (2021) Intel 11th Gen Core i7 14 i...</td>\n",
       "      <td>522</td>\n",
       "      <td>₹84,490</td>\n",
       "    </tr>\n",
       "    <tr>\n",
       "      <th>4</th>\n",
       "      <td>Lenovo IdeaPad 5 Pro 11th Gen Intel Core i7 14...</td>\n",
       "      <td>561</td>\n",
       "      <td>₹79,990</td>\n",
       "    </tr>\n",
       "    <tr>\n",
       "      <th>5</th>\n",
       "      <td>Mi Notebook Ultra 3.2K resolution display Inte...</td>\n",
       "      <td>12</td>\n",
       "      <td>₹77,999</td>\n",
       "    </tr>\n",
       "    <tr>\n",
       "      <th>6</th>\n",
       "      <td>Lenovo Legion 5 11th Gen Intel Core i7 15.6\"(3...</td>\n",
       "      <td>1</td>\n",
       "      <td>₹99,990</td>\n",
       "    </tr>\n",
       "    <tr>\n",
       "      <th>7</th>\n",
       "      <td>Acer Nitro 5 AN515-57 Gaming Laptop | Intel Co...</td>\n",
       "      <td>9</td>\n",
       "      <td>₹89,990</td>\n",
       "    </tr>\n",
       "    <tr>\n",
       "      <th>8</th>\n",
       "      <td>ASUS VivoBook 14 (2021), 14-inch (35.56 cms) F...</td>\n",
       "      <td>42</td>\n",
       "      <td>₹64,990</td>\n",
       "    </tr>\n",
       "    <tr>\n",
       "      <th>9</th>\n",
       "      <td>Dell 15 (2021) Intel i7-10870H Gaming Laptop, ...</td>\n",
       "      <td>195</td>\n",
       "      <td>₹95,289</td>\n",
       "    </tr>\n",
       "  </tbody>\n",
       "</table>\n",
       "</div>"
      ],
      "text/plain": [
       "                                               title ratings    price\n",
       "0  Fujitsu UH-X 11th Gen Intel i7 Core 13.3 inche...      28  ₹92,990\n",
       "1  Acer Nitro 5 AN515-57 Gaming Laptop | Intel Co...       1  ₹89,990\n",
       "2  Mi Notebook Horizon Edition 14 Intel Core i7-1...     973  ₹52,990\n",
       "3  HP Pavilion (2021) Intel 11th Gen Core i7 14 i...     522  ₹84,490\n",
       "4  Lenovo IdeaPad 5 Pro 11th Gen Intel Core i7 14...     561  ₹79,990\n",
       "5  Mi Notebook Ultra 3.2K resolution display Inte...      12  ₹77,999\n",
       "6  Lenovo Legion 5 11th Gen Intel Core i7 15.6\"(3...       1  ₹99,990\n",
       "7  Acer Nitro 5 AN515-57 Gaming Laptop | Intel Co...       9  ₹89,990\n",
       "8  ASUS VivoBook 14 (2021), 14-inch (35.56 cms) F...      42  ₹64,990\n",
       "9  Dell 15 (2021) Intel i7-10870H Gaming Laptop, ...     195  ₹95,289"
      ]
     },
     "execution_count": 146,
     "metadata": {},
     "output_type": "execute_result"
    }
   ],
   "source": [
    "# Prepare a DataFrame with the First 10 laptop description\n",
    "\n",
    "laptop=pd.DataFrame({})\n",
    "laptop['title']=Title[:10]\n",
    "laptop['ratings']=Ratings[:10]\n",
    "laptop['price']=Price[:10]\n",
    "\n",
    "laptop"
   ]
  },
  {
   "cell_type": "code",
   "execution_count": 148,
   "id": "97d451ef",
   "metadata": {},
   "outputs": [],
   "source": [
    "driver.close()"
   ]
  },
  {
   "cell_type": "markdown",
   "id": "1688c03b",
   "metadata": {},
   "source": [
    "# 9 Write a python program to scrape data for first 10 job results for \n",
    "Data Scientist Designation in Noida location. You have to scrape company name, No. of days ago when job was posted, Rating of the company."
   ]
  },
  {
   "cell_type": "code",
   "execution_count": 149,
   "id": "03ff40db",
   "metadata": {},
   "outputs": [
    {
     "name": "stderr",
     "output_type": "stream",
     "text": [
      "<ipython-input-149-eb384377f2af>:3: DeprecationWarning: executable_path has been deprecated, please pass in a Service object\n",
      "  driver=webdriver.Chrome(r\"C:/Users/LENOVO/Downloads/chromedriver_win32/chromedriver.exe\")\n"
     ]
    }
   ],
   "source": [
    "# Open the driver\n",
    "\n",
    "driver=webdriver.Chrome(r\"C:/Users/LENOVO/Downloads/chromedriver_win32/chromedriver.exe\")"
   ]
  },
  {
   "cell_type": "code",
   "execution_count": 150,
   "id": "07a2a31b",
   "metadata": {},
   "outputs": [],
   "source": [
    "# Use the required URL with the driver\n",
    "driver.get('https://www.ambitionbox.com/jobs')"
   ]
  },
  {
   "cell_type": "code",
   "execution_count": 151,
   "id": "72c15f87",
   "metadata": {},
   "outputs": [
    {
     "name": "stderr",
     "output_type": "stream",
     "text": [
      "<ipython-input-151-b7462f28c678>:2: DeprecationWarning: find_element_by_* commands are deprecated. Please use find_element() instead\n",
      "  search_job=driver.find_element_by_id('jobs-typeahead')\n",
      "<ipython-input-151-b7462f28c678>:6: DeprecationWarning: find_element_by_* commands are deprecated. Please use find_element() instead\n",
      "  search_btn=driver.find_element_by_xpath(\"//button[@class='ab_btn search-btn round']\")\n"
     ]
    }
   ],
   "source": [
    "# Find the elements for job search of Data Analyst at Banglore\n",
    "search_job=driver.find_element_by_id('jobs-typeahead')\n",
    "search_job.click()\n",
    "# Activate the search button for searching the specified Jab with location\n",
    "\n",
    "search_btn=driver.find_element_by_xpath(\"//button[@class='ab_btn search-btn round']\")\n",
    "search_btn.click()"
   ]
  },
  {
   "cell_type": "code",
   "execution_count": 152,
   "id": "5097cd56",
   "metadata": {},
   "outputs": [
    {
     "name": "stderr",
     "output_type": "stream",
     "text": [
      "<ipython-input-152-828f19fe54d2>:1: DeprecationWarning: find_element_by_* commands are deprecated. Please use find_element() instead\n",
      "  search_type=driver.find_element_by_xpath(\"//input[@class='input tt-input']\")\n",
      "<ipython-input-152-828f19fe54d2>:5: DeprecationWarning: find_element_by_* commands are deprecated. Please use find_element() instead\n",
      "  search_btn=driver.find_element_by_xpath(\"//button[@class='ab_btn search-btn round']\")\n"
     ]
    }
   ],
   "source": [
    "search_type=driver.find_element_by_xpath(\"//input[@class='input tt-input']\")\n",
    "search_type.send_keys('Data scientist')\n",
    "\n",
    "# Activate the search button for searching the specified Jab with location\n",
    "search_btn=driver.find_element_by_xpath(\"//button[@class='ab_btn search-btn round']\")\n",
    "search_btn.click()"
   ]
  },
  {
   "cell_type": "code",
   "execution_count": 153,
   "id": "0a8771df",
   "metadata": {},
   "outputs": [],
   "source": [
    "url='https://www.ambitionbox.com/jobs/search?tag=Data%20scientist&location=Noida'\n",
    "driver.get(url)"
   ]
  },
  {
   "cell_type": "code",
   "execution_count": 154,
   "id": "86b9ac27",
   "metadata": {},
   "outputs": [],
   "source": [
    "## Need to extract Job_titles,Company_names,Location_list,experience_list,job_description\n",
    "\n",
    "company_name=[]\n",
    "job_posted=[]\n",
    "Rating =[]"
   ]
  },
  {
   "cell_type": "code",
   "execution_count": 155,
   "id": "cf5b95da",
   "metadata": {},
   "outputs": [
    {
     "name": "stderr",
     "output_type": "stream",
     "text": [
      "<ipython-input-155-274a3cae68a1>:3: DeprecationWarning: find_elements_by_* commands are deprecated. Please use find_elements() instead\n",
      "  company_tag=driver.find_elements_by_xpath(\"//p[@class='company body-medium']\")\n"
     ]
    },
    {
     "data": {
      "text/plain": [
       "[<selenium.webdriver.remote.webelement.WebElement (session=\"448dc92b08dc4a2d1ccbf543c9e856ab\", element=\"922e20d0-2173-4d9e-a8c5-2b6cbf6b6b75\")>,\n",
       " <selenium.webdriver.remote.webelement.WebElement (session=\"448dc92b08dc4a2d1ccbf543c9e856ab\", element=\"f460b8e2-a42a-4a2c-b87d-059b25f377f5\")>,\n",
       " <selenium.webdriver.remote.webelement.WebElement (session=\"448dc92b08dc4a2d1ccbf543c9e856ab\", element=\"ca9475bc-d5d6-450e-8b7d-68419cc5bbc6\")>,\n",
       " <selenium.webdriver.remote.webelement.WebElement (session=\"448dc92b08dc4a2d1ccbf543c9e856ab\", element=\"13a80c8c-4ace-42a3-9f01-cb358377fd56\")>,\n",
       " <selenium.webdriver.remote.webelement.WebElement (session=\"448dc92b08dc4a2d1ccbf543c9e856ab\", element=\"df0b51dd-36c4-49f3-b127-b12d55922fe8\")>]"
      ]
     },
     "execution_count": 155,
     "metadata": {},
     "output_type": "execute_result"
    }
   ],
   "source": [
    "# For extracting Company Name\n",
    "\n",
    "company_tag=driver.find_elements_by_xpath(\"//p[@class='company body-medium']\")\n",
    "company_tag[0:5]"
   ]
  },
  {
   "cell_type": "code",
   "execution_count": 156,
   "id": "0ef25c38",
   "metadata": {},
   "outputs": [
    {
     "data": {
      "text/plain": [
       "['LG Electronics India Pvt. Ltd.',\n",
       " 'WNS India',\n",
       " 'Jubilant Foodworks Limited',\n",
       " 'GENPACT India Private Limited',\n",
       " 'GENPACT India Private Limited']"
      ]
     },
     "execution_count": 156,
     "metadata": {},
     "output_type": "execute_result"
    }
   ],
   "source": [
    "# Get text data out of company_tag\n",
    "for i in company_tag:\n",
    "    company=i.text\n",
    "    company_name.append(company)\n",
    "company_name[0:5]"
   ]
  },
  {
   "cell_type": "code",
   "execution_count": 157,
   "id": "78d102d0",
   "metadata": {},
   "outputs": [
    {
     "name": "stderr",
     "output_type": "stream",
     "text": [
      "<ipython-input-157-394949ee785d>:3: DeprecationWarning: find_elements_by_* commands are deprecated. Please use find_elements() instead\n",
      "  rating_tag=driver.find_elements_by_xpath(\"//span[@class='body-small']\")\n"
     ]
    },
    {
     "data": {
      "text/plain": [
       "[<selenium.webdriver.remote.webelement.WebElement (session=\"448dc92b08dc4a2d1ccbf543c9e856ab\", element=\"b4bc892e-062f-4b35-a75e-f0b4ce05bcfe\")>,\n",
       " <selenium.webdriver.remote.webelement.WebElement (session=\"448dc92b08dc4a2d1ccbf543c9e856ab\", element=\"65d9c8e9-ddf2-42d8-9a87-f0bd9e9d88e9\")>,\n",
       " <selenium.webdriver.remote.webelement.WebElement (session=\"448dc92b08dc4a2d1ccbf543c9e856ab\", element=\"29c10931-2536-4d1f-ae6d-44b725fde096\")>,\n",
       " <selenium.webdriver.remote.webelement.WebElement (session=\"448dc92b08dc4a2d1ccbf543c9e856ab\", element=\"201e5872-df01-4a68-a4c5-414b67bcbe1c\")>,\n",
       " <selenium.webdriver.remote.webelement.WebElement (session=\"448dc92b08dc4a2d1ccbf543c9e856ab\", element=\"6488ac2e-fff8-4d24-8781-68c7fb71bb6d\")>]"
      ]
     },
     "execution_count": 157,
     "metadata": {},
     "output_type": "execute_result"
    }
   ],
   "source": [
    "# For extracting rating\n",
    "\n",
    "rating_tag=driver.find_elements_by_xpath(\"//span[@class='body-small']\")\n",
    "rating_tag[0:5]"
   ]
  },
  {
   "cell_type": "code",
   "execution_count": 158,
   "id": "cacfd955",
   "metadata": {},
   "outputs": [
    {
     "data": {
      "text/plain": [
       "['4.1', '3.7', '3.9', '4.0', '4.0']"
      ]
     },
     "execution_count": 158,
     "metadata": {},
     "output_type": "execute_result"
    }
   ],
   "source": [
    "# Get text data out of rating\n",
    "for i in rating_tag:\n",
    "    rating=i.text\n",
    "    Rating.append(rating)\n",
    "Rating[0:5]"
   ]
  },
  {
   "cell_type": "code",
   "execution_count": 159,
   "id": "3c16f659",
   "metadata": {},
   "outputs": [
    {
     "name": "stderr",
     "output_type": "stream",
     "text": [
      "<ipython-input-159-27608f3b601e>:3: DeprecationWarning: find_elements_by_* commands are deprecated. Please use find_elements() instead\n",
      "  posting_tag=driver.find_elements_by_xpath(\"//span[@class='body-small-l']\")\n"
     ]
    },
    {
     "data": {
      "text/plain": [
       "[<selenium.webdriver.remote.webelement.WebElement (session=\"448dc92b08dc4a2d1ccbf543c9e856ab\", element=\"9ad3d78e-402a-49bc-bd13-55fd1e718053\")>,\n",
       " <selenium.webdriver.remote.webelement.WebElement (session=\"448dc92b08dc4a2d1ccbf543c9e856ab\", element=\"70a28ff3-c43c-4e27-93f9-206a3642cabb\")>,\n",
       " <selenium.webdriver.remote.webelement.WebElement (session=\"448dc92b08dc4a2d1ccbf543c9e856ab\", element=\"a332c476-5abf-41fe-b1f8-022deea18f32\")>,\n",
       " <selenium.webdriver.remote.webelement.WebElement (session=\"448dc92b08dc4a2d1ccbf543c9e856ab\", element=\"ff095c91-79bf-4cc3-9aff-69d6754dde42\")>,\n",
       " <selenium.webdriver.remote.webelement.WebElement (session=\"448dc92b08dc4a2d1ccbf543c9e856ab\", element=\"bf9a1551-0a52-4d52-ae28-47198ae017c6\")>]"
      ]
     },
     "execution_count": 159,
     "metadata": {},
     "output_type": "execute_result"
    }
   ],
   "source": [
    "# For extracting posting date\n",
    "\n",
    "posting_tag=driver.find_elements_by_xpath(\"//span[@class='body-small-l']\")\n",
    "posting_tag[0:5]"
   ]
  },
  {
   "cell_type": "code",
   "execution_count": 160,
   "id": "eb4e9cc7",
   "metadata": {},
   "outputs": [
    {
     "data": {
      "text/plain": [
       "['14d ago', 'via naukri.com', '1d ago', 'via naukri.com', '4d ago']"
      ]
     },
     "execution_count": 160,
     "metadata": {},
     "output_type": "execute_result"
    }
   ],
   "source": [
    "# Get text data out of posting\n",
    "for i in posting_tag:\n",
    "    posting=i.text\n",
    "    job_posted.append(posting)\n",
    "job_posted[0:5]"
   ]
  },
  {
   "cell_type": "code",
   "execution_count": 161,
   "id": "a2da9769",
   "metadata": {},
   "outputs": [
    {
     "data": {
      "text/html": [
       "<div>\n",
       "<style scoped>\n",
       "    .dataframe tbody tr th:only-of-type {\n",
       "        vertical-align: middle;\n",
       "    }\n",
       "\n",
       "    .dataframe tbody tr th {\n",
       "        vertical-align: top;\n",
       "    }\n",
       "\n",
       "    .dataframe thead th {\n",
       "        text-align: right;\n",
       "    }\n",
       "</style>\n",
       "<table border=\"1\" class=\"dataframe\">\n",
       "  <thead>\n",
       "    <tr style=\"text-align: right;\">\n",
       "      <th></th>\n",
       "      <th>company_name</th>\n",
       "      <th>job_posted</th>\n",
       "      <th>Rating</th>\n",
       "    </tr>\n",
       "  </thead>\n",
       "  <tbody>\n",
       "    <tr>\n",
       "      <th>0</th>\n",
       "      <td>LG Electronics India Pvt. Ltd.</td>\n",
       "      <td>14d ago</td>\n",
       "      <td>4.1</td>\n",
       "    </tr>\n",
       "    <tr>\n",
       "      <th>1</th>\n",
       "      <td>WNS India</td>\n",
       "      <td>via naukri.com</td>\n",
       "      <td>3.7</td>\n",
       "    </tr>\n",
       "    <tr>\n",
       "      <th>2</th>\n",
       "      <td>Jubilant Foodworks Limited</td>\n",
       "      <td>1d ago</td>\n",
       "      <td>3.9</td>\n",
       "    </tr>\n",
       "    <tr>\n",
       "      <th>3</th>\n",
       "      <td>GENPACT India Private Limited</td>\n",
       "      <td>via naukri.com</td>\n",
       "      <td>4.0</td>\n",
       "    </tr>\n",
       "    <tr>\n",
       "      <th>4</th>\n",
       "      <td>GENPACT India Private Limited</td>\n",
       "      <td>4d ago</td>\n",
       "      <td>4.0</td>\n",
       "    </tr>\n",
       "    <tr>\n",
       "      <th>5</th>\n",
       "      <td>NTT Data Business Solutions Pvt Ltd</td>\n",
       "      <td>via naukri.com</td>\n",
       "      <td>3.8</td>\n",
       "    </tr>\n",
       "    <tr>\n",
       "      <th>6</th>\n",
       "      <td>GENPACT India Private Limited</td>\n",
       "      <td>21d ago</td>\n",
       "      <td>4.0</td>\n",
       "    </tr>\n",
       "    <tr>\n",
       "      <th>7</th>\n",
       "      <td>GI Group</td>\n",
       "      <td>via naukri.com</td>\n",
       "      <td>4.1</td>\n",
       "    </tr>\n",
       "    <tr>\n",
       "      <th>8</th>\n",
       "      <td>GI Group</td>\n",
       "      <td>21d ago</td>\n",
       "      <td>4.1</td>\n",
       "    </tr>\n",
       "    <tr>\n",
       "      <th>9</th>\n",
       "      <td>GI Group</td>\n",
       "      <td>via naukri.com</td>\n",
       "      <td>4.1</td>\n",
       "    </tr>\n",
       "  </tbody>\n",
       "</table>\n",
       "</div>"
      ],
      "text/plain": [
       "                          company_name      job_posted Rating\n",
       "0       LG Electronics India Pvt. Ltd.         14d ago    4.1\n",
       "1                            WNS India  via naukri.com    3.7\n",
       "2           Jubilant Foodworks Limited          1d ago    3.9\n",
       "3        GENPACT India Private Limited  via naukri.com    4.0\n",
       "4        GENPACT India Private Limited          4d ago    4.0\n",
       "5  NTT Data Business Solutions Pvt Ltd  via naukri.com    3.8\n",
       "6        GENPACT India Private Limited         21d ago    4.0\n",
       "7                             GI Group  via naukri.com    4.1\n",
       "8                             GI Group         21d ago    4.1\n",
       "9                             GI Group  via naukri.com    4.1"
      ]
     },
     "execution_count": 161,
     "metadata": {},
     "output_type": "execute_result"
    }
   ],
   "source": [
    "# Prepare a DataFrame with the First 10 job description\n",
    "\n",
    "job=pd.DataFrame({})\n",
    "job['company_name']=company_name[:10]\n",
    "job['job_posted']=job_posted[:10]\n",
    "job['Rating']=Rating[:10]\n",
    "\n",
    "job"
   ]
  },
  {
   "cell_type": "code",
   "execution_count": 163,
   "id": "3af78389",
   "metadata": {},
   "outputs": [],
   "source": [
    "driver.close()"
   ]
  },
  {
   "cell_type": "markdown",
   "id": "8248223d",
   "metadata": {},
   "source": [
    "# 10 Write a python program to scrape the salary data for Data Scientist designation. \n",
    "You have to scrape Company name, Number of salaries, Average salary, Min salary, Max Salary."
   ]
  },
  {
   "cell_type": "code",
   "execution_count": 164,
   "id": "47e03c3b",
   "metadata": {},
   "outputs": [
    {
     "name": "stderr",
     "output_type": "stream",
     "text": [
      "<ipython-input-164-eb384377f2af>:3: DeprecationWarning: executable_path has been deprecated, please pass in a Service object\n",
      "  driver=webdriver.Chrome(r\"C:/Users/LENOVO/Downloads/chromedriver_win32/chromedriver.exe\")\n"
     ]
    }
   ],
   "source": [
    "# Open the driver\n",
    "\n",
    "driver=webdriver.Chrome(r\"C:/Users/LENOVO/Downloads/chromedriver_win32/chromedriver.exe\")"
   ]
  },
  {
   "cell_type": "code",
   "execution_count": 165,
   "id": "8c6142d9",
   "metadata": {},
   "outputs": [],
   "source": [
    "# Use the required URL with the driver\n",
    "driver.get('https://www.ambitionbox.com/jobs')"
   ]
  },
  {
   "cell_type": "code",
   "execution_count": 166,
   "id": "e6ba3c55",
   "metadata": {},
   "outputs": [
    {
     "name": "stderr",
     "output_type": "stream",
     "text": [
      "<ipython-input-166-fb7a8156f30d>:1: DeprecationWarning: find_element_by_* commands are deprecated. Please use find_element() instead\n",
      "  salary=driver.find_element_by_xpath(\"//a[@class='router-link-exact-active router-link-active']\")\n"
     ]
    }
   ],
   "source": [
    "salary=driver.find_element_by_xpath(\"//a[@class='router-link-exact-active router-link-active']\")\n",
    "salary.click()"
   ]
  },
  {
   "cell_type": "code",
   "execution_count": 167,
   "id": "e8edd108",
   "metadata": {},
   "outputs": [],
   "source": [
    "url='https://www.ambitionbox.com/salaries'\n",
    "driver.get(url)"
   ]
  },
  {
   "cell_type": "code",
   "execution_count": 168,
   "id": "650fbcc1",
   "metadata": {},
   "outputs": [
    {
     "name": "stderr",
     "output_type": "stream",
     "text": [
      "<ipython-input-168-19f750e95d9e>:1: DeprecationWarning: find_element_by_* commands are deprecated. Please use find_element() instead\n",
      "  search_type=driver.find_element_by_xpath(\"//input[@id='jobProfileSearchbox']\")\n",
      "<ipython-input-168-19f750e95d9e>:5: DeprecationWarning: find_element_by_* commands are deprecated. Please use find_element() instead\n",
      "  search_btn=driver.find_element_by_xpath(\"//button[@class='ab_btn search-btn round component-search-btn']\")\n"
     ]
    }
   ],
   "source": [
    "search_type=driver.find_element_by_xpath(\"//input[@id='jobProfileSearchbox']\")\n",
    "search_type.send_keys('Data scientist')\n",
    "\n",
    "# Activate the search button for searching the specified Jab with location\n",
    "search_btn=driver.find_element_by_xpath(\"//button[@class='ab_btn search-btn round component-search-btn']\")\n",
    "search_btn.click()"
   ]
  },
  {
   "cell_type": "code",
   "execution_count": 169,
   "id": "9f69e32c",
   "metadata": {},
   "outputs": [],
   "source": [
    "## Need to extract Company name, Number of salaries, Average salary, Min salary, Max Salary\n",
    "\n",
    "company_name_Salary=[]\n",
    "\n",
    "Avg_salary =[]\n",
    "Min_Max_salary=[]"
   ]
  },
  {
   "cell_type": "code",
   "execution_count": 170,
   "id": "08a9a00e",
   "metadata": {},
   "outputs": [
    {
     "name": "stderr",
     "output_type": "stream",
     "text": [
      "<ipython-input-170-2842d723df86>:3: DeprecationWarning: find_elements_by_* commands are deprecated. Please use find_elements() instead\n",
      "  company_tag=driver.find_elements_by_xpath(\"//div[@class='name']\")\n"
     ]
    },
    {
     "data": {
      "text/plain": [
       "['Indegene\\nbased on 23 salaries',\n",
       " 'TCS\\nbased on 11 salaries',\n",
       " 'Freelance Consultants\\nbased on 76 salaries',\n",
       " 'R.R. Donnelley\\nbased on 75 salaries',\n",
       " 'Flatworld Solutions\\nbased on 10 salaries',\n",
       " 'Amazon\\nbased on 13 salaries',\n",
       " 'Freelancer.Com\\nbased on 222 salaries',\n",
       " 'Edufic Digital\\nbased on 14 salaries',\n",
       " 'Inscribe Graphics\\nbased on 12 salaries',\n",
       " 'Printo Document Services\\nbased on 22 salaries']"
      ]
     },
     "execution_count": 170,
     "metadata": {},
     "output_type": "execute_result"
    }
   ],
   "source": [
    "# For extracting Company Name\n",
    "\n",
    "company_tag=driver.find_elements_by_xpath(\"//div[@class='name']\")\n",
    "for i in company_tag:\n",
    "    company=i.text\n",
    "    company_name_Salary.append(company)\n",
    "company_name_Salary"
   ]
  },
  {
   "cell_type": "code",
   "execution_count": 171,
   "id": "e184193f",
   "metadata": {},
   "outputs": [
    {
     "name": "stderr",
     "output_type": "stream",
     "text": [
      "<ipython-input-171-264228b3be09>:3: DeprecationWarning: find_elements_by_* commands are deprecated. Please use find_elements() instead\n",
      "  min_max_salary_tag=driver.find_elements_by_xpath(\"//div[@class='salary-values']\")\n"
     ]
    },
    {
     "data": {
      "text/plain": [
       "['₹ 3.5L\\n₹ 6.0L',\n",
       " '₹ 2.5L\\n₹ 5.5L',\n",
       " '₹ 1.5L\\n₹ 5.0L',\n",
       " '₹ 2.0L\\n₹ 4.2L',\n",
       " '₹ 2.0L\\n₹ 4.0L',\n",
       " '₹ 2.2L\\n₹ 4.5L',\n",
       " '₹ 1.1L\\n₹ 5.0L',\n",
       " '₹ 2.2L\\n₹ 3.3L',\n",
       " '₹ 1.5L\\n₹ 4.0L',\n",
       " '₹ 1.9L\\n₹ 4.3L']"
      ]
     },
     "execution_count": 171,
     "metadata": {},
     "output_type": "execute_result"
    }
   ],
   "source": [
    "# For extracting  Min Salaries\n",
    "\n",
    "min_max_salary_tag=driver.find_elements_by_xpath(\"//div[@class='salary-values']\")\n",
    "for i in min_max_salary_tag:\n",
    "    min_max_salary=i.text\n",
    "    Min_Max_salary.append(min_max_salary)\n",
    "Min_Max_salary"
   ]
  },
  {
   "cell_type": "code",
   "execution_count": 172,
   "id": "72cb789b",
   "metadata": {},
   "outputs": [
    {
     "name": "stderr",
     "output_type": "stream",
     "text": [
      "<ipython-input-172-f46591758373>:3: DeprecationWarning: find_elements_by_* commands are deprecated. Please use find_elements() instead\n",
      "  avg_salary_tag=driver.find_elements_by_xpath(\"//div[@class='solid-salary-bar salary-bar-wrapper']\")\n"
     ]
    },
    {
     "data": {
      "text/plain": [
       "['₹ 4.5L',\n",
       " '₹ 3.9L',\n",
       " '₹ 2.9L',\n",
       " '₹ 2.9L',\n",
       " '₹ 2.8L',\n",
       " '₹ 2.8L',\n",
       " '₹ 2.8L',\n",
       " '₹ 2.8L',\n",
       " '₹ 2.7L',\n",
       " '₹ 2.6L']"
      ]
     },
     "execution_count": 172,
     "metadata": {},
     "output_type": "execute_result"
    }
   ],
   "source": [
    "# For extracting  Avg Salaries\n",
    "\n",
    "avg_salary_tag=driver.find_elements_by_xpath(\"//div[@class='solid-salary-bar salary-bar-wrapper']\")\n",
    "for i in avg_salary_tag:\n",
    "    avgsalary=i.text\n",
    "    Avg_salary.append(avgsalary)\n",
    "Avg_salary"
   ]
  },
  {
   "cell_type": "code",
   "execution_count": 173,
   "id": "4ff548f5",
   "metadata": {},
   "outputs": [
    {
     "data": {
      "text/html": [
       "<div>\n",
       "<style scoped>\n",
       "    .dataframe tbody tr th:only-of-type {\n",
       "        vertical-align: middle;\n",
       "    }\n",
       "\n",
       "    .dataframe tbody tr th {\n",
       "        vertical-align: top;\n",
       "    }\n",
       "\n",
       "    .dataframe thead th {\n",
       "        text-align: right;\n",
       "    }\n",
       "</style>\n",
       "<table border=\"1\" class=\"dataframe\">\n",
       "  <thead>\n",
       "    <tr style=\"text-align: right;\">\n",
       "      <th></th>\n",
       "      <th>company_name_Salary</th>\n",
       "      <th>Min_Max_salary</th>\n",
       "      <th>Avg_salary</th>\n",
       "    </tr>\n",
       "  </thead>\n",
       "  <tbody>\n",
       "    <tr>\n",
       "      <th>0</th>\n",
       "      <td>Indegene\\nbased on 23 salaries</td>\n",
       "      <td>₹ 3.5L\\n₹ 6.0L</td>\n",
       "      <td>₹ 4.5L</td>\n",
       "    </tr>\n",
       "    <tr>\n",
       "      <th>1</th>\n",
       "      <td>TCS\\nbased on 11 salaries</td>\n",
       "      <td>₹ 2.5L\\n₹ 5.5L</td>\n",
       "      <td>₹ 3.9L</td>\n",
       "    </tr>\n",
       "    <tr>\n",
       "      <th>2</th>\n",
       "      <td>Freelance Consultants\\nbased on 76 salaries</td>\n",
       "      <td>₹ 1.5L\\n₹ 5.0L</td>\n",
       "      <td>₹ 2.9L</td>\n",
       "    </tr>\n",
       "    <tr>\n",
       "      <th>3</th>\n",
       "      <td>R.R. Donnelley\\nbased on 75 salaries</td>\n",
       "      <td>₹ 2.0L\\n₹ 4.2L</td>\n",
       "      <td>₹ 2.9L</td>\n",
       "    </tr>\n",
       "    <tr>\n",
       "      <th>4</th>\n",
       "      <td>Flatworld Solutions\\nbased on 10 salaries</td>\n",
       "      <td>₹ 2.0L\\n₹ 4.0L</td>\n",
       "      <td>₹ 2.8L</td>\n",
       "    </tr>\n",
       "    <tr>\n",
       "      <th>5</th>\n",
       "      <td>Amazon\\nbased on 13 salaries</td>\n",
       "      <td>₹ 2.2L\\n₹ 4.5L</td>\n",
       "      <td>₹ 2.8L</td>\n",
       "    </tr>\n",
       "    <tr>\n",
       "      <th>6</th>\n",
       "      <td>Freelancer.Com\\nbased on 222 salaries</td>\n",
       "      <td>₹ 1.1L\\n₹ 5.0L</td>\n",
       "      <td>₹ 2.8L</td>\n",
       "    </tr>\n",
       "    <tr>\n",
       "      <th>7</th>\n",
       "      <td>Edufic Digital\\nbased on 14 salaries</td>\n",
       "      <td>₹ 2.2L\\n₹ 3.3L</td>\n",
       "      <td>₹ 2.8L</td>\n",
       "    </tr>\n",
       "    <tr>\n",
       "      <th>8</th>\n",
       "      <td>Inscribe Graphics\\nbased on 12 salaries</td>\n",
       "      <td>₹ 1.5L\\n₹ 4.0L</td>\n",
       "      <td>₹ 2.7L</td>\n",
       "    </tr>\n",
       "    <tr>\n",
       "      <th>9</th>\n",
       "      <td>Printo Document Services\\nbased on 22 salaries</td>\n",
       "      <td>₹ 1.9L\\n₹ 4.3L</td>\n",
       "      <td>₹ 2.6L</td>\n",
       "    </tr>\n",
       "  </tbody>\n",
       "</table>\n",
       "</div>"
      ],
      "text/plain": [
       "                              company_name_Salary  Min_Max_salary Avg_salary\n",
       "0                  Indegene\\nbased on 23 salaries  ₹ 3.5L\\n₹ 6.0L     ₹ 4.5L\n",
       "1                       TCS\\nbased on 11 salaries  ₹ 2.5L\\n₹ 5.5L     ₹ 3.9L\n",
       "2     Freelance Consultants\\nbased on 76 salaries  ₹ 1.5L\\n₹ 5.0L     ₹ 2.9L\n",
       "3            R.R. Donnelley\\nbased on 75 salaries  ₹ 2.0L\\n₹ 4.2L     ₹ 2.9L\n",
       "4       Flatworld Solutions\\nbased on 10 salaries  ₹ 2.0L\\n₹ 4.0L     ₹ 2.8L\n",
       "5                    Amazon\\nbased on 13 salaries  ₹ 2.2L\\n₹ 4.5L     ₹ 2.8L\n",
       "6           Freelancer.Com\\nbased on 222 salaries  ₹ 1.1L\\n₹ 5.0L     ₹ 2.8L\n",
       "7            Edufic Digital\\nbased on 14 salaries  ₹ 2.2L\\n₹ 3.3L     ₹ 2.8L\n",
       "8         Inscribe Graphics\\nbased on 12 salaries  ₹ 1.5L\\n₹ 4.0L     ₹ 2.7L\n",
       "9  Printo Document Services\\nbased on 22 salaries  ₹ 1.9L\\n₹ 4.3L     ₹ 2.6L"
      ]
     },
     "execution_count": 173,
     "metadata": {},
     "output_type": "execute_result"
    }
   ],
   "source": [
    "# Prepare a DataFrame with the First 10 job description\n",
    "\n",
    "job=pd.DataFrame({})\n",
    "job['company_name_Salary']=company_name_Salary[:10]\n",
    "\n",
    "job['Min_Max_salary']=Min_Max_salary[:10]\n",
    "job['Avg_salary']=Avg_salary[:10]\n",
    "\n",
    "\n",
    "job"
   ]
  },
  {
   "cell_type": "code",
   "execution_count": 174,
   "id": "05ba4188",
   "metadata": {},
   "outputs": [],
   "source": [
    "driver.close()"
   ]
  },
  {
   "cell_type": "code",
   "execution_count": null,
   "id": "facf0fe6",
   "metadata": {},
   "outputs": [],
   "source": []
  }
 ],
 "metadata": {
  "kernelspec": {
   "display_name": "Python 3",
   "language": "python",
   "name": "python3"
  },
  "language_info": {
   "codemirror_mode": {
    "name": "ipython",
    "version": 3
   },
   "file_extension": ".py",
   "mimetype": "text/x-python",
   "name": "python",
   "nbconvert_exporter": "python",
   "pygments_lexer": "ipython3",
   "version": "3.8.8"
  }
 },
 "nbformat": 4,
 "nbformat_minor": 5
}
