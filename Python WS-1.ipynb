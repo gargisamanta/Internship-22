{
 "cells": [
  {
   "cell_type": "code",
   "execution_count": 2,
   "id": "ac186d49",
   "metadata": {},
   "outputs": [],
   "source": [
    "# Worksheet_set_1(Python worksheet-1)"
   ]
  },
  {
   "cell_type": "code",
   "execution_count": 3,
   "id": "8ae512f0",
   "metadata": {},
   "outputs": [
    {
     "data": {
      "text/plain": [
       "'11. Write a python program to find the factorial of a number.\\n12. Write a python program to find whether a number is prime or composite.\\n13. Write a python program to check whether a given string is palindrome or not.\\n14. Write a Python program to get the third side of right-angled triangle from two given sides.\\n15. Write a python program to print the frequency of each of the characters present in a given string'"
      ]
     },
     "execution_count": 3,
     "metadata": {},
     "output_type": "execute_result"
    }
   ],
   "source": [
    "'''11. Write a python program to find the factorial of a number.\n",
    "12. Write a python program to find whether a number is prime or composite.\n",
    "13. Write a python program to check whether a given string is palindrome or not.\n",
    "14. Write a Python program to get the third side of right-angled triangle from two given sides.\n",
    "15. Write a python program to print the frequency of each of the characters present in a given string'''"
   ]
  },
  {
   "cell_type": "markdown",
   "id": "3ffeb96f",
   "metadata": {},
   "source": [
    "# Write a python program to find the factorial of a number."
   ]
  },
  {
   "cell_type": "code",
   "execution_count": 7,
   "id": "3520e94b",
   "metadata": {},
   "outputs": [
    {
     "name": "stdout",
     "output_type": "stream",
     "text": [
      "Enter a number:6\n",
      "The factorial of a no is: 720\n"
     ]
    },
    {
     "data": {
      "text/plain": [
       "720"
      ]
     },
     "execution_count": 7,
     "metadata": {},
     "output_type": "execute_result"
    }
   ],
   "source": [
    "def factorial(n):\n",
    "    fact=1\n",
    "    i=1\n",
    "    while(i<=n):\n",
    "        fact=fact*i\n",
    "        i=i+1\n",
    "    return fact\n",
    "n=int(input('Enter a number:'))\n",
    "result=factorial(n)\n",
    "print('The factorial of a no is:',result)\n",
    "factorial(n)\n",
    "\n",
    "        "
   ]
  },
  {
   "cell_type": "markdown",
   "id": "4b7fec3a",
   "metadata": {},
   "source": [
    "# Write a python program to find whether a number is prime or composite."
   ]
  },
  {
   "cell_type": "code",
   "execution_count": 2,
   "id": "f8411f15",
   "metadata": {},
   "outputs": [
    {
     "name": "stdout",
     "output_type": "stream",
     "text": [
      "Enter a number:7\n",
      "7 The number is not prime but a compositre no\n"
     ]
    }
   ],
   "source": [
    "n=int(input('Enter a number:'))\n",
    "if n>1:\n",
    "    for i in range(2,n):\n",
    "        if( n % i)==0:\n",
    "            print(n,'The number is not prime number')\n",
    "            break   \n",
    "    else:\n",
    "        print(n,'The number is not prime but a compositre no')\n",
    "elif n==0 or 1:\n",
    "     print(n, \"The number is neither Prime nor composite\")"
   ]
  },
  {
   "cell_type": "markdown",
   "id": "b988fc82",
   "metadata": {},
   "source": [
    "# Write a python program to check whether a given string is palindrome or not."
   ]
  },
  {
   "cell_type": "code",
   "execution_count": 14,
   "id": "878065f1",
   "metadata": {},
   "outputs": [
    {
     "name": "stdout",
     "output_type": "stream",
     "text": [
      "Enter a string:Madam\n",
      "The string is palindrome\n"
     ]
    }
   ],
   "source": [
    "s=input('Enter a string:')\n",
    "s1=s.upper()\n",
    "for i in range (0,len(s1)):\n",
    "    if s1[i:]==s1[::-1]:\n",
    "        print ('The string is palindrome')\n",
    "        break\n",
    "else:\n",
    "    print('Not a palindrome')"
   ]
  },
  {
   "cell_type": "markdown",
   "id": "a4b3790a",
   "metadata": {},
   "source": [
    "# Write a Python program to get the third side of right-angled triangle from two given sides."
   ]
  },
  {
   "cell_type": "code",
   "execution_count": 12,
   "id": "bf5a6e49",
   "metadata": {},
   "outputs": [
    {
     "name": "stdout",
     "output_type": "stream",
     "text": [
      "Enter a number4\n",
      "Enter another number5\n",
      "The third  side of a right angled triangle is:\n"
     ]
    },
    {
     "data": {
      "text/plain": [
       "6.4031242374328485"
      ]
     },
     "execution_count": 12,
     "metadata": {},
     "output_type": "execute_result"
    }
   ],
   "source": [
    "from math import sqrt\n",
    "def hypotenuse(a,b):\n",
    "    h=sqrt(a**2 + b**2)\n",
    "    return h\n",
    "a=int(input('Enter a number'))\n",
    "b=int(input('Enter another number'))\n",
    "result=hypotenuse(a,b)\n",
    "print(\"The third  side of a right angled triangle is:\")\n",
    "hypotenuse(a,b)"
   ]
  },
  {
   "cell_type": "markdown",
   "id": "7cf0cc5d",
   "metadata": {},
   "source": [
    "# Write a python program to print the frequency of each of the characters present in a given string"
   ]
  },
  {
   "cell_type": "code",
   "execution_count": 5,
   "id": "a046df58",
   "metadata": {},
   "outputs": [
    {
     "name": "stdout",
     "output_type": "stream",
     "text": [
      "Enter a string:Madam\n",
      "{'M': 2, 'A': 2, 'D': 1}\n"
     ]
    }
   ],
   "source": [
    "s=input('Enter a string:')\n",
    "s1=s.upper()\n",
    "dict={}\n",
    "for i in s1:\n",
    "    if i in dict:\n",
    "        dict[i] +=1\n",
    "    else:\n",
    "        dict[i]=1 \n",
    "print(dict)\n",
    "    "
   ]
  },
  {
   "cell_type": "code",
   "execution_count": null,
   "id": "9287c231",
   "metadata": {},
   "outputs": [],
   "source": []
  }
 ],
 "metadata": {
  "kernelspec": {
   "display_name": "Python 3",
   "language": "python",
   "name": "python3"
  },
  "language_info": {
   "codemirror_mode": {
    "name": "ipython",
    "version": 3
   },
   "file_extension": ".py",
   "mimetype": "text/x-python",
   "name": "python",
   "nbconvert_exporter": "python",
   "pygments_lexer": "ipython3",
   "version": "3.8.8"
  }
 },
 "nbformat": 4,
 "nbformat_minor": 5
}
